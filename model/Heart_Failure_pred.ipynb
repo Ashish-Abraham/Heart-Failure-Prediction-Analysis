{
  "nbformat": 4,
  "nbformat_minor": 0,
  "metadata": {
    "colab": {
      "name": "Heart_Failure_pred.ipynb",
      "provenance": [],
      "collapsed_sections": []
    },
    "kernelspec": {
      "display_name": "Python 3",
      "name": "python3"
    },
    "language_info": {
      "name": "python"
    }
  },
  "cells": [
    {
      "cell_type": "markdown",
      "metadata": {
        "id": "9CftuZ6ua4zY"
      },
      "source": [
        "## **Importing Dependencies**"
      ]
    },
    {
      "cell_type": "code",
      "metadata": {
        "id": "pB4cvAErY885"
      },
      "source": [
        "import pandas as pd\n",
        "import numpy as np\n",
        "import pickle\n",
        "\n",
        "import matplotlib.pyplot as plt\n",
        "import seaborn as sns\n",
        "import plotly.figure_factory as ff\n",
        "import plotly.graph_objs as go\n",
        "import plotly.express as px\n",
        "\n",
        "from sklearn.ensemble import GradientBoostingClassifier, RandomForestClassifier\n",
        "from sklearn.linear_model import LogisticRegression\n",
        "from sklearn.model_selection import train_test_split\n",
        "from sklearn.metrics import confusion_matrix, accuracy_score\n",
        "from mlxtend.plotting import plot_confusion_matrix\n",
        "\n"
      ],
      "execution_count": 2,
      "outputs": []
    },
    {
      "cell_type": "markdown",
      "metadata": {
        "id": "tLkadz8ebis8"
      },
      "source": [
        "## **Importing Dataset**"
      ]
    },
    {
      "cell_type": "code",
      "metadata": {
        "colab": {
          "base_uri": "https://localhost:8080/",
          "height": 442
        },
        "id": "Eq3AGjHxbnf3",
        "outputId": "a7217beb-bcba-4131-b727-4c3893435ba5"
      },
      "source": [
        "data=pd.read_csv('/content/heart_failure_clinical_records_dataset (1).csv')\n",
        "data"
      ],
      "execution_count": 3,
      "outputs": [
        {
          "output_type": "execute_result",
          "data": {
            "text/html": [
              "<div>\n",
              "<style scoped>\n",
              "    .dataframe tbody tr th:only-of-type {\n",
              "        vertical-align: middle;\n",
              "    }\n",
              "\n",
              "    .dataframe tbody tr th {\n",
              "        vertical-align: top;\n",
              "    }\n",
              "\n",
              "    .dataframe thead th {\n",
              "        text-align: right;\n",
              "    }\n",
              "</style>\n",
              "<table border=\"1\" class=\"dataframe\">\n",
              "  <thead>\n",
              "    <tr style=\"text-align: right;\">\n",
              "      <th></th>\n",
              "      <th>age</th>\n",
              "      <th>anaemia</th>\n",
              "      <th>creatinine_phosphokinase</th>\n",
              "      <th>diabetes</th>\n",
              "      <th>ejection_fraction</th>\n",
              "      <th>high_blood_pressure</th>\n",
              "      <th>platelets</th>\n",
              "      <th>serum_creatinine</th>\n",
              "      <th>serum_sodium</th>\n",
              "      <th>sex</th>\n",
              "      <th>smoking</th>\n",
              "      <th>time</th>\n",
              "      <th>DEATH_EVENT</th>\n",
              "    </tr>\n",
              "  </thead>\n",
              "  <tbody>\n",
              "    <tr>\n",
              "      <th>0</th>\n",
              "      <td>75.0</td>\n",
              "      <td>0</td>\n",
              "      <td>582</td>\n",
              "      <td>0</td>\n",
              "      <td>20</td>\n",
              "      <td>1</td>\n",
              "      <td>265000.00</td>\n",
              "      <td>1.9</td>\n",
              "      <td>130</td>\n",
              "      <td>1</td>\n",
              "      <td>0</td>\n",
              "      <td>4</td>\n",
              "      <td>1</td>\n",
              "    </tr>\n",
              "    <tr>\n",
              "      <th>1</th>\n",
              "      <td>55.0</td>\n",
              "      <td>0</td>\n",
              "      <td>7861</td>\n",
              "      <td>0</td>\n",
              "      <td>38</td>\n",
              "      <td>0</td>\n",
              "      <td>263358.03</td>\n",
              "      <td>1.1</td>\n",
              "      <td>136</td>\n",
              "      <td>1</td>\n",
              "      <td>0</td>\n",
              "      <td>6</td>\n",
              "      <td>1</td>\n",
              "    </tr>\n",
              "    <tr>\n",
              "      <th>2</th>\n",
              "      <td>65.0</td>\n",
              "      <td>0</td>\n",
              "      <td>146</td>\n",
              "      <td>0</td>\n",
              "      <td>20</td>\n",
              "      <td>0</td>\n",
              "      <td>162000.00</td>\n",
              "      <td>1.3</td>\n",
              "      <td>129</td>\n",
              "      <td>1</td>\n",
              "      <td>1</td>\n",
              "      <td>7</td>\n",
              "      <td>1</td>\n",
              "    </tr>\n",
              "    <tr>\n",
              "      <th>3</th>\n",
              "      <td>50.0</td>\n",
              "      <td>1</td>\n",
              "      <td>111</td>\n",
              "      <td>0</td>\n",
              "      <td>20</td>\n",
              "      <td>0</td>\n",
              "      <td>210000.00</td>\n",
              "      <td>1.9</td>\n",
              "      <td>137</td>\n",
              "      <td>1</td>\n",
              "      <td>0</td>\n",
              "      <td>7</td>\n",
              "      <td>1</td>\n",
              "    </tr>\n",
              "    <tr>\n",
              "      <th>4</th>\n",
              "      <td>65.0</td>\n",
              "      <td>1</td>\n",
              "      <td>160</td>\n",
              "      <td>1</td>\n",
              "      <td>20</td>\n",
              "      <td>0</td>\n",
              "      <td>327000.00</td>\n",
              "      <td>2.7</td>\n",
              "      <td>116</td>\n",
              "      <td>0</td>\n",
              "      <td>0</td>\n",
              "      <td>8</td>\n",
              "      <td>1</td>\n",
              "    </tr>\n",
              "    <tr>\n",
              "      <th>...</th>\n",
              "      <td>...</td>\n",
              "      <td>...</td>\n",
              "      <td>...</td>\n",
              "      <td>...</td>\n",
              "      <td>...</td>\n",
              "      <td>...</td>\n",
              "      <td>...</td>\n",
              "      <td>...</td>\n",
              "      <td>...</td>\n",
              "      <td>...</td>\n",
              "      <td>...</td>\n",
              "      <td>...</td>\n",
              "      <td>...</td>\n",
              "    </tr>\n",
              "    <tr>\n",
              "      <th>294</th>\n",
              "      <td>62.0</td>\n",
              "      <td>0</td>\n",
              "      <td>61</td>\n",
              "      <td>1</td>\n",
              "      <td>38</td>\n",
              "      <td>1</td>\n",
              "      <td>155000.00</td>\n",
              "      <td>1.1</td>\n",
              "      <td>143</td>\n",
              "      <td>1</td>\n",
              "      <td>1</td>\n",
              "      <td>270</td>\n",
              "      <td>0</td>\n",
              "    </tr>\n",
              "    <tr>\n",
              "      <th>295</th>\n",
              "      <td>55.0</td>\n",
              "      <td>0</td>\n",
              "      <td>1820</td>\n",
              "      <td>0</td>\n",
              "      <td>38</td>\n",
              "      <td>0</td>\n",
              "      <td>270000.00</td>\n",
              "      <td>1.2</td>\n",
              "      <td>139</td>\n",
              "      <td>0</td>\n",
              "      <td>0</td>\n",
              "      <td>271</td>\n",
              "      <td>0</td>\n",
              "    </tr>\n",
              "    <tr>\n",
              "      <th>296</th>\n",
              "      <td>45.0</td>\n",
              "      <td>0</td>\n",
              "      <td>2060</td>\n",
              "      <td>1</td>\n",
              "      <td>60</td>\n",
              "      <td>0</td>\n",
              "      <td>742000.00</td>\n",
              "      <td>0.8</td>\n",
              "      <td>138</td>\n",
              "      <td>0</td>\n",
              "      <td>0</td>\n",
              "      <td>278</td>\n",
              "      <td>0</td>\n",
              "    </tr>\n",
              "    <tr>\n",
              "      <th>297</th>\n",
              "      <td>45.0</td>\n",
              "      <td>0</td>\n",
              "      <td>2413</td>\n",
              "      <td>0</td>\n",
              "      <td>38</td>\n",
              "      <td>0</td>\n",
              "      <td>140000.00</td>\n",
              "      <td>1.4</td>\n",
              "      <td>140</td>\n",
              "      <td>1</td>\n",
              "      <td>1</td>\n",
              "      <td>280</td>\n",
              "      <td>0</td>\n",
              "    </tr>\n",
              "    <tr>\n",
              "      <th>298</th>\n",
              "      <td>50.0</td>\n",
              "      <td>0</td>\n",
              "      <td>196</td>\n",
              "      <td>0</td>\n",
              "      <td>45</td>\n",
              "      <td>0</td>\n",
              "      <td>395000.00</td>\n",
              "      <td>1.6</td>\n",
              "      <td>136</td>\n",
              "      <td>1</td>\n",
              "      <td>1</td>\n",
              "      <td>285</td>\n",
              "      <td>0</td>\n",
              "    </tr>\n",
              "  </tbody>\n",
              "</table>\n",
              "<p>299 rows × 13 columns</p>\n",
              "</div>"
            ],
            "text/plain": [
              "      age  anaemia  creatinine_phosphokinase  ...  smoking  time  DEATH_EVENT\n",
              "0    75.0        0                       582  ...        0     4            1\n",
              "1    55.0        0                      7861  ...        0     6            1\n",
              "2    65.0        0                       146  ...        1     7            1\n",
              "3    50.0        1                       111  ...        0     7            1\n",
              "4    65.0        1                       160  ...        0     8            1\n",
              "..    ...      ...                       ...  ...      ...   ...          ...\n",
              "294  62.0        0                        61  ...        1   270            0\n",
              "295  55.0        0                      1820  ...        0   271            0\n",
              "296  45.0        0                      2060  ...        0   278            0\n",
              "297  45.0        0                      2413  ...        1   280            0\n",
              "298  50.0        0                       196  ...        1   285            0\n",
              "\n",
              "[299 rows x 13 columns]"
            ]
          },
          "metadata": {},
          "execution_count": 3
        }
      ]
    },
    {
      "cell_type": "code",
      "metadata": {
        "colab": {
          "base_uri": "https://localhost:8080/"
        },
        "id": "c8TKCVSJcOdR",
        "outputId": "72853d30-3e92-4c50-b673-c552c14bed0c"
      },
      "source": [
        "data= data.dropna()\n",
        "data=data.drop(columns='time',axis=0)\n",
        "data.rename(columns = {'DEATH_EVENT':'Target'}, inplace = True)\n",
        "print(data.isnull().sum())"
      ],
      "execution_count": 4,
      "outputs": [
        {
          "output_type": "stream",
          "name": "stdout",
          "text": [
            "age                         0\n",
            "anaemia                     0\n",
            "creatinine_phosphokinase    0\n",
            "diabetes                    0\n",
            "ejection_fraction           0\n",
            "high_blood_pressure         0\n",
            "platelets                   0\n",
            "serum_creatinine            0\n",
            "serum_sodium                0\n",
            "sex                         0\n",
            "smoking                     0\n",
            "Target                      0\n",
            "dtype: int64\n"
          ]
        }
      ]
    },
    {
      "cell_type": "markdown",
      "metadata": {
        "id": "0eFxCVZ7dTa7"
      },
      "source": [
        "## **Analysing dataset to get necessary insights**"
      ]
    },
    {
      "cell_type": "code",
      "metadata": {
        "colab": {
          "base_uri": "https://localhost:8080/",
          "height": 309
        },
        "id": "dYmbEq2JdMvg",
        "outputId": "040f3209-4d4e-4891-ae4b-bba7bb77bd7f"
      },
      "source": [
        "data.corr().style.background_gradient(cmap='coolwarm')"
      ],
      "execution_count": 5,
      "outputs": [
        {
          "output_type": "execute_result",
          "data": {
            "text/html": [
              "<style  type=\"text/css\" >\n",
              "#T_19e28fea_1202_11ec_b6c7_0242ac1c0002row0_col0,#T_19e28fea_1202_11ec_b6c7_0242ac1c0002row1_col1,#T_19e28fea_1202_11ec_b6c7_0242ac1c0002row2_col2,#T_19e28fea_1202_11ec_b6c7_0242ac1c0002row3_col3,#T_19e28fea_1202_11ec_b6c7_0242ac1c0002row4_col4,#T_19e28fea_1202_11ec_b6c7_0242ac1c0002row5_col5,#T_19e28fea_1202_11ec_b6c7_0242ac1c0002row6_col6,#T_19e28fea_1202_11ec_b6c7_0242ac1c0002row7_col7,#T_19e28fea_1202_11ec_b6c7_0242ac1c0002row8_col8,#T_19e28fea_1202_11ec_b6c7_0242ac1c0002row9_col9,#T_19e28fea_1202_11ec_b6c7_0242ac1c0002row10_col10,#T_19e28fea_1202_11ec_b6c7_0242ac1c0002row11_col11{\n",
              "            background-color:  #b40426;\n",
              "            color:  #f1f1f1;\n",
              "        }#T_19e28fea_1202_11ec_b6c7_0242ac1c0002row0_col1,#T_19e28fea_1202_11ec_b6c7_0242ac1c0002row5_col4{\n",
              "            background-color:  #86a9fc;\n",
              "            color:  #000000;\n",
              "        }#T_19e28fea_1202_11ec_b6c7_0242ac1c0002row0_col2,#T_19e28fea_1202_11ec_b6c7_0242ac1c0002row7_col5{\n",
              "            background-color:  #5673e0;\n",
              "            color:  #000000;\n",
              "        }#T_19e28fea_1202_11ec_b6c7_0242ac1c0002row0_col3,#T_19e28fea_1202_11ec_b6c7_0242ac1c0002row8_col0{\n",
              "            background-color:  #4961d2;\n",
              "            color:  #f1f1f1;\n",
              "        }#T_19e28fea_1202_11ec_b6c7_0242ac1c0002row0_col4,#T_19e28fea_1202_11ec_b6c7_0242ac1c0002row2_col11{\n",
              "            background-color:  #90b2fe;\n",
              "            color:  #000000;\n",
              "        }#T_19e28fea_1202_11ec_b6c7_0242ac1c0002row0_col5,#T_19e28fea_1202_11ec_b6c7_0242ac1c0002row2_col4,#T_19e28fea_1202_11ec_b6c7_0242ac1c0002row5_col0{\n",
              "            background-color:  #7396f5;\n",
              "            color:  #000000;\n",
              "        }#T_19e28fea_1202_11ec_b6c7_0242ac1c0002row0_col6{\n",
              "            background-color:  #4e68d8;\n",
              "            color:  #000000;\n",
              "        }#T_19e28fea_1202_11ec_b6c7_0242ac1c0002row0_col7{\n",
              "            background-color:  #9bbcff;\n",
              "            color:  #000000;\n",
              "        }#T_19e28fea_1202_11ec_b6c7_0242ac1c0002row0_col8,#T_19e28fea_1202_11ec_b6c7_0242ac1c0002row4_col2,#T_19e28fea_1202_11ec_b6c7_0242ac1c0002row6_col1,#T_19e28fea_1202_11ec_b6c7_0242ac1c0002row6_col7{\n",
              "            background-color:  #6180e9;\n",
              "            color:  #000000;\n",
              "        }#T_19e28fea_1202_11ec_b6c7_0242ac1c0002row0_col9,#T_19e28fea_1202_11ec_b6c7_0242ac1c0002row3_col6,#T_19e28fea_1202_11ec_b6c7_0242ac1c0002row5_col1,#T_19e28fea_1202_11ec_b6c7_0242ac1c0002row5_col8{\n",
              "            background-color:  #799cf8;\n",
              "            color:  #000000;\n",
              "        }#T_19e28fea_1202_11ec_b6c7_0242ac1c0002row0_col10,#T_19e28fea_1202_11ec_b6c7_0242ac1c0002row2_col7,#T_19e28fea_1202_11ec_b6c7_0242ac1c0002row4_col0,#T_19e28fea_1202_11ec_b6c7_0242ac1c0002row7_col2{\n",
              "            background-color:  #688aef;\n",
              "            color:  #000000;\n",
              "        }#T_19e28fea_1202_11ec_b6c7_0242ac1c0002row0_col11{\n",
              "            background-color:  #c4d5f3;\n",
              "            color:  #000000;\n",
              "        }#T_19e28fea_1202_11ec_b6c7_0242ac1c0002row1_col0{\n",
              "            background-color:  #7093f3;\n",
              "            color:  #000000;\n",
              "        }#T_19e28fea_1202_11ec_b6c7_0242ac1c0002row1_col2,#T_19e28fea_1202_11ec_b6c7_0242ac1c0002row2_col1,#T_19e28fea_1202_11ec_b6c7_0242ac1c0002row3_col0,#T_19e28fea_1202_11ec_b6c7_0242ac1c0002row3_col9,#T_19e28fea_1202_11ec_b6c7_0242ac1c0002row3_col10,#T_19e28fea_1202_11ec_b6c7_0242ac1c0002row4_col11,#T_19e28fea_1202_11ec_b6c7_0242ac1c0002row8_col7,#T_19e28fea_1202_11ec_b6c7_0242ac1c0002row9_col3,#T_19e28fea_1202_11ec_b6c7_0242ac1c0002row9_col5,#T_19e28fea_1202_11ec_b6c7_0242ac1c0002row9_col6,#T_19e28fea_1202_11ec_b6c7_0242ac1c0002row11_col4,#T_19e28fea_1202_11ec_b6c7_0242ac1c0002row11_col8{\n",
              "            background-color:  #3b4cc0;\n",
              "            color:  #f1f1f1;\n",
              "        }#T_19e28fea_1202_11ec_b6c7_0242ac1c0002row1_col3,#T_19e28fea_1202_11ec_b6c7_0242ac1c0002row2_col3,#T_19e28fea_1202_11ec_b6c7_0242ac1c0002row5_col3,#T_19e28fea_1202_11ec_b6c7_0242ac1c0002row8_col5{\n",
              "            background-color:  #6282ea;\n",
              "            color:  #000000;\n",
              "        }#T_19e28fea_1202_11ec_b6c7_0242ac1c0002row1_col4,#T_19e28fea_1202_11ec_b6c7_0242ac1c0002row7_col0{\n",
              "            background-color:  #88abfd;\n",
              "            color:  #000000;\n",
              "        }#T_19e28fea_1202_11ec_b6c7_0242ac1c0002row1_col5,#T_19e28fea_1202_11ec_b6c7_0242ac1c0002row2_col10,#T_19e28fea_1202_11ec_b6c7_0242ac1c0002row4_col3,#T_19e28fea_1202_11ec_b6c7_0242ac1c0002row8_col10,#T_19e28fea_1202_11ec_b6c7_0242ac1c0002row11_col9{\n",
              "            background-color:  #6384eb;\n",
              "            color:  #000000;\n",
              "        }#T_19e28fea_1202_11ec_b6c7_0242ac1c0002row1_col6{\n",
              "            background-color:  #506bda;\n",
              "            color:  #000000;\n",
              "        }#T_19e28fea_1202_11ec_b6c7_0242ac1c0002row1_col7,#T_19e28fea_1202_11ec_b6c7_0242ac1c0002row7_col4,#T_19e28fea_1202_11ec_b6c7_0242ac1c0002row10_col11{\n",
              "            background-color:  #7b9ff9;\n",
              "            color:  #000000;\n",
              "        }#T_19e28fea_1202_11ec_b6c7_0242ac1c0002row1_col8,#T_19e28fea_1202_11ec_b6c7_0242ac1c0002row8_col1{\n",
              "            background-color:  #7a9df8;\n",
              "            color:  #000000;\n",
              "        }#T_19e28fea_1202_11ec_b6c7_0242ac1c0002row1_col9{\n",
              "            background-color:  #4a63d3;\n",
              "            color:  #f1f1f1;\n",
              "        }#T_19e28fea_1202_11ec_b6c7_0242ac1c0002row1_col10{\n",
              "            background-color:  #445acc;\n",
              "            color:  #f1f1f1;\n",
              "        }#T_19e28fea_1202_11ec_b6c7_0242ac1c0002row1_col11{\n",
              "            background-color:  #92b4fe;\n",
              "            color:  #000000;\n",
              "        }#T_19e28fea_1202_11ec_b6c7_0242ac1c0002row2_col0{\n",
              "            background-color:  #3f53c6;\n",
              "            color:  #f1f1f1;\n",
              "        }#T_19e28fea_1202_11ec_b6c7_0242ac1c0002row2_col5,#T_19e28fea_1202_11ec_b6c7_0242ac1c0002row6_col9{\n",
              "            background-color:  #4358cb;\n",
              "            color:  #f1f1f1;\n",
              "        }#T_19e28fea_1202_11ec_b6c7_0242ac1c0002row2_col6,#T_19e28fea_1202_11ec_b6c7_0242ac1c0002row10_col6,#T_19e28fea_1202_11ec_b6c7_0242ac1c0002row10_col7,#T_19e28fea_1202_11ec_b6c7_0242ac1c0002row11_col3{\n",
              "            background-color:  #6485ec;\n",
              "            color:  #000000;\n",
              "        }#T_19e28fea_1202_11ec_b6c7_0242ac1c0002row2_col8,#T_19e28fea_1202_11ec_b6c7_0242ac1c0002row11_col2{\n",
              "            background-color:  #80a3fa;\n",
              "            color:  #000000;\n",
              "        }#T_19e28fea_1202_11ec_b6c7_0242ac1c0002row2_col9,#T_19e28fea_1202_11ec_b6c7_0242ac1c0002row7_col1{\n",
              "            background-color:  #7da0f9;\n",
              "            color:  #000000;\n",
              "        }#T_19e28fea_1202_11ec_b6c7_0242ac1c0002row3_col1,#T_19e28fea_1202_11ec_b6c7_0242ac1c0002row3_col2,#T_19e28fea_1202_11ec_b6c7_0242ac1c0002row4_col7,#T_19e28fea_1202_11ec_b6c7_0242ac1c0002row9_col0{\n",
              "            background-color:  #6a8bef;\n",
              "            color:  #000000;\n",
              "        }#T_19e28fea_1202_11ec_b6c7_0242ac1c0002row3_col4,#T_19e28fea_1202_11ec_b6c7_0242ac1c0002row3_col11,#T_19e28fea_1202_11ec_b6c7_0242ac1c0002row8_col2,#T_19e28fea_1202_11ec_b6c7_0242ac1c0002row9_col11{\n",
              "            background-color:  #7ea1fa;\n",
              "            color:  #000000;\n",
              "        }#T_19e28fea_1202_11ec_b6c7_0242ac1c0002row3_col5{\n",
              "            background-color:  #5470de;\n",
              "            color:  #000000;\n",
              "        }#T_19e28fea_1202_11ec_b6c7_0242ac1c0002row3_col7,#T_19e28fea_1202_11ec_b6c7_0242ac1c0002row11_col10{\n",
              "            background-color:  #5f7fe8;\n",
              "            color:  #000000;\n",
              "        }#T_19e28fea_1202_11ec_b6c7_0242ac1c0002row3_col8{\n",
              "            background-color:  #5572df;\n",
              "            color:  #000000;\n",
              "        }#T_19e28fea_1202_11ec_b6c7_0242ac1c0002row4_col1{\n",
              "            background-color:  #7699f6;\n",
              "            color:  #000000;\n",
              "        }#T_19e28fea_1202_11ec_b6c7_0242ac1c0002row4_col5{\n",
              "            background-color:  #5e7de7;\n",
              "            color:  #000000;\n",
              "        }#T_19e28fea_1202_11ec_b6c7_0242ac1c0002row4_col6,#T_19e28fea_1202_11ec_b6c7_0242ac1c0002row6_col11{\n",
              "            background-color:  #7295f4;\n",
              "            color:  #000000;\n",
              "        }#T_19e28fea_1202_11ec_b6c7_0242ac1c0002row4_col8{\n",
              "            background-color:  #a2c1ff;\n",
              "            color:  #000000;\n",
              "        }#T_19e28fea_1202_11ec_b6c7_0242ac1c0002row4_col9,#T_19e28fea_1202_11ec_b6c7_0242ac1c0002row10_col3{\n",
              "            background-color:  #3d50c3;\n",
              "            color:  #f1f1f1;\n",
              "        }#T_19e28fea_1202_11ec_b6c7_0242ac1c0002row4_col10,#T_19e28fea_1202_11ec_b6c7_0242ac1c0002row10_col1,#T_19e28fea_1202_11ec_b6c7_0242ac1c0002row11_col6{\n",
              "            background-color:  #4f69d9;\n",
              "            color:  #000000;\n",
              "        }#T_19e28fea_1202_11ec_b6c7_0242ac1c0002row5_col2{\n",
              "            background-color:  #5977e3;\n",
              "            color:  #000000;\n",
              "        }#T_19e28fea_1202_11ec_b6c7_0242ac1c0002row5_col6,#T_19e28fea_1202_11ec_b6c7_0242ac1c0002row5_col7,#T_19e28fea_1202_11ec_b6c7_0242ac1c0002row6_col10{\n",
              "            background-color:  #6b8df0;\n",
              "            color:  #000000;\n",
              "        }#T_19e28fea_1202_11ec_b6c7_0242ac1c0002row5_col9,#T_19e28fea_1202_11ec_b6c7_0242ac1c0002row6_col0,#T_19e28fea_1202_11ec_b6c7_0242ac1c0002row10_col5{\n",
              "            background-color:  #485fd1;\n",
              "            color:  #f1f1f1;\n",
              "        }#T_19e28fea_1202_11ec_b6c7_0242ac1c0002row5_col10,#T_19e28fea_1202_11ec_b6c7_0242ac1c0002row9_col1{\n",
              "            background-color:  #536edd;\n",
              "            color:  #000000;\n",
              "        }#T_19e28fea_1202_11ec_b6c7_0242ac1c0002row5_col11{\n",
              "            background-color:  #96b7ff;\n",
              "            color:  #000000;\n",
              "        }#T_19e28fea_1202_11ec_b6c7_0242ac1c0002row6_col2{\n",
              "            background-color:  #7597f6;\n",
              "            color:  #000000;\n",
              "        }#T_19e28fea_1202_11ec_b6c7_0242ac1c0002row6_col3,#T_19e28fea_1202_11ec_b6c7_0242ac1c0002row6_col8,#T_19e28fea_1202_11ec_b6c7_0242ac1c0002row11_col1{\n",
              "            background-color:  #81a4fb;\n",
              "            color:  #000000;\n",
              "        }#T_19e28fea_1202_11ec_b6c7_0242ac1c0002row6_col4{\n",
              "            background-color:  #93b5fe;\n",
              "            color:  #000000;\n",
              "        }#T_19e28fea_1202_11ec_b6c7_0242ac1c0002row6_col5,#T_19e28fea_1202_11ec_b6c7_0242ac1c0002row9_col8{\n",
              "            background-color:  #6687ed;\n",
              "            color:  #000000;\n",
              "        }#T_19e28fea_1202_11ec_b6c7_0242ac1c0002row7_col3,#T_19e28fea_1202_11ec_b6c7_0242ac1c0002row9_col4{\n",
              "            background-color:  #5875e1;\n",
              "            color:  #000000;\n",
              "        }#T_19e28fea_1202_11ec_b6c7_0242ac1c0002row7_col6{\n",
              "            background-color:  #516ddb;\n",
              "            color:  #000000;\n",
              "        }#T_19e28fea_1202_11ec_b6c7_0242ac1c0002row7_col8{\n",
              "            background-color:  #3c4ec2;\n",
              "            color:  #f1f1f1;\n",
              "        }#T_19e28fea_1202_11ec_b6c7_0242ac1c0002row7_col9{\n",
              "            background-color:  #6788ee;\n",
              "            color:  #000000;\n",
              "        }#T_19e28fea_1202_11ec_b6c7_0242ac1c0002row7_col10{\n",
              "            background-color:  #5a78e4;\n",
              "            color:  #000000;\n",
              "        }#T_19e28fea_1202_11ec_b6c7_0242ac1c0002row7_col11{\n",
              "            background-color:  #cdd9ec;\n",
              "            color:  #000000;\n",
              "        }#T_19e28fea_1202_11ec_b6c7_0242ac1c0002row8_col3{\n",
              "            background-color:  #4c66d6;\n",
              "            color:  #000000;\n",
              "        }#T_19e28fea_1202_11ec_b6c7_0242ac1c0002row8_col4{\n",
              "            background-color:  #afcafc;\n",
              "            color:  #000000;\n",
              "        }#T_19e28fea_1202_11ec_b6c7_0242ac1c0002row8_col6,#T_19e28fea_1202_11ec_b6c7_0242ac1c0002row9_col7,#T_19e28fea_1202_11ec_b6c7_0242ac1c0002row10_col8,#T_19e28fea_1202_11ec_b6c7_0242ac1c0002row11_col5{\n",
              "            background-color:  #6f92f3;\n",
              "            color:  #000000;\n",
              "        }#T_19e28fea_1202_11ec_b6c7_0242ac1c0002row8_col9{\n",
              "            background-color:  #5d7ce6;\n",
              "            color:  #000000;\n",
              "        }#T_19e28fea_1202_11ec_b6c7_0242ac1c0002row8_col11{\n",
              "            background-color:  #4b64d5;\n",
              "            color:  #f1f1f1;\n",
              "        }#T_19e28fea_1202_11ec_b6c7_0242ac1c0002row9_col2{\n",
              "            background-color:  #85a8fc;\n",
              "            color:  #000000;\n",
              "        }#T_19e28fea_1202_11ec_b6c7_0242ac1c0002row9_col10{\n",
              "            background-color:  #e1dad6;\n",
              "            color:  #000000;\n",
              "        }#T_19e28fea_1202_11ec_b6c7_0242ac1c0002row10_col0{\n",
              "            background-color:  #5b7ae5;\n",
              "            color:  #000000;\n",
              "        }#T_19e28fea_1202_11ec_b6c7_0242ac1c0002row10_col2{\n",
              "            background-color:  #6e90f2;\n",
              "            color:  #000000;\n",
              "        }#T_19e28fea_1202_11ec_b6c7_0242ac1c0002row10_col4{\n",
              "            background-color:  #6c8ff1;\n",
              "            color:  #000000;\n",
              "        }#T_19e28fea_1202_11ec_b6c7_0242ac1c0002row10_col9{\n",
              "            background-color:  #e2dad5;\n",
              "            color:  #000000;\n",
              "        }#T_19e28fea_1202_11ec_b6c7_0242ac1c0002row11_col0{\n",
              "            background-color:  #a6c4fe;\n",
              "            color:  #000000;\n",
              "        }#T_19e28fea_1202_11ec_b6c7_0242ac1c0002row11_col7{\n",
              "            background-color:  #c3d5f4;\n",
              "            color:  #000000;\n",
              "        }</style><table id=\"T_19e28fea_1202_11ec_b6c7_0242ac1c0002\" ><thead>    <tr>        <th class=\"blank level0\" ></th>        <th class=\"col_heading level0 col0\" >age</th>        <th class=\"col_heading level0 col1\" >anaemia</th>        <th class=\"col_heading level0 col2\" >creatinine_phosphokinase</th>        <th class=\"col_heading level0 col3\" >diabetes</th>        <th class=\"col_heading level0 col4\" >ejection_fraction</th>        <th class=\"col_heading level0 col5\" >high_blood_pressure</th>        <th class=\"col_heading level0 col6\" >platelets</th>        <th class=\"col_heading level0 col7\" >serum_creatinine</th>        <th class=\"col_heading level0 col8\" >serum_sodium</th>        <th class=\"col_heading level0 col9\" >sex</th>        <th class=\"col_heading level0 col10\" >smoking</th>        <th class=\"col_heading level0 col11\" >Target</th>    </tr></thead><tbody>\n",
              "                <tr>\n",
              "                        <th id=\"T_19e28fea_1202_11ec_b6c7_0242ac1c0002level0_row0\" class=\"row_heading level0 row0\" >age</th>\n",
              "                        <td id=\"T_19e28fea_1202_11ec_b6c7_0242ac1c0002row0_col0\" class=\"data row0 col0\" >1.000000</td>\n",
              "                        <td id=\"T_19e28fea_1202_11ec_b6c7_0242ac1c0002row0_col1\" class=\"data row0 col1\" >0.088006</td>\n",
              "                        <td id=\"T_19e28fea_1202_11ec_b6c7_0242ac1c0002row0_col2\" class=\"data row0 col2\" >-0.081584</td>\n",
              "                        <td id=\"T_19e28fea_1202_11ec_b6c7_0242ac1c0002row0_col3\" class=\"data row0 col3\" >-0.101012</td>\n",
              "                        <td id=\"T_19e28fea_1202_11ec_b6c7_0242ac1c0002row0_col4\" class=\"data row0 col4\" >0.060098</td>\n",
              "                        <td id=\"T_19e28fea_1202_11ec_b6c7_0242ac1c0002row0_col5\" class=\"data row0 col5\" >0.093289</td>\n",
              "                        <td id=\"T_19e28fea_1202_11ec_b6c7_0242ac1c0002row0_col6\" class=\"data row0 col6\" >-0.052354</td>\n",
              "                        <td id=\"T_19e28fea_1202_11ec_b6c7_0242ac1c0002row0_col7\" class=\"data row0 col7\" >0.159187</td>\n",
              "                        <td id=\"T_19e28fea_1202_11ec_b6c7_0242ac1c0002row0_col8\" class=\"data row0 col8\" >-0.045966</td>\n",
              "                        <td id=\"T_19e28fea_1202_11ec_b6c7_0242ac1c0002row0_col9\" class=\"data row0 col9\" >0.065430</td>\n",
              "                        <td id=\"T_19e28fea_1202_11ec_b6c7_0242ac1c0002row0_col10\" class=\"data row0 col10\" >0.018668</td>\n",
              "                        <td id=\"T_19e28fea_1202_11ec_b6c7_0242ac1c0002row0_col11\" class=\"data row0 col11\" >0.253729</td>\n",
              "            </tr>\n",
              "            <tr>\n",
              "                        <th id=\"T_19e28fea_1202_11ec_b6c7_0242ac1c0002level0_row1\" class=\"row_heading level0 row1\" >anaemia</th>\n",
              "                        <td id=\"T_19e28fea_1202_11ec_b6c7_0242ac1c0002row1_col0\" class=\"data row1 col0\" >0.088006</td>\n",
              "                        <td id=\"T_19e28fea_1202_11ec_b6c7_0242ac1c0002row1_col1\" class=\"data row1 col1\" >1.000000</td>\n",
              "                        <td id=\"T_19e28fea_1202_11ec_b6c7_0242ac1c0002row1_col2\" class=\"data row1 col2\" >-0.190741</td>\n",
              "                        <td id=\"T_19e28fea_1202_11ec_b6c7_0242ac1c0002row1_col3\" class=\"data row1 col3\" >-0.012729</td>\n",
              "                        <td id=\"T_19e28fea_1202_11ec_b6c7_0242ac1c0002row1_col4\" class=\"data row1 col4\" >0.031557</td>\n",
              "                        <td id=\"T_19e28fea_1202_11ec_b6c7_0242ac1c0002row1_col5\" class=\"data row1 col5\" >0.038182</td>\n",
              "                        <td id=\"T_19e28fea_1202_11ec_b6c7_0242ac1c0002row1_col6\" class=\"data row1 col6\" >-0.043786</td>\n",
              "                        <td id=\"T_19e28fea_1202_11ec_b6c7_0242ac1c0002row1_col7\" class=\"data row1 col7\" >0.052174</td>\n",
              "                        <td id=\"T_19e28fea_1202_11ec_b6c7_0242ac1c0002row1_col8\" class=\"data row1 col8\" >0.041882</td>\n",
              "                        <td id=\"T_19e28fea_1202_11ec_b6c7_0242ac1c0002row1_col9\" class=\"data row1 col9\" >-0.094769</td>\n",
              "                        <td id=\"T_19e28fea_1202_11ec_b6c7_0242ac1c0002row1_col10\" class=\"data row1 col10\" >-0.107290</td>\n",
              "                        <td id=\"T_19e28fea_1202_11ec_b6c7_0242ac1c0002row1_col11\" class=\"data row1 col11\" >0.066270</td>\n",
              "            </tr>\n",
              "            <tr>\n",
              "                        <th id=\"T_19e28fea_1202_11ec_b6c7_0242ac1c0002level0_row2\" class=\"row_heading level0 row2\" >creatinine_phosphokinase</th>\n",
              "                        <td id=\"T_19e28fea_1202_11ec_b6c7_0242ac1c0002row2_col0\" class=\"data row2 col0\" >-0.081584</td>\n",
              "                        <td id=\"T_19e28fea_1202_11ec_b6c7_0242ac1c0002row2_col1\" class=\"data row2 col1\" >-0.190741</td>\n",
              "                        <td id=\"T_19e28fea_1202_11ec_b6c7_0242ac1c0002row2_col2\" class=\"data row2 col2\" >1.000000</td>\n",
              "                        <td id=\"T_19e28fea_1202_11ec_b6c7_0242ac1c0002row2_col3\" class=\"data row2 col3\" >-0.009639</td>\n",
              "                        <td id=\"T_19e28fea_1202_11ec_b6c7_0242ac1c0002row2_col4\" class=\"data row2 col4\" >-0.044080</td>\n",
              "                        <td id=\"T_19e28fea_1202_11ec_b6c7_0242ac1c0002row2_col5\" class=\"data row2 col5\" >-0.070590</td>\n",
              "                        <td id=\"T_19e28fea_1202_11ec_b6c7_0242ac1c0002row2_col6\" class=\"data row2 col6\" >0.024463</td>\n",
              "                        <td id=\"T_19e28fea_1202_11ec_b6c7_0242ac1c0002row2_col7\" class=\"data row2 col7\" >-0.016408</td>\n",
              "                        <td id=\"T_19e28fea_1202_11ec_b6c7_0242ac1c0002row2_col8\" class=\"data row2 col8\" >0.059550</td>\n",
              "                        <td id=\"T_19e28fea_1202_11ec_b6c7_0242ac1c0002row2_col9\" class=\"data row2 col9\" >0.079791</td>\n",
              "                        <td id=\"T_19e28fea_1202_11ec_b6c7_0242ac1c0002row2_col10\" class=\"data row2 col10\" >0.002421</td>\n",
              "                        <td id=\"T_19e28fea_1202_11ec_b6c7_0242ac1c0002row2_col11\" class=\"data row2 col11\" >0.062728</td>\n",
              "            </tr>\n",
              "            <tr>\n",
              "                        <th id=\"T_19e28fea_1202_11ec_b6c7_0242ac1c0002level0_row3\" class=\"row_heading level0 row3\" >diabetes</th>\n",
              "                        <td id=\"T_19e28fea_1202_11ec_b6c7_0242ac1c0002row3_col0\" class=\"data row3 col0\" >-0.101012</td>\n",
              "                        <td id=\"T_19e28fea_1202_11ec_b6c7_0242ac1c0002row3_col1\" class=\"data row3 col1\" >-0.012729</td>\n",
              "                        <td id=\"T_19e28fea_1202_11ec_b6c7_0242ac1c0002row3_col2\" class=\"data row3 col2\" >-0.009639</td>\n",
              "                        <td id=\"T_19e28fea_1202_11ec_b6c7_0242ac1c0002row3_col3\" class=\"data row3 col3\" >1.000000</td>\n",
              "                        <td id=\"T_19e28fea_1202_11ec_b6c7_0242ac1c0002row3_col4\" class=\"data row3 col4\" >-0.004850</td>\n",
              "                        <td id=\"T_19e28fea_1202_11ec_b6c7_0242ac1c0002row3_col5\" class=\"data row3 col5\" >-0.012732</td>\n",
              "                        <td id=\"T_19e28fea_1202_11ec_b6c7_0242ac1c0002row3_col6\" class=\"data row3 col6\" >0.092193</td>\n",
              "                        <td id=\"T_19e28fea_1202_11ec_b6c7_0242ac1c0002row3_col7\" class=\"data row3 col7\" >-0.046975</td>\n",
              "                        <td id=\"T_19e28fea_1202_11ec_b6c7_0242ac1c0002row3_col8\" class=\"data row3 col8\" >-0.089551</td>\n",
              "                        <td id=\"T_19e28fea_1202_11ec_b6c7_0242ac1c0002row3_col9\" class=\"data row3 col9\" >-0.157730</td>\n",
              "                        <td id=\"T_19e28fea_1202_11ec_b6c7_0242ac1c0002row3_col10\" class=\"data row3 col10\" >-0.147173</td>\n",
              "                        <td id=\"T_19e28fea_1202_11ec_b6c7_0242ac1c0002row3_col11\" class=\"data row3 col11\" >-0.001943</td>\n",
              "            </tr>\n",
              "            <tr>\n",
              "                        <th id=\"T_19e28fea_1202_11ec_b6c7_0242ac1c0002level0_row4\" class=\"row_heading level0 row4\" >ejection_fraction</th>\n",
              "                        <td id=\"T_19e28fea_1202_11ec_b6c7_0242ac1c0002row4_col0\" class=\"data row4 col0\" >0.060098</td>\n",
              "                        <td id=\"T_19e28fea_1202_11ec_b6c7_0242ac1c0002row4_col1\" class=\"data row4 col1\" >0.031557</td>\n",
              "                        <td id=\"T_19e28fea_1202_11ec_b6c7_0242ac1c0002row4_col2\" class=\"data row4 col2\" >-0.044080</td>\n",
              "                        <td id=\"T_19e28fea_1202_11ec_b6c7_0242ac1c0002row4_col3\" class=\"data row4 col3\" >-0.004850</td>\n",
              "                        <td id=\"T_19e28fea_1202_11ec_b6c7_0242ac1c0002row4_col4\" class=\"data row4 col4\" >1.000000</td>\n",
              "                        <td id=\"T_19e28fea_1202_11ec_b6c7_0242ac1c0002row4_col5\" class=\"data row4 col5\" >0.024445</td>\n",
              "                        <td id=\"T_19e28fea_1202_11ec_b6c7_0242ac1c0002row4_col6\" class=\"data row4 col6\" >0.072177</td>\n",
              "                        <td id=\"T_19e28fea_1202_11ec_b6c7_0242ac1c0002row4_col7\" class=\"data row4 col7\" >-0.011302</td>\n",
              "                        <td id=\"T_19e28fea_1202_11ec_b6c7_0242ac1c0002row4_col8\" class=\"data row4 col8\" >0.175902</td>\n",
              "                        <td id=\"T_19e28fea_1202_11ec_b6c7_0242ac1c0002row4_col9\" class=\"data row4 col9\" >-0.148386</td>\n",
              "                        <td id=\"T_19e28fea_1202_11ec_b6c7_0242ac1c0002row4_col10\" class=\"data row4 col10\" >-0.067315</td>\n",
              "                        <td id=\"T_19e28fea_1202_11ec_b6c7_0242ac1c0002row4_col11\" class=\"data row4 col11\" >-0.268603</td>\n",
              "            </tr>\n",
              "            <tr>\n",
              "                        <th id=\"T_19e28fea_1202_11ec_b6c7_0242ac1c0002level0_row5\" class=\"row_heading level0 row5\" >high_blood_pressure</th>\n",
              "                        <td id=\"T_19e28fea_1202_11ec_b6c7_0242ac1c0002row5_col0\" class=\"data row5 col0\" >0.093289</td>\n",
              "                        <td id=\"T_19e28fea_1202_11ec_b6c7_0242ac1c0002row5_col1\" class=\"data row5 col1\" >0.038182</td>\n",
              "                        <td id=\"T_19e28fea_1202_11ec_b6c7_0242ac1c0002row5_col2\" class=\"data row5 col2\" >-0.070590</td>\n",
              "                        <td id=\"T_19e28fea_1202_11ec_b6c7_0242ac1c0002row5_col3\" class=\"data row5 col3\" >-0.012732</td>\n",
              "                        <td id=\"T_19e28fea_1202_11ec_b6c7_0242ac1c0002row5_col4\" class=\"data row5 col4\" >0.024445</td>\n",
              "                        <td id=\"T_19e28fea_1202_11ec_b6c7_0242ac1c0002row5_col5\" class=\"data row5 col5\" >1.000000</td>\n",
              "                        <td id=\"T_19e28fea_1202_11ec_b6c7_0242ac1c0002row5_col6\" class=\"data row5 col6\" >0.049963</td>\n",
              "                        <td id=\"T_19e28fea_1202_11ec_b6c7_0242ac1c0002row5_col7\" class=\"data row5 col7\" >-0.004935</td>\n",
              "                        <td id=\"T_19e28fea_1202_11ec_b6c7_0242ac1c0002row5_col8\" class=\"data row5 col8\" >0.037109</td>\n",
              "                        <td id=\"T_19e28fea_1202_11ec_b6c7_0242ac1c0002row5_col9\" class=\"data row5 col9\" >-0.104615</td>\n",
              "                        <td id=\"T_19e28fea_1202_11ec_b6c7_0242ac1c0002row5_col10\" class=\"data row5 col10\" >-0.055711</td>\n",
              "                        <td id=\"T_19e28fea_1202_11ec_b6c7_0242ac1c0002row5_col11\" class=\"data row5 col11\" >0.079351</td>\n",
              "            </tr>\n",
              "            <tr>\n",
              "                        <th id=\"T_19e28fea_1202_11ec_b6c7_0242ac1c0002level0_row6\" class=\"row_heading level0 row6\" >platelets</th>\n",
              "                        <td id=\"T_19e28fea_1202_11ec_b6c7_0242ac1c0002row6_col0\" class=\"data row6 col0\" >-0.052354</td>\n",
              "                        <td id=\"T_19e28fea_1202_11ec_b6c7_0242ac1c0002row6_col1\" class=\"data row6 col1\" >-0.043786</td>\n",
              "                        <td id=\"T_19e28fea_1202_11ec_b6c7_0242ac1c0002row6_col2\" class=\"data row6 col2\" >0.024463</td>\n",
              "                        <td id=\"T_19e28fea_1202_11ec_b6c7_0242ac1c0002row6_col3\" class=\"data row6 col3\" >0.092193</td>\n",
              "                        <td id=\"T_19e28fea_1202_11ec_b6c7_0242ac1c0002row6_col4\" class=\"data row6 col4\" >0.072177</td>\n",
              "                        <td id=\"T_19e28fea_1202_11ec_b6c7_0242ac1c0002row6_col5\" class=\"data row6 col5\" >0.049963</td>\n",
              "                        <td id=\"T_19e28fea_1202_11ec_b6c7_0242ac1c0002row6_col6\" class=\"data row6 col6\" >1.000000</td>\n",
              "                        <td id=\"T_19e28fea_1202_11ec_b6c7_0242ac1c0002row6_col7\" class=\"data row6 col7\" >-0.041198</td>\n",
              "                        <td id=\"T_19e28fea_1202_11ec_b6c7_0242ac1c0002row6_col8\" class=\"data row6 col8\" >0.062125</td>\n",
              "                        <td id=\"T_19e28fea_1202_11ec_b6c7_0242ac1c0002row6_col9\" class=\"data row6 col9\" >-0.125120</td>\n",
              "                        <td id=\"T_19e28fea_1202_11ec_b6c7_0242ac1c0002row6_col10\" class=\"data row6 col10\" >0.028234</td>\n",
              "                        <td id=\"T_19e28fea_1202_11ec_b6c7_0242ac1c0002row6_col11\" class=\"data row6 col11\" >-0.049139</td>\n",
              "            </tr>\n",
              "            <tr>\n",
              "                        <th id=\"T_19e28fea_1202_11ec_b6c7_0242ac1c0002level0_row7\" class=\"row_heading level0 row7\" >serum_creatinine</th>\n",
              "                        <td id=\"T_19e28fea_1202_11ec_b6c7_0242ac1c0002row7_col0\" class=\"data row7 col0\" >0.159187</td>\n",
              "                        <td id=\"T_19e28fea_1202_11ec_b6c7_0242ac1c0002row7_col1\" class=\"data row7 col1\" >0.052174</td>\n",
              "                        <td id=\"T_19e28fea_1202_11ec_b6c7_0242ac1c0002row7_col2\" class=\"data row7 col2\" >-0.016408</td>\n",
              "                        <td id=\"T_19e28fea_1202_11ec_b6c7_0242ac1c0002row7_col3\" class=\"data row7 col3\" >-0.046975</td>\n",
              "                        <td id=\"T_19e28fea_1202_11ec_b6c7_0242ac1c0002row7_col4\" class=\"data row7 col4\" >-0.011302</td>\n",
              "                        <td id=\"T_19e28fea_1202_11ec_b6c7_0242ac1c0002row7_col5\" class=\"data row7 col5\" >-0.004935</td>\n",
              "                        <td id=\"T_19e28fea_1202_11ec_b6c7_0242ac1c0002row7_col6\" class=\"data row7 col6\" >-0.041198</td>\n",
              "                        <td id=\"T_19e28fea_1202_11ec_b6c7_0242ac1c0002row7_col7\" class=\"data row7 col7\" >1.000000</td>\n",
              "                        <td id=\"T_19e28fea_1202_11ec_b6c7_0242ac1c0002row7_col8\" class=\"data row7 col8\" >-0.189095</td>\n",
              "                        <td id=\"T_19e28fea_1202_11ec_b6c7_0242ac1c0002row7_col9\" class=\"data row7 col9\" >0.006970</td>\n",
              "                        <td id=\"T_19e28fea_1202_11ec_b6c7_0242ac1c0002row7_col10\" class=\"data row7 col10\" >-0.027414</td>\n",
              "                        <td id=\"T_19e28fea_1202_11ec_b6c7_0242ac1c0002row7_col11\" class=\"data row7 col11\" >0.294278</td>\n",
              "            </tr>\n",
              "            <tr>\n",
              "                        <th id=\"T_19e28fea_1202_11ec_b6c7_0242ac1c0002level0_row8\" class=\"row_heading level0 row8\" >serum_sodium</th>\n",
              "                        <td id=\"T_19e28fea_1202_11ec_b6c7_0242ac1c0002row8_col0\" class=\"data row8 col0\" >-0.045966</td>\n",
              "                        <td id=\"T_19e28fea_1202_11ec_b6c7_0242ac1c0002row8_col1\" class=\"data row8 col1\" >0.041882</td>\n",
              "                        <td id=\"T_19e28fea_1202_11ec_b6c7_0242ac1c0002row8_col2\" class=\"data row8 col2\" >0.059550</td>\n",
              "                        <td id=\"T_19e28fea_1202_11ec_b6c7_0242ac1c0002row8_col3\" class=\"data row8 col3\" >-0.089551</td>\n",
              "                        <td id=\"T_19e28fea_1202_11ec_b6c7_0242ac1c0002row8_col4\" class=\"data row8 col4\" >0.175902</td>\n",
              "                        <td id=\"T_19e28fea_1202_11ec_b6c7_0242ac1c0002row8_col5\" class=\"data row8 col5\" >0.037109</td>\n",
              "                        <td id=\"T_19e28fea_1202_11ec_b6c7_0242ac1c0002row8_col6\" class=\"data row8 col6\" >0.062125</td>\n",
              "                        <td id=\"T_19e28fea_1202_11ec_b6c7_0242ac1c0002row8_col7\" class=\"data row8 col7\" >-0.189095</td>\n",
              "                        <td id=\"T_19e28fea_1202_11ec_b6c7_0242ac1c0002row8_col8\" class=\"data row8 col8\" >1.000000</td>\n",
              "                        <td id=\"T_19e28fea_1202_11ec_b6c7_0242ac1c0002row8_col9\" class=\"data row8 col9\" >-0.027566</td>\n",
              "                        <td id=\"T_19e28fea_1202_11ec_b6c7_0242ac1c0002row8_col10\" class=\"data row8 col10\" >0.004813</td>\n",
              "                        <td id=\"T_19e28fea_1202_11ec_b6c7_0242ac1c0002row8_col11\" class=\"data row8 col11\" >-0.195204</td>\n",
              "            </tr>\n",
              "            <tr>\n",
              "                        <th id=\"T_19e28fea_1202_11ec_b6c7_0242ac1c0002level0_row9\" class=\"row_heading level0 row9\" >sex</th>\n",
              "                        <td id=\"T_19e28fea_1202_11ec_b6c7_0242ac1c0002row9_col0\" class=\"data row9 col0\" >0.065430</td>\n",
              "                        <td id=\"T_19e28fea_1202_11ec_b6c7_0242ac1c0002row9_col1\" class=\"data row9 col1\" >-0.094769</td>\n",
              "                        <td id=\"T_19e28fea_1202_11ec_b6c7_0242ac1c0002row9_col2\" class=\"data row9 col2\" >0.079791</td>\n",
              "                        <td id=\"T_19e28fea_1202_11ec_b6c7_0242ac1c0002row9_col3\" class=\"data row9 col3\" >-0.157730</td>\n",
              "                        <td id=\"T_19e28fea_1202_11ec_b6c7_0242ac1c0002row9_col4\" class=\"data row9 col4\" >-0.148386</td>\n",
              "                        <td id=\"T_19e28fea_1202_11ec_b6c7_0242ac1c0002row9_col5\" class=\"data row9 col5\" >-0.104615</td>\n",
              "                        <td id=\"T_19e28fea_1202_11ec_b6c7_0242ac1c0002row9_col6\" class=\"data row9 col6\" >-0.125120</td>\n",
              "                        <td id=\"T_19e28fea_1202_11ec_b6c7_0242ac1c0002row9_col7\" class=\"data row9 col7\" >0.006970</td>\n",
              "                        <td id=\"T_19e28fea_1202_11ec_b6c7_0242ac1c0002row9_col8\" class=\"data row9 col8\" >-0.027566</td>\n",
              "                        <td id=\"T_19e28fea_1202_11ec_b6c7_0242ac1c0002row9_col9\" class=\"data row9 col9\" >1.000000</td>\n",
              "                        <td id=\"T_19e28fea_1202_11ec_b6c7_0242ac1c0002row9_col10\" class=\"data row9 col10\" >0.445892</td>\n",
              "                        <td id=\"T_19e28fea_1202_11ec_b6c7_0242ac1c0002row9_col11\" class=\"data row9 col11\" >-0.004316</td>\n",
              "            </tr>\n",
              "            <tr>\n",
              "                        <th id=\"T_19e28fea_1202_11ec_b6c7_0242ac1c0002level0_row10\" class=\"row_heading level0 row10\" >smoking</th>\n",
              "                        <td id=\"T_19e28fea_1202_11ec_b6c7_0242ac1c0002row10_col0\" class=\"data row10 col0\" >0.018668</td>\n",
              "                        <td id=\"T_19e28fea_1202_11ec_b6c7_0242ac1c0002row10_col1\" class=\"data row10 col1\" >-0.107290</td>\n",
              "                        <td id=\"T_19e28fea_1202_11ec_b6c7_0242ac1c0002row10_col2\" class=\"data row10 col2\" >0.002421</td>\n",
              "                        <td id=\"T_19e28fea_1202_11ec_b6c7_0242ac1c0002row10_col3\" class=\"data row10 col3\" >-0.147173</td>\n",
              "                        <td id=\"T_19e28fea_1202_11ec_b6c7_0242ac1c0002row10_col4\" class=\"data row10 col4\" >-0.067315</td>\n",
              "                        <td id=\"T_19e28fea_1202_11ec_b6c7_0242ac1c0002row10_col5\" class=\"data row10 col5\" >-0.055711</td>\n",
              "                        <td id=\"T_19e28fea_1202_11ec_b6c7_0242ac1c0002row10_col6\" class=\"data row10 col6\" >0.028234</td>\n",
              "                        <td id=\"T_19e28fea_1202_11ec_b6c7_0242ac1c0002row10_col7\" class=\"data row10 col7\" >-0.027414</td>\n",
              "                        <td id=\"T_19e28fea_1202_11ec_b6c7_0242ac1c0002row10_col8\" class=\"data row10 col8\" >0.004813</td>\n",
              "                        <td id=\"T_19e28fea_1202_11ec_b6c7_0242ac1c0002row10_col9\" class=\"data row10 col9\" >0.445892</td>\n",
              "                        <td id=\"T_19e28fea_1202_11ec_b6c7_0242ac1c0002row10_col10\" class=\"data row10 col10\" >1.000000</td>\n",
              "                        <td id=\"T_19e28fea_1202_11ec_b6c7_0242ac1c0002row10_col11\" class=\"data row10 col11\" >-0.012623</td>\n",
              "            </tr>\n",
              "            <tr>\n",
              "                        <th id=\"T_19e28fea_1202_11ec_b6c7_0242ac1c0002level0_row11\" class=\"row_heading level0 row11\" >Target</th>\n",
              "                        <td id=\"T_19e28fea_1202_11ec_b6c7_0242ac1c0002row11_col0\" class=\"data row11 col0\" >0.253729</td>\n",
              "                        <td id=\"T_19e28fea_1202_11ec_b6c7_0242ac1c0002row11_col1\" class=\"data row11 col1\" >0.066270</td>\n",
              "                        <td id=\"T_19e28fea_1202_11ec_b6c7_0242ac1c0002row11_col2\" class=\"data row11 col2\" >0.062728</td>\n",
              "                        <td id=\"T_19e28fea_1202_11ec_b6c7_0242ac1c0002row11_col3\" class=\"data row11 col3\" >-0.001943</td>\n",
              "                        <td id=\"T_19e28fea_1202_11ec_b6c7_0242ac1c0002row11_col4\" class=\"data row11 col4\" >-0.268603</td>\n",
              "                        <td id=\"T_19e28fea_1202_11ec_b6c7_0242ac1c0002row11_col5\" class=\"data row11 col5\" >0.079351</td>\n",
              "                        <td id=\"T_19e28fea_1202_11ec_b6c7_0242ac1c0002row11_col6\" class=\"data row11 col6\" >-0.049139</td>\n",
              "                        <td id=\"T_19e28fea_1202_11ec_b6c7_0242ac1c0002row11_col7\" class=\"data row11 col7\" >0.294278</td>\n",
              "                        <td id=\"T_19e28fea_1202_11ec_b6c7_0242ac1c0002row11_col8\" class=\"data row11 col8\" >-0.195204</td>\n",
              "                        <td id=\"T_19e28fea_1202_11ec_b6c7_0242ac1c0002row11_col9\" class=\"data row11 col9\" >-0.004316</td>\n",
              "                        <td id=\"T_19e28fea_1202_11ec_b6c7_0242ac1c0002row11_col10\" class=\"data row11 col10\" >-0.012623</td>\n",
              "                        <td id=\"T_19e28fea_1202_11ec_b6c7_0242ac1c0002row11_col11\" class=\"data row11 col11\" >1.000000</td>\n",
              "            </tr>\n",
              "    </tbody></table>"
            ],
            "text/plain": [
              "<pandas.io.formats.style.Styler at 0x7ff19974dc90>"
            ]
          },
          "metadata": {},
          "execution_count": 5
        }
      ]
    },
    {
      "cell_type": "code",
      "metadata": {
        "colab": {
          "base_uri": "https://localhost:8080/",
          "height": 542
        },
        "id": "lABXGX_gmHiT",
        "outputId": "489231bf-91e0-4c36-be6f-f04b84c98992"
      },
      "source": [
        "hist_data =[data[\"age\"].values]\n",
        "age_labels = ['age'] \n",
        "age_dis = ff.create_distplot(hist_data,age_labels)\n",
        "age_dis.update_layout(title_text='Age Distribution plot')\n",
        "age_dis.show()"
      ],
      "execution_count": 6,
      "outputs": [
        {
          "output_type": "display_data",
          "data": {
            "text/html": [
              "<html>\n",
              "<head><meta charset=\"utf-8\" /></head>\n",
              "<body>\n",
              "    <div>\n",
              "            <script src=\"https://cdnjs.cloudflare.com/ajax/libs/mathjax/2.7.5/MathJax.js?config=TeX-AMS-MML_SVG\"></script><script type=\"text/javascript\">if (window.MathJax) {MathJax.Hub.Config({SVG: {font: \"STIX-Web\"}});}</script>\n",
              "                <script type=\"text/javascript\">window.PlotlyConfig = {MathJaxConfig: 'local'};</script>\n",
              "        <script src=\"https://cdn.plot.ly/plotly-latest.min.js\"></script>    \n",
              "            <div id=\"fff9e771-f064-4f7f-98de-9568e0eb3fa6\" class=\"plotly-graph-div\" style=\"height:525px; width:100%;\"></div>\n",
              "            <script type=\"text/javascript\">\n",
              "                \n",
              "                    window.PLOTLYENV=window.PLOTLYENV || {};\n",
              "                    \n",
              "                if (document.getElementById(\"fff9e771-f064-4f7f-98de-9568e0eb3fa6\")) {\n",
              "                    Plotly.newPlot(\n",
              "                        'fff9e771-f064-4f7f-98de-9568e0eb3fa6',\n",
              "                        [{\"autobinx\": false, \"histnorm\": \"probability density\", \"legendgroup\": \"age\", \"marker\": {\"color\": \"rgb(31, 119, 180)\"}, \"name\": \"age\", \"opacity\": 0.7, \"type\": \"histogram\", \"x\": [75.0, 55.0, 65.0, 50.0, 65.0, 90.0, 75.0, 60.0, 65.0, 80.0, 75.0, 62.0, 45.0, 50.0, 49.0, 82.0, 87.0, 45.0, 70.0, 48.0, 65.0, 65.0, 68.0, 53.0, 75.0, 80.0, 95.0, 70.0, 58.0, 82.0, 94.0, 85.0, 50.0, 50.0, 65.0, 69.0, 90.0, 82.0, 60.0, 60.0, 70.0, 50.0, 70.0, 72.0, 60.0, 50.0, 51.0, 60.0, 80.0, 57.0, 68.0, 53.0, 60.0, 70.0, 60.0, 95.0, 70.0, 60.0, 49.0, 72.0, 45.0, 50.0, 55.0, 45.0, 45.0, 60.0, 42.0, 72.0, 70.0, 65.0, 41.0, 58.0, 85.0, 65.0, 69.0, 60.0, 70.0, 42.0, 75.0, 55.0, 70.0, 67.0, 60.0, 79.0, 59.0, 51.0, 55.0, 65.0, 44.0, 57.0, 70.0, 60.0, 42.0, 60.0, 58.0, 58.0, 63.0, 70.0, 60.0, 63.0, 65.0, 75.0, 80.0, 42.0, 60.0, 72.0, 55.0, 45.0, 63.0, 45.0, 85.0, 55.0, 50.0, 70.0, 60.0, 58.0, 60.0, 85.0, 65.0, 86.0, 60.0, 66.0, 60.0, 60.0, 60.0, 43.0, 46.0, 58.0, 61.0, 53.0, 53.0, 60.0, 46.0, 63.0, 81.0, 75.0, 65.0, 68.0, 62.0, 50.0, 80.0, 46.0, 50.0, 61.0, 72.0, 50.0, 52.0, 64.0, 75.0, 60.0, 72.0, 62.0, 50.0, 50.0, 65.0, 60.0, 52.0, 50.0, 85.0, 59.0, 66.0, 45.0, 63.0, 50.0, 45.0, 80.0, 53.0, 59.0, 65.0, 70.0, 51.0, 52.0, 70.0, 50.0, 65.0, 60.0, 69.0, 49.0, 63.0, 55.0, 40.0, 59.0, 65.0, 75.0, 58.0, 60.667, 50.0, 60.0, 60.667, 40.0, 80.0, 64.0, 50.0, 73.0, 45.0, 77.0, 45.0, 65.0, 50.0, 60.0, 63.0, 45.0, 70.0, 60.0, 78.0, 50.0, 40.0, 85.0, 60.0, 49.0, 70.0, 50.0, 78.0, 48.0, 65.0, 73.0, 70.0, 54.0, 68.0, 55.0, 73.0, 65.0, 42.0, 47.0, 58.0, 75.0, 58.0, 55.0, 65.0, 72.0, 60.0, 70.0, 40.0, 53.0, 53.0, 77.0, 75.0, 70.0, 65.0, 55.0, 70.0, 65.0, 40.0, 73.0, 54.0, 61.0, 55.0, 64.0, 40.0, 53.0, 50.0, 55.0, 50.0, 70.0, 53.0, 52.0, 65.0, 58.0, 45.0, 53.0, 55.0, 62.0, 65.0, 68.0, 61.0, 50.0, 55.0, 56.0, 45.0, 40.0, 44.0, 51.0, 67.0, 42.0, 60.0, 45.0, 70.0, 70.0, 50.0, 55.0, 70.0, 70.0, 42.0, 65.0, 50.0, 55.0, 60.0, 45.0, 65.0, 90.0, 45.0, 60.0, 52.0, 63.0, 62.0, 55.0, 45.0, 45.0, 50.0], \"xaxis\": \"x\", \"xbins\": {\"end\": 95.0, \"size\": 1.0, \"start\": 40.0}, \"yaxis\": \"y\"}, {\"legendgroup\": \"age\", \"marker\": {\"color\": \"rgb(31, 119, 180)\"}, \"mode\": \"lines\", \"name\": \"age\", \"showlegend\": false, \"type\": \"scatter\", \"x\": [40.0, 40.11, 40.22, 40.33, 40.44, 40.55, 40.66, 40.77, 40.88, 40.99, 41.1, 41.21, 41.32, 41.43, 41.54, 41.65, 41.76, 41.87, 41.98, 42.09, 42.2, 42.31, 42.42, 42.53, 42.64, 42.75, 42.86, 42.97, 43.08, 43.19, 43.3, 43.41, 43.52, 43.63, 43.74, 43.85, 43.96, 44.07, 44.18, 44.29, 44.4, 44.51, 44.62, 44.730000000000004, 44.84, 44.95, 45.06, 45.17, 45.28, 45.39, 45.5, 45.61, 45.72, 45.83, 45.94, 46.05, 46.16, 46.269999999999996, 46.38, 46.49, 46.6, 46.71, 46.82, 46.93, 47.04, 47.15, 47.26, 47.37, 47.480000000000004, 47.59, 47.7, 47.81, 47.92, 48.03, 48.14, 48.25, 48.36, 48.47, 48.58, 48.69, 48.8, 48.91, 49.019999999999996, 49.13, 49.24, 49.35, 49.46, 49.57, 49.68, 49.79, 49.9, 50.01, 50.12, 50.230000000000004, 50.34, 50.45, 50.56, 50.67, 50.78, 50.89, 51.0, 51.11, 51.22, 51.33, 51.44, 51.55, 51.66, 51.769999999999996, 51.88, 51.99, 52.1, 52.21, 52.32, 52.43, 52.54, 52.65, 52.76, 52.87, 52.980000000000004, 53.09, 53.2, 53.31, 53.42, 53.53, 53.64, 53.75, 53.86, 53.97, 54.08, 54.19, 54.3, 54.41, 54.519999999999996, 54.63, 54.74, 54.85, 54.96, 55.07, 55.18, 55.29, 55.4, 55.51, 55.62, 55.730000000000004, 55.84, 55.95, 56.06, 56.17, 56.28, 56.39, 56.5, 56.61, 56.72, 56.83, 56.94, 57.05, 57.16, 57.269999999999996, 57.379999999999995, 57.489999999999995, 57.6, 57.71, 57.82, 57.93, 58.04, 58.15, 58.260000000000005, 58.370000000000005, 58.480000000000004, 58.59, 58.7, 58.81, 58.92, 59.03, 59.14, 59.25, 59.36, 59.47, 59.58, 59.69, 59.8, 59.91, 60.019999999999996, 60.129999999999995, 60.239999999999995, 60.35, 60.46, 60.57, 60.68, 60.79, 60.9, 61.010000000000005, 61.120000000000005, 61.230000000000004, 61.34, 61.45, 61.56, 61.67, 61.78, 61.89, 62.0, 62.11, 62.22, 62.33, 62.44, 62.55, 62.66, 62.769999999999996, 62.879999999999995, 62.989999999999995, 63.1, 63.21, 63.32, 63.43, 63.54, 63.65, 63.760000000000005, 63.870000000000005, 63.980000000000004, 64.09, 64.2, 64.31, 64.42, 64.53, 64.64, 64.75, 64.86, 64.97, 65.08, 65.19, 65.3, 65.41, 65.52, 65.63, 65.74, 65.85, 65.96000000000001, 66.07, 66.18, 66.28999999999999, 66.4, 66.51, 66.62, 66.73, 66.84, 66.95, 67.06, 67.17, 67.28, 67.39, 67.5, 67.61, 67.72, 67.83, 67.94, 68.05, 68.16, 68.27, 68.38, 68.49, 68.6, 68.71000000000001, 68.82, 68.93, 69.03999999999999, 69.15, 69.26, 69.37, 69.48, 69.59, 69.7, 69.81, 69.92, 70.03, 70.14, 70.25, 70.36, 70.47, 70.58, 70.69, 70.8, 70.91, 71.02, 71.13, 71.24, 71.35, 71.46000000000001, 71.57, 71.68, 71.78999999999999, 71.9, 72.00999999999999, 72.12, 72.22999999999999, 72.34, 72.45, 72.56, 72.67, 72.78, 72.89, 73.0, 73.11, 73.22, 73.33, 73.44, 73.55, 73.66, 73.77000000000001, 73.88, 73.99000000000001, 74.1, 74.21000000000001, 74.32, 74.43, 74.53999999999999, 74.65, 74.75999999999999, 74.87, 74.97999999999999, 75.09, 75.2, 75.31, 75.42, 75.53, 75.64, 75.75, 75.86, 75.97, 76.08, 76.19, 76.3, 76.41, 76.52000000000001, 76.63, 76.74000000000001, 76.85, 76.96000000000001, 77.07, 77.18, 77.28999999999999, 77.4, 77.50999999999999, 77.62, 77.72999999999999, 77.84, 77.95, 78.06, 78.17, 78.28, 78.39, 78.5, 78.61, 78.72, 78.83, 78.94, 79.05, 79.16, 79.27000000000001, 79.38, 79.49000000000001, 79.6, 79.71000000000001, 79.82, 79.93, 80.03999999999999, 80.15, 80.25999999999999, 80.37, 80.47999999999999, 80.59, 80.7, 80.81, 80.92, 81.03, 81.14, 81.25, 81.36, 81.47, 81.58, 81.69, 81.8, 81.91, 82.02000000000001, 82.13, 82.24000000000001, 82.35, 82.46000000000001, 82.57, 82.68, 82.78999999999999, 82.9, 83.00999999999999, 83.12, 83.22999999999999, 83.34, 83.45, 83.56, 83.67, 83.78, 83.89, 84.0, 84.11, 84.22, 84.33, 84.44, 84.55, 84.66, 84.77000000000001, 84.88, 84.99000000000001, 85.1, 85.21000000000001, 85.32, 85.43, 85.53999999999999, 85.65, 85.75999999999999, 85.87, 85.97999999999999, 86.09, 86.2, 86.31, 86.42, 86.53, 86.64, 86.75, 86.86, 86.97, 87.08, 87.19, 87.3, 87.41, 87.52000000000001, 87.63, 87.74000000000001, 87.85, 87.96000000000001, 88.07, 88.18, 88.28999999999999, 88.4, 88.50999999999999, 88.62, 88.72999999999999, 88.84, 88.95, 89.06, 89.17, 89.28, 89.39, 89.5, 89.61, 89.72, 89.83, 89.94, 90.05, 90.16, 90.27000000000001, 90.38, 90.49000000000001, 90.6, 90.71000000000001, 90.82, 90.93, 91.03999999999999, 91.15, 91.25999999999999, 91.37, 91.47999999999999, 91.59, 91.7, 91.81, 91.92, 92.03, 92.14, 92.25, 92.36, 92.47, 92.58, 92.69, 92.8, 92.91, 93.02000000000001, 93.13, 93.24000000000001, 93.35, 93.46000000000001, 93.57, 93.68, 93.78999999999999, 93.9, 94.00999999999999, 94.12, 94.22999999999999, 94.34, 94.45, 94.56, 94.67, 94.78, 94.89], \"xaxis\": \"x\", \"y\": [0.009278580261905372, 0.009493846344657495, 0.009709942017945493, 0.00992675674458427, 0.010144180923897364, 0.010362106165255597, 0.01058042555715969, 0.010799033930689381, 0.01101782811613167, 0.011236707191591174, 0.01145557272238399, 0.011674328990017647, 0.011892883209567717, 0.012111145734276242, 0.012329030246215256, 0.012546453931888751, 0.012763337641678342, 0.012979606032081807, 0.013195187689743737, 0.013410015236335684, 0.013624025413411527, 0.013837159146439862, 0.014049361587299724, 0.014260582134621636, 0.014470774431457526, 0.014679896339876526, 0.014887909892202775, 0.015094781218740553, 0.015300480451968336, 0.015504981607326244, 0.015708262440870473, 0.015910304284224356, 0.016111091857414266, 0.01631061306034131, 0.016508858743806358, 0.016705822461170517, 0.01690150020190046, 0.017095890108411515, 0.017288992177782854, 0.017480807950075204, 0.017671340185131598, 0.01786059252988337, 0.01804856917831675, 0.01823527452637602, 0.018420712824188796, 0.018604887828092827, 0.01878780245502307, 0.01896945844188092, 0.01914985601254867, 0.019328993555241644, 0.019506867312890128, 0.019683471089231006, 0.0198587959732487, 0.020032830084546312, 0.02020555834214575, 0.02037696225911063, 0.020547019765259834, 0.02071570506009236, 0.02088298849787305, 0.021048836506641314, 0.02121321154269607, 0.021376072081882313, 0.021537372648764954, 0.02169706388451399, 0.021855092654058304, 0.022011402192781478, 0.022165932292742573, 0.022318619528109825, 0.022469397519190856, 0.022618197234142556, 0.022764947327138945, 0.02290957451147841, 0.023052003965815377, 0.023192159771417583, 0.023329965378075312, 0.023465344096026425, 0.023598219611014142, 0.023728516519367797, 0.023856160879784608, 0.02398108077830445, 0.024103206902805888, 0.024222473123208726, 0.02433881707345863, 0.02445218073127989, 0.024562510991625958, 0.02466976022972641, 0.024773886849630288, 0.024874855814173244, 0.024972639152355158, 0.02506721644020215, 0.02515857525130275, 0.025246711573351753, 0.025331630187205054, 0.0254133450051459, 0.025491879365282365, 0.02556726627923923, 0.025639548630570816, 0.025708779321605958, 0.02577502136673453, 0.025838347930462222, 0.02589884230888844, 0.025956597853599477, 0.02601171783732029, 0.026064315261018885, 0.026114512602515825, 0.026162441507011712, 0.02620824242030271, 0.026252064165808643, 0.026294063466890283, 0.02633440441627327, 0.026373257894729114, 0.02641080094148604, 0.026447216079149963, 0.026482690596207628, 0.02651741579046128, 0.026551586177000455, 0.026585398664553506, 0.02661905170427846, 0.026652744415244876, 0.026686675691029154, 0.0267210432919903, 0.026756042927914635, 0.026791867335808146, 0.026828705357687728, 0.026866741023258714, 0.026906152642380134, 0.026947111912206875, 0.02698978304385378, 0.027034321913358576, 0.027080875241625252, 0.02712957980790636, 0.027180561701233168, 0.02723393561403061, 0.027289804181952582, 0.027348257373752998, 0.02740937193475974, 0.02747321088725639, 0.02753982309078389, 0.027609242865073023, 0.027681489677993422, 0.027756567900566173, 0.027834466630734602, 0.0279151595872236, 0.027998605074443676, 0.028084746019011828, 0.028173510078075746, 0.028264809819234432, 0.028358542971457252, 0.028454592746009547, 0.028552828226008912, 0.02865310482284995, 0.028755264797366068, 0.028859137843230683, 0.02896454172975449, 0.029071283000898646, 0.029179157727009495, 0.02928795230548418, 0.02939744430630283, 0.029507403358112673, 0.02961759207032616, 0.029727766986498302, 0.029837679564080725, 0.029947077175512787, 0.03005570412550303, 0.030163302679281207, 0.030269614096558362, 0.030374379665923126, 0.030477341734428644, 0.030578244727178457, 0.030676836151810438, 0.030772867582898787, 0.030866095621444257, 0.030956282824804393, 0.03104319860262308, 0.031126620074554526, 0.031206332885835113, 0.03128213197703912, 0.03135382230465296, 0.031421219509424725, 0.03148415052977627, 0.03154245415791428, 0.031595981536630145, 0.03164459659514006, 0.03168817642268718, 0.03172661157898983, 0.03175980634099016, 0.03178767888571524, 0.031810161409421965, 0.031827200183537026, 0.03183875554824021, 0.03184480184485947, 0.031845327288545736, 0.03184033378298527, 0.03182983667917321, 0.031813864480514834, 0.03179245849674986, 0.031765672449392345, 0.03173357203155955, 0.03169623442521677, 0.03165374777899485, 0.03160621064984717, 0.031553731411892376, 0.03149642763585461, 0.03143442544254774, 0.03136785883387169, 0.031296869004783116, 0.031221603639684917, 0.031142216196638078, 0.031058865182745938, 0.0309717134239922, 0.030880927332730877, 0.030786676175934155, 0.030689131347199444, 0.030588465645407608, 0.030484852562802735, 0.030378465585143885, 0.030269477506448067, 0.03015805976071622, 0.030044381772898643, 0.029928610331226697, 0.029810908982902402, 0.029691437455007616, 0.029570351102362863, 0.02944780038393833, 0.029323930369293802, 0.029198880276398817, 0.029072783042066293, 0.02894576492610931, 0.02881794515021733, 0.02868943557243311, 0.028560340397992733, 0.02843075592718635, 0.028300770340778072, 0.02817046352341412, 0.02803990692533615, 0.027909163462601663, 0.027778287455897856, 0.027647324607921055, 0.027516312019169868, 0.027385278241883967, 0.027254243371731254, 0.02712321917672226, 0.026992209262699754, 0.026861209274618783, 0.026730207132698625, 0.026599183302391183, 0.02646811109697333, 0.02633695701143162, 0.026205681086169507, 0.026074237298930644, 0.025942573983196018, 0.025810634271179807, 0.0256783565594213, 0.02554567499484787, 0.025412519979064716, 0.025278818688522896, 0.025144495608113014, 0.025009473075645817, 0.024873671834600583, 0.02473701159245808, 0.024599411581882856, 0.024460791121980817, 0.02432107017683791, 0.02418016990853792, 0.024038013221870918, 0.02389452529796741, 0.023749634114143648, 0.023603270947301875, 0.023455370858312286, 0.023305873154899796, 0.023154721830673203, 0.023001865978062995, 0.022847260173083642, 0.02269086482999109, 0.022532646524083558, 0.022372578281078817, 0.022210639831695217, 0.022046817830272125, 0.02188110603647778, 0.02171350545937162, 0.021544024463313275, 0.021372678835435855, 0.021199491814628636, 0.021024494082202513, 0.020847723714631155, 0.020669226098985926, 0.020489053811889944, 0.020307266463026528, 0.020123930504430246, 0.01993911900697787, 0.019752911405665294, 0.019565393215422687, 0.019376655719360918, 0.019186795631478567, 0.01899591473596929, 0.018804119505374806, 0.018611520699903912, 0.018418232950310025, 0.018224374326764353, 0.01803006589619392, 0.017835431270569004, 0.01764059614862227, 0.017445687853463093, 0.017250834868519742, 0.017056166374190582, 0.016861811787527988, 0.01666790030719989, 0.016474560465890627, 0.016281919692203464, 0.0160901038840196, 0.015899236995155098, 0.01570944063702948, 0.015520833696934475, 0.01533353197435288, 0.01514764783664002, 0.014963289895237599, 0.014780562703447448, 0.014599566476644128, 0.014420396835665431, 0.014243144573972374, 0.014067895449031744, 0.013894729998232314, 0.013723723379513648, 0.01355494523675311, 0.013388459589830955, 0.013224324749172288, 0.013062593254449136, 0.012903311837016785, 0.012746521405555104, 0.012592257054290094, 0.012440548093081477, 0.01229141809857908, 0.012144884985577045, 0.01200096109762613, 0.011859653315903999, 0.011720963185289942, 0.011584887056543832, 0.01145141624345082, 0.011320537193759934, 0.011192231672720064, 0.011066476957997376, 0.01094324604474721, 0.010822507859605895, 0.010704227482370578, 0.01058836637413867, 0.010474882610693625, 0.010363731119938656, 0.010254863922205707, 0.010148230372292863, 0.010043777402117494, 0.009941449762910516, 0.009841190265917867, 0.00974294002062271, 0.00964663866955076, 0.009552224618775172, 0.009459635263293268, 0.00936880720650775, 0.009279676473105063, 0.009192178714690285, 0.009106249407600154, 0.00902182404238603, 0.008938838304523794, 0.008857228245978517, 0.008776930447318042, 0.008697882170139361, 0.008620021499637847, 0.00854328747721667, 0.008467620223096805, 0.008392961048951788, 0.008319252560650052, 0.008246438751245738, 0.008174465084411213, 0.008103278568556421, 0.008032827821924268, 0.007963063128994863, 0.007893936488567642, 0.007825401653923519, 0.007757414165496954, 0.00768993137651024, 0.0076229124720401465, 0.007556318481999343, 0.0074901122885222, 0.00742425862824703, 0.0073587240899838195, 0.007293477108248606, 0.007228487953134313, 0.007163728716970581, 0.007099173298204755, 0.007034797382912031, 0.006970578424315065, 0.006906495620663089, 0.006842529891787077, 0.0067786638546129, 0.006714881797877856, 0.006651169656257823, 0.006587514984074654, 0.006523906928714593, 0.006460336203850687, 0.006396795062525256, 0.006333277270112147, 0.006269778077144925, 0.006206294191964679, 0.006142823753112154, 0.0060793663013614775, 0.006015922751270003, 0.005952495362097937, 0.005889087707934709, 0.0058257046468567835, 0.005762352288931347, 0.00569903796287567, 0.005635770181180627, 0.005572558603508478, 0.005509413998181917, 0.005446348201590358, 0.005383374075353624, 0.005320505461098057, 0.0052577571327211015, 0.0051951447460409726, 0.005132684785753476, 0.005070394509644003, 0.005008291890030977, 0.004946395552446826, 0.004884724711592638, 0.004823299104634323, 0.00476213892193891, 0.004701264735381415, 0.004640697424382732, 0.004580458099869764, 0.004520568026377118, 0.004461048542536883, 0.0044019209802293804, 0.0043432065826900824, 0.004284926421890163, 0.00422710131552638, 0.004169751743972376, 0.004112897767557151, 0.004056558944546444, 0.004000754250211554, 0.003945501997373194, 0.0038908197588115585, 0.0038367242919308724, 0.0037832314660637607, 0.0037303561927925955, 0.003678112359656292, 0.00362651276759746, 0.0035755690724907268, 0.003525291731074747, 0.0034756899515916064, 0.0034267716494149445, 0.0033785434079252464, 0.0033310104448647927, 0.0032841765843786078, 0.003238044234919531, 0.0031926143731663913, 0.0031478865340742444, 0.003103858807145323, 0.003060527838977364, 0.0030178888421152476, 0.0029759356101998944, 0.0029346605393763235, 0.002894054655892255, 0.002854107649786433, 0.002814807914536257, 0.002776142592503758, 0.0027380976259900767, 0.002700657813680291, 0.0026638068722337326, 0.002627527502748135, 0.002591801461802102, 0.0025566096367568266, 0.002521932124976104, 0.0024877483166034393, 0.0024540369805171273, 0.0024207763530668587, 0.00238794422918075, 0.002355518055419002, 0.0023234750245393516, 0.0022917921711306166, 0.0022604464678639795, 0.0022294149219074335, 0.0021986746710461395, 0.0021682030790519187, 0.0021379778298470584, 0.002107977020012763, 0.002078179249199037, 0.0020485637080027174, 0.0020191102628915334, 0.001989799537766562, 0.001960612991771248, 0.0019315329929739595, 0.0019025428875713358, 0.0018736270642826798, 0.0018447710136299037, 0.0018159613818242353, 0.001787186019008861, 0.001758434021636694, 0.0017296957687931145, 0.0017009629523064903, 0.001672228600522111, 0.001643487095650001], \"yaxis\": \"y\"}, {\"legendgroup\": \"age\", \"marker\": {\"color\": \"rgb(31, 119, 180)\", \"symbol\": \"line-ns-open\"}, \"mode\": \"markers\", \"name\": \"age\", \"showlegend\": false, \"type\": \"scatter\", \"x\": [75.0, 55.0, 65.0, 50.0, 65.0, 90.0, 75.0, 60.0, 65.0, 80.0, 75.0, 62.0, 45.0, 50.0, 49.0, 82.0, 87.0, 45.0, 70.0, 48.0, 65.0, 65.0, 68.0, 53.0, 75.0, 80.0, 95.0, 70.0, 58.0, 82.0, 94.0, 85.0, 50.0, 50.0, 65.0, 69.0, 90.0, 82.0, 60.0, 60.0, 70.0, 50.0, 70.0, 72.0, 60.0, 50.0, 51.0, 60.0, 80.0, 57.0, 68.0, 53.0, 60.0, 70.0, 60.0, 95.0, 70.0, 60.0, 49.0, 72.0, 45.0, 50.0, 55.0, 45.0, 45.0, 60.0, 42.0, 72.0, 70.0, 65.0, 41.0, 58.0, 85.0, 65.0, 69.0, 60.0, 70.0, 42.0, 75.0, 55.0, 70.0, 67.0, 60.0, 79.0, 59.0, 51.0, 55.0, 65.0, 44.0, 57.0, 70.0, 60.0, 42.0, 60.0, 58.0, 58.0, 63.0, 70.0, 60.0, 63.0, 65.0, 75.0, 80.0, 42.0, 60.0, 72.0, 55.0, 45.0, 63.0, 45.0, 85.0, 55.0, 50.0, 70.0, 60.0, 58.0, 60.0, 85.0, 65.0, 86.0, 60.0, 66.0, 60.0, 60.0, 60.0, 43.0, 46.0, 58.0, 61.0, 53.0, 53.0, 60.0, 46.0, 63.0, 81.0, 75.0, 65.0, 68.0, 62.0, 50.0, 80.0, 46.0, 50.0, 61.0, 72.0, 50.0, 52.0, 64.0, 75.0, 60.0, 72.0, 62.0, 50.0, 50.0, 65.0, 60.0, 52.0, 50.0, 85.0, 59.0, 66.0, 45.0, 63.0, 50.0, 45.0, 80.0, 53.0, 59.0, 65.0, 70.0, 51.0, 52.0, 70.0, 50.0, 65.0, 60.0, 69.0, 49.0, 63.0, 55.0, 40.0, 59.0, 65.0, 75.0, 58.0, 60.667, 50.0, 60.0, 60.667, 40.0, 80.0, 64.0, 50.0, 73.0, 45.0, 77.0, 45.0, 65.0, 50.0, 60.0, 63.0, 45.0, 70.0, 60.0, 78.0, 50.0, 40.0, 85.0, 60.0, 49.0, 70.0, 50.0, 78.0, 48.0, 65.0, 73.0, 70.0, 54.0, 68.0, 55.0, 73.0, 65.0, 42.0, 47.0, 58.0, 75.0, 58.0, 55.0, 65.0, 72.0, 60.0, 70.0, 40.0, 53.0, 53.0, 77.0, 75.0, 70.0, 65.0, 55.0, 70.0, 65.0, 40.0, 73.0, 54.0, 61.0, 55.0, 64.0, 40.0, 53.0, 50.0, 55.0, 50.0, 70.0, 53.0, 52.0, 65.0, 58.0, 45.0, 53.0, 55.0, 62.0, 65.0, 68.0, 61.0, 50.0, 55.0, 56.0, 45.0, 40.0, 44.0, 51.0, 67.0, 42.0, 60.0, 45.0, 70.0, 70.0, 50.0, 55.0, 70.0, 70.0, 42.0, 65.0, 50.0, 55.0, 60.0, 45.0, 65.0, 90.0, 45.0, 60.0, 52.0, 63.0, 62.0, 55.0, 45.0, 45.0, 50.0], \"xaxis\": \"x\", \"y\": [\"age\", \"age\", \"age\", \"age\", \"age\", \"age\", \"age\", \"age\", \"age\", \"age\", \"age\", \"age\", \"age\", \"age\", \"age\", \"age\", \"age\", \"age\", \"age\", \"age\", \"age\", \"age\", \"age\", \"age\", \"age\", \"age\", \"age\", \"age\", \"age\", \"age\", \"age\", \"age\", \"age\", \"age\", \"age\", \"age\", \"age\", \"age\", \"age\", \"age\", \"age\", \"age\", \"age\", \"age\", \"age\", \"age\", \"age\", \"age\", \"age\", \"age\", \"age\", \"age\", \"age\", \"age\", \"age\", \"age\", \"age\", \"age\", \"age\", \"age\", \"age\", \"age\", \"age\", \"age\", \"age\", \"age\", \"age\", \"age\", \"age\", \"age\", \"age\", \"age\", \"age\", \"age\", \"age\", \"age\", \"age\", \"age\", \"age\", \"age\", \"age\", \"age\", \"age\", \"age\", \"age\", \"age\", \"age\", \"age\", \"age\", \"age\", \"age\", \"age\", \"age\", \"age\", \"age\", \"age\", \"age\", \"age\", \"age\", \"age\", \"age\", \"age\", \"age\", \"age\", \"age\", \"age\", \"age\", \"age\", \"age\", \"age\", \"age\", \"age\", \"age\", \"age\", \"age\", \"age\", \"age\", \"age\", \"age\", \"age\", \"age\", \"age\", \"age\", \"age\", \"age\", \"age\", \"age\", \"age\", \"age\", \"age\", \"age\", \"age\", \"age\", \"age\", \"age\", \"age\", \"age\", \"age\", \"age\", \"age\", \"age\", \"age\", \"age\", \"age\", \"age\", \"age\", \"age\", \"age\", \"age\", \"age\", \"age\", \"age\", \"age\", \"age\", \"age\", \"age\", \"age\", \"age\", \"age\", \"age\", \"age\", \"age\", \"age\", \"age\", \"age\", \"age\", \"age\", \"age\", \"age\", \"age\", \"age\", \"age\", \"age\", \"age\", \"age\", \"age\", \"age\", \"age\", \"age\", \"age\", \"age\", \"age\", \"age\", \"age\", \"age\", \"age\", \"age\", \"age\", \"age\", \"age\", \"age\", \"age\", \"age\", \"age\", \"age\", \"age\", \"age\", \"age\", \"age\", \"age\", \"age\", \"age\", \"age\", \"age\", \"age\", \"age\", \"age\", \"age\", \"age\", \"age\", \"age\", \"age\", \"age\", \"age\", \"age\", \"age\", \"age\", \"age\", \"age\", \"age\", \"age\", \"age\", \"age\", \"age\", \"age\", \"age\", \"age\", \"age\", \"age\", \"age\", \"age\", \"age\", \"age\", \"age\", \"age\", \"age\", \"age\", \"age\", \"age\", \"age\", \"age\", \"age\", \"age\", \"age\", \"age\", \"age\", \"age\", \"age\", \"age\", \"age\", \"age\", \"age\", \"age\", \"age\", \"age\", \"age\", \"age\", \"age\", \"age\", \"age\", \"age\", \"age\", \"age\", \"age\", \"age\", \"age\", \"age\", \"age\", \"age\", \"age\", \"age\", \"age\", \"age\", \"age\", \"age\", \"age\", \"age\", \"age\", \"age\", \"age\", \"age\", \"age\", \"age\", \"age\", \"age\", \"age\", \"age\", \"age\", \"age\", \"age\", \"age\", \"age\", \"age\", \"age\", \"age\", \"age\", \"age\", \"age\", \"age\"], \"yaxis\": \"y2\"}],\n",
              "                        {\"barmode\": \"overlay\", \"hovermode\": \"closest\", \"legend\": {\"traceorder\": \"reversed\"}, \"template\": {\"data\": {\"bar\": [{\"error_x\": {\"color\": \"#2a3f5f\"}, \"error_y\": {\"color\": \"#2a3f5f\"}, \"marker\": {\"line\": {\"color\": \"#E5ECF6\", \"width\": 0.5}}, \"type\": \"bar\"}], \"barpolar\": [{\"marker\": {\"line\": {\"color\": \"#E5ECF6\", \"width\": 0.5}}, \"type\": \"barpolar\"}], \"carpet\": [{\"aaxis\": {\"endlinecolor\": \"#2a3f5f\", \"gridcolor\": \"white\", \"linecolor\": \"white\", \"minorgridcolor\": \"white\", \"startlinecolor\": \"#2a3f5f\"}, \"baxis\": {\"endlinecolor\": \"#2a3f5f\", \"gridcolor\": \"white\", \"linecolor\": \"white\", \"minorgridcolor\": \"white\", \"startlinecolor\": \"#2a3f5f\"}, \"type\": \"carpet\"}], \"choropleth\": [{\"colorbar\": {\"outlinewidth\": 0, \"ticks\": \"\"}, \"type\": \"choropleth\"}], \"contour\": [{\"colorbar\": {\"outlinewidth\": 0, \"ticks\": \"\"}, \"colorscale\": [[0.0, \"#0d0887\"], [0.1111111111111111, \"#46039f\"], [0.2222222222222222, \"#7201a8\"], [0.3333333333333333, \"#9c179e\"], [0.4444444444444444, \"#bd3786\"], [0.5555555555555556, \"#d8576b\"], [0.6666666666666666, \"#ed7953\"], [0.7777777777777778, \"#fb9f3a\"], [0.8888888888888888, \"#fdca26\"], [1.0, \"#f0f921\"]], \"type\": \"contour\"}], \"contourcarpet\": [{\"colorbar\": {\"outlinewidth\": 0, \"ticks\": \"\"}, \"type\": \"contourcarpet\"}], \"heatmap\": [{\"colorbar\": {\"outlinewidth\": 0, \"ticks\": \"\"}, \"colorscale\": [[0.0, \"#0d0887\"], [0.1111111111111111, \"#46039f\"], [0.2222222222222222, \"#7201a8\"], [0.3333333333333333, \"#9c179e\"], [0.4444444444444444, \"#bd3786\"], [0.5555555555555556, \"#d8576b\"], [0.6666666666666666, \"#ed7953\"], [0.7777777777777778, \"#fb9f3a\"], [0.8888888888888888, \"#fdca26\"], [1.0, \"#f0f921\"]], \"type\": \"heatmap\"}], \"heatmapgl\": [{\"colorbar\": {\"outlinewidth\": 0, \"ticks\": \"\"}, \"colorscale\": [[0.0, \"#0d0887\"], [0.1111111111111111, \"#46039f\"], [0.2222222222222222, \"#7201a8\"], [0.3333333333333333, \"#9c179e\"], [0.4444444444444444, \"#bd3786\"], [0.5555555555555556, \"#d8576b\"], [0.6666666666666666, \"#ed7953\"], [0.7777777777777778, \"#fb9f3a\"], [0.8888888888888888, \"#fdca26\"], [1.0, \"#f0f921\"]], \"type\": \"heatmapgl\"}], \"histogram\": [{\"marker\": {\"colorbar\": {\"outlinewidth\": 0, \"ticks\": \"\"}}, \"type\": \"histogram\"}], \"histogram2d\": [{\"colorbar\": {\"outlinewidth\": 0, \"ticks\": \"\"}, \"colorscale\": [[0.0, \"#0d0887\"], [0.1111111111111111, \"#46039f\"], [0.2222222222222222, \"#7201a8\"], [0.3333333333333333, \"#9c179e\"], [0.4444444444444444, \"#bd3786\"], [0.5555555555555556, \"#d8576b\"], [0.6666666666666666, \"#ed7953\"], [0.7777777777777778, \"#fb9f3a\"], [0.8888888888888888, \"#fdca26\"], [1.0, \"#f0f921\"]], \"type\": \"histogram2d\"}], \"histogram2dcontour\": [{\"colorbar\": {\"outlinewidth\": 0, \"ticks\": \"\"}, \"colorscale\": [[0.0, \"#0d0887\"], [0.1111111111111111, \"#46039f\"], [0.2222222222222222, \"#7201a8\"], [0.3333333333333333, \"#9c179e\"], [0.4444444444444444, \"#bd3786\"], [0.5555555555555556, \"#d8576b\"], [0.6666666666666666, \"#ed7953\"], [0.7777777777777778, \"#fb9f3a\"], [0.8888888888888888, \"#fdca26\"], [1.0, \"#f0f921\"]], \"type\": \"histogram2dcontour\"}], \"mesh3d\": [{\"colorbar\": {\"outlinewidth\": 0, \"ticks\": \"\"}, \"type\": \"mesh3d\"}], \"parcoords\": [{\"line\": {\"colorbar\": {\"outlinewidth\": 0, \"ticks\": \"\"}}, \"type\": \"parcoords\"}], \"pie\": [{\"automargin\": true, \"type\": \"pie\"}], \"scatter\": [{\"marker\": {\"colorbar\": {\"outlinewidth\": 0, \"ticks\": \"\"}}, \"type\": \"scatter\"}], \"scatter3d\": [{\"line\": {\"colorbar\": {\"outlinewidth\": 0, \"ticks\": \"\"}}, \"marker\": {\"colorbar\": {\"outlinewidth\": 0, \"ticks\": \"\"}}, \"type\": \"scatter3d\"}], \"scattercarpet\": [{\"marker\": {\"colorbar\": {\"outlinewidth\": 0, \"ticks\": \"\"}}, \"type\": \"scattercarpet\"}], \"scattergeo\": [{\"marker\": {\"colorbar\": {\"outlinewidth\": 0, \"ticks\": \"\"}}, \"type\": \"scattergeo\"}], \"scattergl\": [{\"marker\": {\"colorbar\": {\"outlinewidth\": 0, \"ticks\": \"\"}}, \"type\": \"scattergl\"}], \"scattermapbox\": [{\"marker\": {\"colorbar\": {\"outlinewidth\": 0, \"ticks\": \"\"}}, \"type\": \"scattermapbox\"}], \"scatterpolar\": [{\"marker\": {\"colorbar\": {\"outlinewidth\": 0, \"ticks\": \"\"}}, \"type\": \"scatterpolar\"}], \"scatterpolargl\": [{\"marker\": {\"colorbar\": {\"outlinewidth\": 0, \"ticks\": \"\"}}, \"type\": \"scatterpolargl\"}], \"scatterternary\": [{\"marker\": {\"colorbar\": {\"outlinewidth\": 0, \"ticks\": \"\"}}, \"type\": \"scatterternary\"}], \"surface\": [{\"colorbar\": {\"outlinewidth\": 0, \"ticks\": \"\"}, \"colorscale\": [[0.0, \"#0d0887\"], [0.1111111111111111, \"#46039f\"], [0.2222222222222222, \"#7201a8\"], [0.3333333333333333, \"#9c179e\"], [0.4444444444444444, \"#bd3786\"], [0.5555555555555556, \"#d8576b\"], [0.6666666666666666, \"#ed7953\"], [0.7777777777777778, \"#fb9f3a\"], [0.8888888888888888, \"#fdca26\"], [1.0, \"#f0f921\"]], \"type\": \"surface\"}], \"table\": [{\"cells\": {\"fill\": {\"color\": \"#EBF0F8\"}, \"line\": {\"color\": \"white\"}}, \"header\": {\"fill\": {\"color\": \"#C8D4E3\"}, \"line\": {\"color\": \"white\"}}, \"type\": \"table\"}]}, \"layout\": {\"annotationdefaults\": {\"arrowcolor\": \"#2a3f5f\", \"arrowhead\": 0, \"arrowwidth\": 1}, \"coloraxis\": {\"colorbar\": {\"outlinewidth\": 0, \"ticks\": \"\"}}, \"colorscale\": {\"diverging\": [[0, \"#8e0152\"], [0.1, \"#c51b7d\"], [0.2, \"#de77ae\"], [0.3, \"#f1b6da\"], [0.4, \"#fde0ef\"], [0.5, \"#f7f7f7\"], [0.6, \"#e6f5d0\"], [0.7, \"#b8e186\"], [0.8, \"#7fbc41\"], [0.9, \"#4d9221\"], [1, \"#276419\"]], \"sequential\": [[0.0, \"#0d0887\"], [0.1111111111111111, \"#46039f\"], [0.2222222222222222, \"#7201a8\"], [0.3333333333333333, \"#9c179e\"], [0.4444444444444444, \"#bd3786\"], [0.5555555555555556, \"#d8576b\"], [0.6666666666666666, \"#ed7953\"], [0.7777777777777778, \"#fb9f3a\"], [0.8888888888888888, \"#fdca26\"], [1.0, \"#f0f921\"]], \"sequentialminus\": [[0.0, \"#0d0887\"], [0.1111111111111111, \"#46039f\"], [0.2222222222222222, \"#7201a8\"], [0.3333333333333333, \"#9c179e\"], [0.4444444444444444, \"#bd3786\"], [0.5555555555555556, \"#d8576b\"], [0.6666666666666666, \"#ed7953\"], [0.7777777777777778, \"#fb9f3a\"], [0.8888888888888888, \"#fdca26\"], [1.0, \"#f0f921\"]]}, \"colorway\": [\"#636efa\", \"#EF553B\", \"#00cc96\", \"#ab63fa\", \"#FFA15A\", \"#19d3f3\", \"#FF6692\", \"#B6E880\", \"#FF97FF\", \"#FECB52\"], \"font\": {\"color\": \"#2a3f5f\"}, \"geo\": {\"bgcolor\": \"white\", \"lakecolor\": \"white\", \"landcolor\": \"#E5ECF6\", \"showlakes\": true, \"showland\": true, \"subunitcolor\": \"white\"}, \"hoverlabel\": {\"align\": \"left\"}, \"hovermode\": \"closest\", \"mapbox\": {\"style\": \"light\"}, \"paper_bgcolor\": \"white\", \"plot_bgcolor\": \"#E5ECF6\", \"polar\": {\"angularaxis\": {\"gridcolor\": \"white\", \"linecolor\": \"white\", \"ticks\": \"\"}, \"bgcolor\": \"#E5ECF6\", \"radialaxis\": {\"gridcolor\": \"white\", \"linecolor\": \"white\", \"ticks\": \"\"}}, \"scene\": {\"xaxis\": {\"backgroundcolor\": \"#E5ECF6\", \"gridcolor\": \"white\", \"gridwidth\": 2, \"linecolor\": \"white\", \"showbackground\": true, \"ticks\": \"\", \"zerolinecolor\": \"white\"}, \"yaxis\": {\"backgroundcolor\": \"#E5ECF6\", \"gridcolor\": \"white\", \"gridwidth\": 2, \"linecolor\": \"white\", \"showbackground\": true, \"ticks\": \"\", \"zerolinecolor\": \"white\"}, \"zaxis\": {\"backgroundcolor\": \"#E5ECF6\", \"gridcolor\": \"white\", \"gridwidth\": 2, \"linecolor\": \"white\", \"showbackground\": true, \"ticks\": \"\", \"zerolinecolor\": \"white\"}}, \"shapedefaults\": {\"line\": {\"color\": \"#2a3f5f\"}}, \"ternary\": {\"aaxis\": {\"gridcolor\": \"white\", \"linecolor\": \"white\", \"ticks\": \"\"}, \"baxis\": {\"gridcolor\": \"white\", \"linecolor\": \"white\", \"ticks\": \"\"}, \"bgcolor\": \"#E5ECF6\", \"caxis\": {\"gridcolor\": \"white\", \"linecolor\": \"white\", \"ticks\": \"\"}}, \"title\": {\"x\": 0.05}, \"xaxis\": {\"automargin\": true, \"gridcolor\": \"white\", \"linecolor\": \"white\", \"ticks\": \"\", \"title\": {\"standoff\": 15}, \"zerolinecolor\": \"white\", \"zerolinewidth\": 2}, \"yaxis\": {\"automargin\": true, \"gridcolor\": \"white\", \"linecolor\": \"white\", \"ticks\": \"\", \"title\": {\"standoff\": 15}, \"zerolinecolor\": \"white\", \"zerolinewidth\": 2}}}, \"title\": {\"text\": \"Age Distribution plot\"}, \"xaxis\": {\"anchor\": \"y2\", \"domain\": [0.0, 1.0], \"zeroline\": false}, \"yaxis\": {\"anchor\": \"free\", \"domain\": [0.35, 1], \"position\": 0.0}, \"yaxis2\": {\"anchor\": \"x\", \"domain\": [0, 0.25], \"dtick\": 1, \"showticklabels\": false}},\n",
              "                        {\"responsive\": true}\n",
              "                    ).then(function(){\n",
              "                            \n",
              "var gd = document.getElementById('fff9e771-f064-4f7f-98de-9568e0eb3fa6');\n",
              "var x = new MutationObserver(function (mutations, observer) {{\n",
              "        var display = window.getComputedStyle(gd).display;\n",
              "        if (!display || display === 'none') {{\n",
              "            console.log([gd, 'removed!']);\n",
              "            Plotly.purge(gd);\n",
              "            observer.disconnect();\n",
              "        }}\n",
              "}});\n",
              "\n",
              "// Listen for the removal of the full notebook cells\n",
              "var notebookContainer = gd.closest('#notebook-container');\n",
              "if (notebookContainer) {{\n",
              "    x.observe(notebookContainer, {childList: true});\n",
              "}}\n",
              "\n",
              "// Listen for the clearing of the current output cell\n",
              "var outputEl = gd.closest('.output');\n",
              "if (outputEl) {{\n",
              "    x.observe(outputEl, {childList: true});\n",
              "}}\n",
              "\n",
              "                        })\n",
              "                };\n",
              "                \n",
              "            </script>\n",
              "        </div>\n",
              "</body>\n",
              "</html>"
            ]
          },
          "metadata": {}
        }
      ]
    },
    {
      "cell_type": "markdown",
      "metadata": {
        "id": "FZq4-RianGRM"
      },
      "source": [
        "\n",
        "\n",
        "*   Dataset consists mostly of people of age ranging from 40 to 75\n",
        "\n",
        "\n",
        "\n"
      ]
    },
    {
      "cell_type": "code",
      "metadata": {
        "colab": {
          "base_uri": "https://localhost:8080/",
          "height": 1000
        },
        "id": "fTVGVSSunvES",
        "outputId": "cdff0d0f-bea7-4fb6-e400-dcee492466ae"
      },
      "source": [
        "male = data[data[\"sex\"]==1]\n",
        "female = data[data[\"sex\"]==0]\n",
        "male_survi = male[data[\"Target\"]==0]\n",
        "male_not = male[data[\"Target\"]==1]\n",
        "female_survi = female[data[\"Target\"]==0]\n",
        "female_not = female[data[\"Target\"]==1]\n",
        "\n",
        "labels = ['Male - Survived','Male - Not Survived', \"Female -  Survived\", \"Female - Not Survived\"]\n",
        "values = [len(male[data[\"Target\"]==0]),len(male[data[\"Target\"]==1]),\n",
        "         len(female[data[\"Target\"]==0]),len(female[data[\"Target\"]==1])]\n",
        "fig = go.Figure(data=[go.Pie(labels=labels, values=values, hole=.4)])\n",
        "fig.update_layout(\n",
        "    title_text=\"Analysis on Survival of Heart Failure- Gender\")\n",
        "fig.show()"
      ],
      "execution_count": 7,
      "outputs": [
        {
          "output_type": "stream",
          "name": "stderr",
          "text": [
            "/usr/local/lib/python3.7/dist-packages/ipykernel_launcher.py:3: UserWarning:\n",
            "\n",
            "Boolean Series key will be reindexed to match DataFrame index.\n",
            "\n",
            "/usr/local/lib/python3.7/dist-packages/ipykernel_launcher.py:4: UserWarning:\n",
            "\n",
            "Boolean Series key will be reindexed to match DataFrame index.\n",
            "\n",
            "/usr/local/lib/python3.7/dist-packages/ipykernel_launcher.py:5: UserWarning:\n",
            "\n",
            "Boolean Series key will be reindexed to match DataFrame index.\n",
            "\n",
            "/usr/local/lib/python3.7/dist-packages/ipykernel_launcher.py:6: UserWarning:\n",
            "\n",
            "Boolean Series key will be reindexed to match DataFrame index.\n",
            "\n",
            "/usr/local/lib/python3.7/dist-packages/ipykernel_launcher.py:9: UserWarning:\n",
            "\n",
            "Boolean Series key will be reindexed to match DataFrame index.\n",
            "\n",
            "/usr/local/lib/python3.7/dist-packages/ipykernel_launcher.py:9: UserWarning:\n",
            "\n",
            "Boolean Series key will be reindexed to match DataFrame index.\n",
            "\n",
            "/usr/local/lib/python3.7/dist-packages/ipykernel_launcher.py:10: UserWarning:\n",
            "\n",
            "Boolean Series key will be reindexed to match DataFrame index.\n",
            "\n",
            "/usr/local/lib/python3.7/dist-packages/ipykernel_launcher.py:10: UserWarning:\n",
            "\n",
            "Boolean Series key will be reindexed to match DataFrame index.\n",
            "\n"
          ]
        },
        {
          "output_type": "display_data",
          "data": {
            "text/html": [
              "<html>\n",
              "<head><meta charset=\"utf-8\" /></head>\n",
              "<body>\n",
              "    <div>\n",
              "            <script src=\"https://cdnjs.cloudflare.com/ajax/libs/mathjax/2.7.5/MathJax.js?config=TeX-AMS-MML_SVG\"></script><script type=\"text/javascript\">if (window.MathJax) {MathJax.Hub.Config({SVG: {font: \"STIX-Web\"}});}</script>\n",
              "                <script type=\"text/javascript\">window.PlotlyConfig = {MathJaxConfig: 'local'};</script>\n",
              "        <script src=\"https://cdn.plot.ly/plotly-latest.min.js\"></script>    \n",
              "            <div id=\"22b74a17-cc5a-449a-863d-52af65485e8e\" class=\"plotly-graph-div\" style=\"height:525px; width:100%;\"></div>\n",
              "            <script type=\"text/javascript\">\n",
              "                \n",
              "                    window.PLOTLYENV=window.PLOTLYENV || {};\n",
              "                    \n",
              "                if (document.getElementById(\"22b74a17-cc5a-449a-863d-52af65485e8e\")) {\n",
              "                    Plotly.newPlot(\n",
              "                        '22b74a17-cc5a-449a-863d-52af65485e8e',\n",
              "                        [{\"hole\": 0.4, \"labels\": [\"Male - Survived\", \"Male - Not Survived\", \"Female -  Survived\", \"Female - Not Survived\"], \"type\": \"pie\", \"values\": [132, 62, 71, 34]}],\n",
              "                        {\"template\": {\"data\": {\"bar\": [{\"error_x\": {\"color\": \"#2a3f5f\"}, \"error_y\": {\"color\": \"#2a3f5f\"}, \"marker\": {\"line\": {\"color\": \"#E5ECF6\", \"width\": 0.5}}, \"type\": \"bar\"}], \"barpolar\": [{\"marker\": {\"line\": {\"color\": \"#E5ECF6\", \"width\": 0.5}}, \"type\": \"barpolar\"}], \"carpet\": [{\"aaxis\": {\"endlinecolor\": \"#2a3f5f\", \"gridcolor\": \"white\", \"linecolor\": \"white\", \"minorgridcolor\": \"white\", \"startlinecolor\": \"#2a3f5f\"}, \"baxis\": {\"endlinecolor\": \"#2a3f5f\", \"gridcolor\": \"white\", \"linecolor\": \"white\", \"minorgridcolor\": \"white\", \"startlinecolor\": \"#2a3f5f\"}, \"type\": \"carpet\"}], \"choropleth\": [{\"colorbar\": {\"outlinewidth\": 0, \"ticks\": \"\"}, \"type\": \"choropleth\"}], \"contour\": [{\"colorbar\": {\"outlinewidth\": 0, \"ticks\": \"\"}, \"colorscale\": [[0.0, \"#0d0887\"], [0.1111111111111111, \"#46039f\"], [0.2222222222222222, \"#7201a8\"], [0.3333333333333333, \"#9c179e\"], [0.4444444444444444, \"#bd3786\"], [0.5555555555555556, \"#d8576b\"], [0.6666666666666666, \"#ed7953\"], [0.7777777777777778, \"#fb9f3a\"], [0.8888888888888888, \"#fdca26\"], [1.0, \"#f0f921\"]], \"type\": \"contour\"}], \"contourcarpet\": [{\"colorbar\": {\"outlinewidth\": 0, \"ticks\": \"\"}, \"type\": \"contourcarpet\"}], \"heatmap\": [{\"colorbar\": {\"outlinewidth\": 0, \"ticks\": \"\"}, \"colorscale\": [[0.0, \"#0d0887\"], [0.1111111111111111, \"#46039f\"], [0.2222222222222222, \"#7201a8\"], [0.3333333333333333, \"#9c179e\"], [0.4444444444444444, \"#bd3786\"], [0.5555555555555556, \"#d8576b\"], [0.6666666666666666, \"#ed7953\"], [0.7777777777777778, \"#fb9f3a\"], [0.8888888888888888, \"#fdca26\"], [1.0, \"#f0f921\"]], \"type\": \"heatmap\"}], \"heatmapgl\": [{\"colorbar\": {\"outlinewidth\": 0, \"ticks\": \"\"}, \"colorscale\": [[0.0, \"#0d0887\"], [0.1111111111111111, \"#46039f\"], [0.2222222222222222, \"#7201a8\"], [0.3333333333333333, \"#9c179e\"], [0.4444444444444444, \"#bd3786\"], [0.5555555555555556, \"#d8576b\"], [0.6666666666666666, \"#ed7953\"], [0.7777777777777778, \"#fb9f3a\"], [0.8888888888888888, \"#fdca26\"], [1.0, \"#f0f921\"]], \"type\": \"heatmapgl\"}], \"histogram\": [{\"marker\": {\"colorbar\": {\"outlinewidth\": 0, \"ticks\": \"\"}}, \"type\": \"histogram\"}], \"histogram2d\": [{\"colorbar\": {\"outlinewidth\": 0, \"ticks\": \"\"}, \"colorscale\": [[0.0, \"#0d0887\"], [0.1111111111111111, \"#46039f\"], [0.2222222222222222, \"#7201a8\"], [0.3333333333333333, \"#9c179e\"], [0.4444444444444444, \"#bd3786\"], [0.5555555555555556, \"#d8576b\"], [0.6666666666666666, \"#ed7953\"], [0.7777777777777778, \"#fb9f3a\"], [0.8888888888888888, \"#fdca26\"], [1.0, \"#f0f921\"]], \"type\": \"histogram2d\"}], \"histogram2dcontour\": [{\"colorbar\": {\"outlinewidth\": 0, \"ticks\": \"\"}, \"colorscale\": [[0.0, \"#0d0887\"], [0.1111111111111111, \"#46039f\"], [0.2222222222222222, \"#7201a8\"], [0.3333333333333333, \"#9c179e\"], [0.4444444444444444, \"#bd3786\"], [0.5555555555555556, \"#d8576b\"], [0.6666666666666666, \"#ed7953\"], [0.7777777777777778, \"#fb9f3a\"], [0.8888888888888888, \"#fdca26\"], [1.0, \"#f0f921\"]], \"type\": \"histogram2dcontour\"}], \"mesh3d\": [{\"colorbar\": {\"outlinewidth\": 0, \"ticks\": \"\"}, \"type\": \"mesh3d\"}], \"parcoords\": [{\"line\": {\"colorbar\": {\"outlinewidth\": 0, \"ticks\": \"\"}}, \"type\": \"parcoords\"}], \"pie\": [{\"automargin\": true, \"type\": \"pie\"}], \"scatter\": [{\"marker\": {\"colorbar\": {\"outlinewidth\": 0, \"ticks\": \"\"}}, \"type\": \"scatter\"}], \"scatter3d\": [{\"line\": {\"colorbar\": {\"outlinewidth\": 0, \"ticks\": \"\"}}, \"marker\": {\"colorbar\": {\"outlinewidth\": 0, \"ticks\": \"\"}}, \"type\": \"scatter3d\"}], \"scattercarpet\": [{\"marker\": {\"colorbar\": {\"outlinewidth\": 0, \"ticks\": \"\"}}, \"type\": \"scattercarpet\"}], \"scattergeo\": [{\"marker\": {\"colorbar\": {\"outlinewidth\": 0, \"ticks\": \"\"}}, \"type\": \"scattergeo\"}], \"scattergl\": [{\"marker\": {\"colorbar\": {\"outlinewidth\": 0, \"ticks\": \"\"}}, \"type\": \"scattergl\"}], \"scattermapbox\": [{\"marker\": {\"colorbar\": {\"outlinewidth\": 0, \"ticks\": \"\"}}, \"type\": \"scattermapbox\"}], \"scatterpolar\": [{\"marker\": {\"colorbar\": {\"outlinewidth\": 0, \"ticks\": \"\"}}, \"type\": \"scatterpolar\"}], \"scatterpolargl\": [{\"marker\": {\"colorbar\": {\"outlinewidth\": 0, \"ticks\": \"\"}}, \"type\": \"scatterpolargl\"}], \"scatterternary\": [{\"marker\": {\"colorbar\": {\"outlinewidth\": 0, \"ticks\": \"\"}}, \"type\": \"scatterternary\"}], \"surface\": [{\"colorbar\": {\"outlinewidth\": 0, \"ticks\": \"\"}, \"colorscale\": [[0.0, \"#0d0887\"], [0.1111111111111111, \"#46039f\"], [0.2222222222222222, \"#7201a8\"], [0.3333333333333333, \"#9c179e\"], [0.4444444444444444, \"#bd3786\"], [0.5555555555555556, \"#d8576b\"], [0.6666666666666666, \"#ed7953\"], [0.7777777777777778, \"#fb9f3a\"], [0.8888888888888888, \"#fdca26\"], [1.0, \"#f0f921\"]], \"type\": \"surface\"}], \"table\": [{\"cells\": {\"fill\": {\"color\": \"#EBF0F8\"}, \"line\": {\"color\": \"white\"}}, \"header\": {\"fill\": {\"color\": \"#C8D4E3\"}, \"line\": {\"color\": \"white\"}}, \"type\": \"table\"}]}, \"layout\": {\"annotationdefaults\": {\"arrowcolor\": \"#2a3f5f\", \"arrowhead\": 0, \"arrowwidth\": 1}, \"coloraxis\": {\"colorbar\": {\"outlinewidth\": 0, \"ticks\": \"\"}}, \"colorscale\": {\"diverging\": [[0, \"#8e0152\"], [0.1, \"#c51b7d\"], [0.2, \"#de77ae\"], [0.3, \"#f1b6da\"], [0.4, \"#fde0ef\"], [0.5, \"#f7f7f7\"], [0.6, \"#e6f5d0\"], [0.7, \"#b8e186\"], [0.8, \"#7fbc41\"], [0.9, \"#4d9221\"], [1, \"#276419\"]], \"sequential\": [[0.0, \"#0d0887\"], [0.1111111111111111, \"#46039f\"], [0.2222222222222222, \"#7201a8\"], [0.3333333333333333, \"#9c179e\"], [0.4444444444444444, \"#bd3786\"], [0.5555555555555556, \"#d8576b\"], [0.6666666666666666, \"#ed7953\"], [0.7777777777777778, \"#fb9f3a\"], [0.8888888888888888, \"#fdca26\"], [1.0, \"#f0f921\"]], \"sequentialminus\": [[0.0, \"#0d0887\"], [0.1111111111111111, \"#46039f\"], [0.2222222222222222, \"#7201a8\"], [0.3333333333333333, \"#9c179e\"], [0.4444444444444444, \"#bd3786\"], [0.5555555555555556, \"#d8576b\"], [0.6666666666666666, \"#ed7953\"], [0.7777777777777778, \"#fb9f3a\"], [0.8888888888888888, \"#fdca26\"], [1.0, \"#f0f921\"]]}, \"colorway\": [\"#636efa\", \"#EF553B\", \"#00cc96\", \"#ab63fa\", \"#FFA15A\", \"#19d3f3\", \"#FF6692\", \"#B6E880\", \"#FF97FF\", \"#FECB52\"], \"font\": {\"color\": \"#2a3f5f\"}, \"geo\": {\"bgcolor\": \"white\", \"lakecolor\": \"white\", \"landcolor\": \"#E5ECF6\", \"showlakes\": true, \"showland\": true, \"subunitcolor\": \"white\"}, \"hoverlabel\": {\"align\": \"left\"}, \"hovermode\": \"closest\", \"mapbox\": {\"style\": \"light\"}, \"paper_bgcolor\": \"white\", \"plot_bgcolor\": \"#E5ECF6\", \"polar\": {\"angularaxis\": {\"gridcolor\": \"white\", \"linecolor\": \"white\", \"ticks\": \"\"}, \"bgcolor\": \"#E5ECF6\", \"radialaxis\": {\"gridcolor\": \"white\", \"linecolor\": \"white\", \"ticks\": \"\"}}, \"scene\": {\"xaxis\": {\"backgroundcolor\": \"#E5ECF6\", \"gridcolor\": \"white\", \"gridwidth\": 2, \"linecolor\": \"white\", \"showbackground\": true, \"ticks\": \"\", \"zerolinecolor\": \"white\"}, \"yaxis\": {\"backgroundcolor\": \"#E5ECF6\", \"gridcolor\": \"white\", \"gridwidth\": 2, \"linecolor\": \"white\", \"showbackground\": true, \"ticks\": \"\", \"zerolinecolor\": \"white\"}, \"zaxis\": {\"backgroundcolor\": \"#E5ECF6\", \"gridcolor\": \"white\", \"gridwidth\": 2, \"linecolor\": \"white\", \"showbackground\": true, \"ticks\": \"\", \"zerolinecolor\": \"white\"}}, \"shapedefaults\": {\"line\": {\"color\": \"#2a3f5f\"}}, \"ternary\": {\"aaxis\": {\"gridcolor\": \"white\", \"linecolor\": \"white\", \"ticks\": \"\"}, \"baxis\": {\"gridcolor\": \"white\", \"linecolor\": \"white\", \"ticks\": \"\"}, \"bgcolor\": \"#E5ECF6\", \"caxis\": {\"gridcolor\": \"white\", \"linecolor\": \"white\", \"ticks\": \"\"}}, \"title\": {\"x\": 0.05}, \"xaxis\": {\"automargin\": true, \"gridcolor\": \"white\", \"linecolor\": \"white\", \"ticks\": \"\", \"title\": {\"standoff\": 15}, \"zerolinecolor\": \"white\", \"zerolinewidth\": 2}, \"yaxis\": {\"automargin\": true, \"gridcolor\": \"white\", \"linecolor\": \"white\", \"ticks\": \"\", \"title\": {\"standoff\": 15}, \"zerolinecolor\": \"white\", \"zerolinewidth\": 2}}}, \"title\": {\"text\": \"Analysis on Survival of Heart Failure- Gender\"}},\n",
              "                        {\"responsive\": true}\n",
              "                    ).then(function(){\n",
              "                            \n",
              "var gd = document.getElementById('22b74a17-cc5a-449a-863d-52af65485e8e');\n",
              "var x = new MutationObserver(function (mutations, observer) {{\n",
              "        var display = window.getComputedStyle(gd).display;\n",
              "        if (!display || display === 'none') {{\n",
              "            console.log([gd, 'removed!']);\n",
              "            Plotly.purge(gd);\n",
              "            observer.disconnect();\n",
              "        }}\n",
              "}});\n",
              "\n",
              "// Listen for the removal of the full notebook cells\n",
              "var notebookContainer = gd.closest('#notebook-container');\n",
              "if (notebookContainer) {{\n",
              "    x.observe(notebookContainer, {childList: true});\n",
              "}}\n",
              "\n",
              "// Listen for the clearing of the current output cell\n",
              "var outputEl = gd.closest('.output');\n",
              "if (outputEl) {{\n",
              "    x.observe(outputEl, {childList: true});\n",
              "}}\n",
              "\n",
              "                        })\n",
              "                };\n",
              "                \n",
              "            </script>\n",
              "        </div>\n",
              "</body>\n",
              "</html>"
            ]
          },
          "metadata": {}
        }
      ]
    },
    {
      "cell_type": "code",
      "metadata": {
        "colab": {
          "base_uri": "https://localhost:8080/",
          "height": 542
        },
        "id": "ikIrRBgP2fLF",
        "outputId": "797373c5-e20b-4f49-c653-47721e7971f4"
      },
      "source": [
        "fig = px.violin(data, y=\"age\", x=\"sex\", color=\"Target\", box=True, points=\"all\", hover_data=data.columns)\n",
        "fig.update_layout(title_text=\"Analysis of Age & Gender on Survival Status\")\n",
        "fig.show()"
      ],
      "execution_count": 8,
      "outputs": [
        {
          "output_type": "display_data",
          "data": {
            "text/html": [
              "<html>\n",
              "<head><meta charset=\"utf-8\" /></head>\n",
              "<body>\n",
              "    <div>\n",
              "            <script src=\"https://cdnjs.cloudflare.com/ajax/libs/mathjax/2.7.5/MathJax.js?config=TeX-AMS-MML_SVG\"></script><script type=\"text/javascript\">if (window.MathJax) {MathJax.Hub.Config({SVG: {font: \"STIX-Web\"}});}</script>\n",
              "                <script type=\"text/javascript\">window.PlotlyConfig = {MathJaxConfig: 'local'};</script>\n",
              "        <script src=\"https://cdn.plot.ly/plotly-latest.min.js\"></script>    \n",
              "            <div id=\"166752e8-0b96-4e51-8f53-6572c06b4f29\" class=\"plotly-graph-div\" style=\"height:525px; width:100%;\"></div>\n",
              "            <script type=\"text/javascript\">\n",
              "                \n",
              "                    window.PLOTLYENV=window.PLOTLYENV || {};\n",
              "                    \n",
              "                if (document.getElementById(\"166752e8-0b96-4e51-8f53-6572c06b4f29\")) {\n",
              "                    Plotly.newPlot(\n",
              "                        '166752e8-0b96-4e51-8f53-6572c06b4f29',\n",
              "                        [{\"alignmentgroup\": \"True\", \"box\": {\"visible\": true}, \"customdata\": [[75.0, 0.0, 582.0, 0.0, 20.0, 1.0, 265000.0, 1.9, 130.0, 1.0, 0.0, 1.0], [55.0, 0.0, 7861.0, 0.0, 38.0, 0.0, 263358.03, 1.1, 136.0, 1.0, 0.0, 1.0], [65.0, 0.0, 146.0, 0.0, 20.0, 0.0, 162000.0, 1.3, 129.0, 1.0, 1.0, 1.0], [50.0, 1.0, 111.0, 0.0, 20.0, 0.0, 210000.0, 1.9, 137.0, 1.0, 0.0, 1.0], [65.0, 1.0, 160.0, 1.0, 20.0, 0.0, 327000.0, 2.7, 116.0, 0.0, 0.0, 1.0], [90.0, 1.0, 47.0, 0.0, 40.0, 1.0, 204000.0, 2.1, 132.0, 1.0, 1.0, 1.0], [75.0, 1.0, 246.0, 0.0, 15.0, 0.0, 127000.0, 1.2, 137.0, 1.0, 0.0, 1.0], [60.0, 1.0, 315.0, 1.0, 60.0, 0.0, 454000.0, 1.1, 131.0, 1.0, 1.0, 1.0], [65.0, 0.0, 157.0, 0.0, 65.0, 0.0, 263358.03, 1.5, 138.0, 0.0, 0.0, 1.0], [80.0, 1.0, 123.0, 0.0, 35.0, 1.0, 388000.0, 9.4, 133.0, 1.0, 1.0, 1.0], [75.0, 1.0, 81.0, 0.0, 38.0, 1.0, 368000.0, 4.0, 131.0, 1.0, 1.0, 1.0], [62.0, 0.0, 231.0, 0.0, 25.0, 1.0, 253000.0, 0.9, 140.0, 1.0, 1.0, 1.0], [45.0, 1.0, 981.0, 0.0, 30.0, 0.0, 136000.0, 1.1, 137.0, 1.0, 0.0, 1.0], [50.0, 1.0, 168.0, 0.0, 38.0, 1.0, 276000.0, 1.1, 137.0, 1.0, 0.0, 1.0], [82.0, 1.0, 379.0, 0.0, 50.0, 0.0, 47000.0, 1.3, 136.0, 1.0, 0.0, 1.0], [87.0, 1.0, 149.0, 0.0, 38.0, 0.0, 262000.0, 0.9, 140.0, 1.0, 0.0, 1.0], [45.0, 0.0, 582.0, 0.0, 14.0, 0.0, 166000.0, 0.8, 127.0, 1.0, 0.0, 1.0], [70.0, 1.0, 125.0, 0.0, 25.0, 1.0, 237000.0, 1.0, 140.0, 0.0, 0.0, 1.0], [48.0, 1.0, 582.0, 1.0, 55.0, 0.0, 87000.0, 1.9, 121.0, 0.0, 0.0, 1.0], [65.0, 1.0, 128.0, 1.0, 30.0, 1.0, 297000.0, 1.6, 136.0, 0.0, 0.0, 1.0], [68.0, 1.0, 220.0, 0.0, 35.0, 1.0, 289000.0, 0.9, 140.0, 1.0, 1.0, 1.0], [75.0, 0.0, 582.0, 1.0, 30.0, 1.0, 263358.03, 1.83, 134.0, 0.0, 0.0, 1.0], [80.0, 0.0, 148.0, 1.0, 38.0, 0.0, 149000.0, 1.9, 144.0, 1.0, 1.0, 1.0], [95.0, 1.0, 112.0, 0.0, 40.0, 1.0, 196000.0, 1.0, 138.0, 0.0, 0.0, 1.0], [70.0, 0.0, 122.0, 1.0, 45.0, 1.0, 284000.0, 1.3, 136.0, 1.0, 1.0, 1.0], [58.0, 1.0, 60.0, 0.0, 38.0, 0.0, 153000.0, 5.8, 134.0, 1.0, 0.0, 1.0], [82.0, 0.0, 70.0, 1.0, 30.0, 0.0, 200000.0, 1.2, 132.0, 1.0, 1.0, 1.0], [94.0, 0.0, 582.0, 1.0, 38.0, 1.0, 263358.03, 1.83, 134.0, 1.0, 0.0, 1.0], [85.0, 0.0, 23.0, 0.0, 45.0, 0.0, 360000.0, 3.0, 132.0, 1.0, 0.0, 1.0], [50.0, 1.0, 249.0, 1.0, 35.0, 1.0, 319000.0, 1.0, 128.0, 0.0, 0.0, 1.0], [65.0, 0.0, 94.0, 1.0, 50.0, 1.0, 188000.0, 1.0, 140.0, 1.0, 0.0, 1.0], [69.0, 0.0, 582.0, 1.0, 35.0, 0.0, 228000.0, 3.5, 134.0, 1.0, 0.0, 1.0], [90.0, 1.0, 60.0, 1.0, 50.0, 0.0, 226000.0, 1.0, 134.0, 1.0, 0.0, 1.0], [82.0, 1.0, 855.0, 1.0, 50.0, 1.0, 321000.0, 1.0, 145.0, 0.0, 0.0, 1.0], [60.0, 0.0, 235.0, 1.0, 38.0, 0.0, 329000.0, 3.0, 142.0, 0.0, 0.0, 1.0], [70.0, 0.0, 582.0, 0.0, 20.0, 1.0, 263358.03, 1.83, 134.0, 1.0, 1.0, 1.0], [50.0, 0.0, 124.0, 1.0, 30.0, 1.0, 153000.0, 1.2, 136.0, 0.0, 1.0, 1.0], [70.0, 0.0, 571.0, 1.0, 45.0, 1.0, 185000.0, 1.2, 139.0, 1.0, 1.0, 1.0], [60.0, 1.0, 588.0, 1.0, 60.0, 0.0, 194000.0, 1.1, 142.0, 0.0, 0.0, 1.0], [50.0, 0.0, 582.0, 1.0, 38.0, 0.0, 310000.0, 1.9, 135.0, 1.0, 1.0, 1.0], [51.0, 0.0, 1380.0, 0.0, 25.0, 1.0, 271000.0, 0.9, 130.0, 1.0, 0.0, 1.0], [60.0, 0.0, 582.0, 1.0, 38.0, 1.0, 451000.0, 0.6, 138.0, 1.0, 1.0, 1.0], [80.0, 1.0, 553.0, 0.0, 20.0, 1.0, 140000.0, 4.4, 133.0, 1.0, 0.0, 1.0], [57.0, 1.0, 129.0, 0.0, 30.0, 0.0, 395000.0, 1.0, 140.0, 0.0, 0.0, 1.0], [68.0, 1.0, 577.0, 0.0, 25.0, 1.0, 166000.0, 1.0, 138.0, 1.0, 0.0, 1.0], [53.0, 1.0, 91.0, 0.0, 20.0, 1.0, 418000.0, 1.4, 139.0, 0.0, 0.0, 1.0], [60.0, 0.0, 3964.0, 1.0, 62.0, 0.0, 263358.03, 6.8, 146.0, 0.0, 0.0, 1.0], [70.0, 1.0, 69.0, 1.0, 50.0, 1.0, 351000.0, 1.0, 134.0, 0.0, 0.0, 1.0], [60.0, 1.0, 260.0, 1.0, 38.0, 0.0, 255000.0, 2.2, 132.0, 0.0, 1.0, 1.0], [95.0, 1.0, 371.0, 0.0, 30.0, 0.0, 461000.0, 2.0, 132.0, 1.0, 0.0, 1.0], [49.0, 0.0, 789.0, 0.0, 20.0, 1.0, 319000.0, 1.1, 136.0, 1.0, 1.0, 1.0], [72.0, 0.0, 364.0, 1.0, 20.0, 1.0, 254000.0, 1.3, 136.0, 1.0, 1.0, 1.0], [45.0, 0.0, 7702.0, 1.0, 25.0, 1.0, 390000.0, 1.0, 139.0, 1.0, 0.0, 1.0], [50.0, 0.0, 318.0, 0.0, 40.0, 1.0, 216000.0, 2.3, 131.0, 0.0, 0.0, 1.0], [45.0, 0.0, 582.0, 0.0, 35.0, 0.0, 385000.0, 1.0, 145.0, 1.0, 0.0, 1.0], [60.0, 0.0, 68.0, 0.0, 20.0, 0.0, 119000.0, 2.9, 127.0, 1.0, 1.0, 1.0], [42.0, 1.0, 250.0, 1.0, 15.0, 0.0, 213000.0, 1.3, 136.0, 0.0, 0.0, 1.0], [72.0, 1.0, 110.0, 0.0, 25.0, 0.0, 274000.0, 1.0, 140.0, 1.0, 1.0, 1.0], [70.0, 0.0, 161.0, 0.0, 25.0, 0.0, 244000.0, 1.2, 142.0, 0.0, 0.0, 1.0], [65.0, 0.0, 113.0, 1.0, 25.0, 0.0, 497000.0, 1.83, 135.0, 1.0, 0.0, 1.0], [85.0, 0.0, 5882.0, 0.0, 35.0, 0.0, 243000.0, 1.0, 132.0, 1.0, 1.0, 1.0], [69.0, 0.0, 582.0, 0.0, 20.0, 0.0, 266000.0, 1.2, 134.0, 1.0, 1.0, 1.0], [60.0, 1.0, 47.0, 0.0, 20.0, 0.0, 204000.0, 0.7, 139.0, 1.0, 1.0, 1.0], [60.0, 1.0, 76.0, 1.0, 25.0, 0.0, 196000.0, 2.5, 132.0, 0.0, 0.0, 1.0], [59.0, 1.0, 280.0, 1.0, 25.0, 1.0, 302000.0, 1.0, 141.0, 0.0, 0.0, 1.0], [60.0, 1.0, 154.0, 0.0, 25.0, 0.0, 210000.0, 1.7, 135.0, 1.0, 0.0, 1.0], [72.0, 1.0, 328.0, 0.0, 30.0, 1.0, 621000.0, 1.7, 138.0, 0.0, 1.0, 1.0], [85.0, 0.0, 129.0, 0.0, 60.0, 0.0, 306000.0, 1.2, 132.0, 1.0, 1.0, 1.0], [70.0, 1.0, 143.0, 0.0, 60.0, 0.0, 351000.0, 1.3, 137.0, 0.0, 0.0, 1.0], [86.0, 0.0, 582.0, 0.0, 38.0, 0.0, 263358.03, 1.83, 134.0, 0.0, 0.0, 1.0], [60.0, 0.0, 582.0, 0.0, 40.0, 0.0, 217000.0, 3.7, 134.0, 1.0, 0.0, 1.0], [46.0, 0.0, 168.0, 1.0, 17.0, 1.0, 271000.0, 2.1, 124.0, 0.0, 0.0, 1.0], [80.0, 0.0, 805.0, 0.0, 38.0, 0.0, 263358.03, 1.1, 134.0, 1.0, 0.0, 1.0], [72.0, 1.0, 943.0, 0.0, 25.0, 1.0, 338000.0, 1.7, 139.0, 1.0, 1.0, 1.0], [75.0, 1.0, 582.0, 0.0, 30.0, 0.0, 225000.0, 1.83, 134.0, 1.0, 0.0, 1.0], [72.0, 0.0, 233.0, 0.0, 45.0, 1.0, 235000.0, 2.5, 135.0, 0.0, 0.0, 1.0], [50.0, 1.0, 2334.0, 1.0, 35.0, 0.0, 75000.0, 0.9, 142.0, 0.0, 0.0, 1.0], [45.0, 0.0, 2442.0, 1.0, 30.0, 0.0, 334000.0, 1.1, 139.0, 1.0, 0.0, 1.0], [80.0, 0.0, 776.0, 1.0, 38.0, 1.0, 192000.0, 1.3, 135.0, 0.0, 0.0, 1.0], [59.0, 0.0, 66.0, 1.0, 20.0, 0.0, 70000.0, 2.4, 134.0, 1.0, 0.0, 1.0], [59.0, 1.0, 176.0, 1.0, 25.0, 0.0, 221000.0, 1.0, 136.0, 1.0, 1.0, 1.0], [65.0, 0.0, 395.0, 1.0, 25.0, 0.0, 265000.0, 1.2, 136.0, 1.0, 1.0, 1.0], [75.0, 0.0, 99.0, 0.0, 38.0, 1.0, 224000.0, 2.5, 134.0, 1.0, 0.0, 1.0], [58.0, 1.0, 145.0, 0.0, 25.0, 0.0, 219000.0, 1.2, 137.0, 1.0, 1.0, 1.0], [60.667, 1.0, 104.0, 1.0, 30.0, 0.0, 389000.0, 1.5, 136.0, 1.0, 0.0, 1.0], [50.0, 0.0, 582.0, 0.0, 50.0, 0.0, 153000.0, 0.6, 134.0, 0.0, 0.0, 1.0], [60.0, 0.0, 1896.0, 1.0, 25.0, 0.0, 365000.0, 2.1, 144.0, 0.0, 0.0, 1.0], [45.0, 0.0, 582.0, 0.0, 20.0, 1.0, 126000.0, 1.6, 135.0, 1.0, 0.0, 1.0], [77.0, 1.0, 418.0, 0.0, 45.0, 0.0, 223000.0, 1.8, 145.0, 1.0, 0.0, 1.0], [48.0, 1.0, 131.0, 1.0, 30.0, 1.0, 244000.0, 1.6, 130.0, 0.0, 0.0, 1.0], [54.0, 1.0, 427.0, 0.0, 70.0, 1.0, 151000.0, 9.0, 137.0, 0.0, 0.0, 1.0], [73.0, 0.0, 582.0, 0.0, 20.0, 0.0, 263358.03, 1.83, 134.0, 1.0, 0.0, 1.0], [60.0, 0.0, 166.0, 0.0, 30.0, 0.0, 62000.0, 1.7, 127.0, 0.0, 0.0, 1.0], [55.0, 0.0, 2017.0, 0.0, 25.0, 0.0, 314000.0, 1.1, 138.0, 1.0, 0.0, 1.0], [65.0, 1.0, 258.0, 1.0, 25.0, 0.0, 198000.0, 1.4, 129.0, 1.0, 0.0, 1.0], [55.0, 0.0, 1199.0, 0.0, 20.0, 0.0, 263358.03, 1.83, 134.0, 1.0, 1.0, 1.0]], \"hoverlabel\": {\"namelength\": 0}, \"hovertemplate\": \"Target=%{customdata[11]}<br>sex=%{customdata[9]}<br>age=%{customdata[0]}<br>anaemia=%{customdata[1]}<br>creatinine_phosphokinase=%{customdata[2]}<br>diabetes=%{customdata[3]}<br>ejection_fraction=%{customdata[4]}<br>high_blood_pressure=%{customdata[5]}<br>platelets=%{customdata[6]}<br>serum_creatinine=%{customdata[7]}<br>serum_sodium=%{customdata[8]}<br>smoking=%{customdata[10]}\", \"legendgroup\": \"Target=1\", \"marker\": {\"color\": \"#636efa\"}, \"name\": \"Target=1\", \"offsetgroup\": \"Target=1\", \"orientation\": \"v\", \"points\": \"all\", \"scalegroup\": \"True\", \"showlegend\": true, \"type\": \"violin\", \"x\": [1, 1, 1, 1, 0, 1, 1, 1, 0, 1, 1, 1, 1, 1, 1, 1, 1, 0, 0, 0, 1, 0, 1, 0, 1, 1, 1, 1, 1, 0, 1, 1, 1, 0, 0, 1, 0, 1, 0, 1, 1, 1, 1, 0, 1, 0, 0, 0, 0, 1, 1, 1, 1, 0, 1, 1, 0, 1, 0, 1, 1, 1, 1, 0, 0, 1, 0, 1, 0, 0, 1, 0, 1, 1, 1, 0, 0, 1, 0, 1, 1, 1, 1, 1, 1, 0, 0, 1, 1, 0, 0, 1, 0, 1, 1, 1], \"x0\": \" \", \"xaxis\": \"x\", \"y\": [75.0, 55.0, 65.0, 50.0, 65.0, 90.0, 75.0, 60.0, 65.0, 80.0, 75.0, 62.0, 45.0, 50.0, 82.0, 87.0, 45.0, 70.0, 48.0, 65.0, 68.0, 75.0, 80.0, 95.0, 70.0, 58.0, 82.0, 94.0, 85.0, 50.0, 65.0, 69.0, 90.0, 82.0, 60.0, 70.0, 50.0, 70.0, 60.0, 50.0, 51.0, 60.0, 80.0, 57.0, 68.0, 53.0, 60.0, 70.0, 60.0, 95.0, 49.0, 72.0, 45.0, 50.0, 45.0, 60.0, 42.0, 72.0, 70.0, 65.0, 85.0, 69.0, 60.0, 60.0, 59.0, 60.0, 72.0, 85.0, 70.0, 86.0, 60.0, 46.0, 80.0, 72.0, 75.0, 72.0, 50.0, 45.0, 80.0, 59.0, 59.0, 65.0, 75.0, 58.0, 60.667, 50.0, 60.0, 45.0, 77.0, 48.0, 54.0, 73.0, 60.0, 55.0, 65.0, 55.0], \"y0\": \" \", \"yaxis\": \"y\"}, {\"alignmentgroup\": \"True\", \"box\": {\"visible\": true}, \"customdata\": [[49.0, 1.0, 80.0, 0.0, 30.0, 1.0, 427000.0, 1.0, 138.0, 0.0, 0.0, 0.0], [65.0, 1.0, 52.0, 0.0, 25.0, 1.0, 276000.0, 1.3, 137.0, 0.0, 0.0, 0.0], [53.0, 0.0, 63.0, 1.0, 60.0, 0.0, 368000.0, 0.8, 135.0, 1.0, 0.0, 0.0], [50.0, 1.0, 159.0, 1.0, 30.0, 0.0, 302000.0, 1.2, 138.0, 0.0, 0.0, 0.0], [60.0, 0.0, 2656.0, 1.0, 30.0, 0.0, 305000.0, 2.3, 137.0, 1.0, 0.0, 0.0], [72.0, 0.0, 127.0, 1.0, 50.0, 1.0, 218000.0, 1.0, 134.0, 1.0, 0.0, 0.0], [70.0, 1.0, 75.0, 0.0, 35.0, 0.0, 223000.0, 2.7, 138.0, 1.0, 1.0, 0.0], [60.0, 1.0, 607.0, 0.0, 40.0, 0.0, 216000.0, 0.6, 138.0, 1.0, 1.0, 0.0], [55.0, 0.0, 109.0, 0.0, 35.0, 0.0, 254000.0, 1.1, 139.0, 1.0, 1.0, 0.0], [45.0, 0.0, 582.0, 0.0, 80.0, 0.0, 263358.03, 1.18, 137.0, 0.0, 0.0, 0.0], [41.0, 0.0, 148.0, 0.0, 40.0, 0.0, 374000.0, 0.8, 140.0, 1.0, 1.0, 0.0], [58.0, 0.0, 582.0, 1.0, 35.0, 0.0, 122000.0, 0.9, 139.0, 1.0, 1.0, 0.0], [65.0, 0.0, 224.0, 1.0, 50.0, 0.0, 149000.0, 1.3, 137.0, 1.0, 1.0, 0.0], [70.0, 0.0, 92.0, 0.0, 60.0, 1.0, 317000.0, 0.8, 140.0, 0.0, 1.0, 0.0], [42.0, 0.0, 102.0, 1.0, 40.0, 0.0, 237000.0, 1.2, 140.0, 1.0, 0.0, 0.0], [75.0, 1.0, 203.0, 1.0, 38.0, 1.0, 283000.0, 0.6, 131.0, 1.0, 1.0, 0.0], [55.0, 0.0, 336.0, 0.0, 45.0, 1.0, 324000.0, 0.9, 140.0, 0.0, 0.0, 0.0], [70.0, 0.0, 69.0, 0.0, 40.0, 0.0, 293000.0, 1.7, 136.0, 0.0, 0.0, 0.0], [67.0, 0.0, 582.0, 0.0, 50.0, 0.0, 263358.03, 1.18, 137.0, 1.0, 1.0, 0.0], [79.0, 1.0, 55.0, 0.0, 50.0, 1.0, 172000.0, 1.8, 133.0, 1.0, 0.0, 0.0], [51.0, 0.0, 78.0, 0.0, 50.0, 0.0, 406000.0, 0.7, 140.0, 1.0, 0.0, 0.0], [55.0, 0.0, 47.0, 0.0, 35.0, 1.0, 173000.0, 1.1, 137.0, 1.0, 0.0, 0.0], [65.0, 1.0, 68.0, 1.0, 60.0, 1.0, 304000.0, 0.8, 140.0, 1.0, 0.0, 0.0], [44.0, 0.0, 84.0, 1.0, 40.0, 1.0, 235000.0, 0.7, 139.0, 1.0, 0.0, 0.0], [57.0, 1.0, 115.0, 0.0, 25.0, 1.0, 181000.0, 1.1, 144.0, 1.0, 0.0, 0.0], [70.0, 0.0, 66.0, 1.0, 45.0, 0.0, 249000.0, 0.8, 136.0, 1.0, 1.0, 0.0], [60.0, 0.0, 897.0, 1.0, 45.0, 0.0, 297000.0, 1.0, 133.0, 1.0, 0.0, 0.0], [42.0, 0.0, 582.0, 0.0, 60.0, 0.0, 263358.03, 1.18, 137.0, 0.0, 0.0, 0.0], [58.0, 0.0, 144.0, 1.0, 38.0, 1.0, 327000.0, 0.7, 142.0, 0.0, 0.0, 0.0], [58.0, 1.0, 133.0, 0.0, 60.0, 1.0, 219000.0, 1.0, 141.0, 1.0, 0.0, 0.0], [63.0, 1.0, 514.0, 1.0, 25.0, 1.0, 254000.0, 1.3, 134.0, 1.0, 0.0, 0.0], [70.0, 1.0, 59.0, 0.0, 60.0, 0.0, 255000.0, 1.1, 136.0, 0.0, 0.0, 0.0], [60.0, 1.0, 156.0, 1.0, 25.0, 1.0, 318000.0, 1.2, 137.0, 0.0, 0.0, 0.0], [63.0, 1.0, 61.0, 1.0, 40.0, 0.0, 221000.0, 1.1, 140.0, 0.0, 0.0, 0.0], [65.0, 1.0, 305.0, 0.0, 25.0, 0.0, 298000.0, 1.1, 141.0, 1.0, 0.0, 0.0], [75.0, 0.0, 582.0, 0.0, 45.0, 1.0, 263358.03, 1.18, 137.0, 1.0, 0.0, 0.0], [80.0, 0.0, 898.0, 0.0, 25.0, 0.0, 149000.0, 1.1, 144.0, 1.0, 1.0, 0.0], [42.0, 0.0, 5209.0, 0.0, 30.0, 0.0, 226000.0, 1.0, 140.0, 1.0, 1.0, 0.0], [60.0, 0.0, 53.0, 0.0, 50.0, 1.0, 286000.0, 2.3, 143.0, 0.0, 0.0, 0.0], [55.0, 0.0, 748.0, 0.0, 45.0, 0.0, 263000.0, 1.3, 137.0, 1.0, 0.0, 0.0], [45.0, 1.0, 1876.0, 1.0, 35.0, 0.0, 226000.0, 0.9, 138.0, 1.0, 0.0, 0.0], [63.0, 0.0, 936.0, 0.0, 38.0, 0.0, 304000.0, 1.1, 133.0, 1.0, 1.0, 0.0], [45.0, 0.0, 292.0, 1.0, 35.0, 0.0, 850000.0, 1.3, 142.0, 1.0, 1.0, 0.0], [55.0, 0.0, 60.0, 0.0, 35.0, 0.0, 228000.0, 1.2, 135.0, 1.0, 1.0, 0.0], [50.0, 0.0, 369.0, 1.0, 25.0, 0.0, 252000.0, 1.6, 136.0, 1.0, 0.0, 0.0], [60.0, 1.0, 754.0, 1.0, 40.0, 1.0, 328000.0, 1.2, 126.0, 1.0, 0.0, 0.0], [58.0, 1.0, 400.0, 0.0, 40.0, 0.0, 164000.0, 1.0, 139.0, 0.0, 0.0, 0.0], [60.0, 1.0, 96.0, 1.0, 60.0, 1.0, 271000.0, 0.7, 136.0, 0.0, 0.0, 0.0], [85.0, 1.0, 102.0, 0.0, 60.0, 0.0, 507000.0, 3.2, 138.0, 0.0, 0.0, 0.0], [65.0, 1.0, 113.0, 1.0, 60.0, 1.0, 203000.0, 0.9, 140.0, 0.0, 0.0, 0.0], [60.0, 1.0, 737.0, 0.0, 60.0, 1.0, 210000.0, 1.5, 135.0, 1.0, 1.0, 0.0], [66.0, 1.0, 68.0, 1.0, 38.0, 1.0, 162000.0, 1.0, 136.0, 0.0, 0.0, 0.0], [60.0, 0.0, 96.0, 1.0, 38.0, 0.0, 228000.0, 0.75, 140.0, 0.0, 0.0, 0.0], [60.0, 1.0, 582.0, 0.0, 30.0, 1.0, 127000.0, 0.9, 145.0, 0.0, 0.0, 0.0], [43.0, 1.0, 358.0, 0.0, 50.0, 0.0, 237000.0, 1.3, 135.0, 0.0, 0.0, 0.0], [58.0, 1.0, 200.0, 1.0, 60.0, 0.0, 300000.0, 0.8, 137.0, 0.0, 0.0, 0.0], [61.0, 0.0, 248.0, 0.0, 30.0, 1.0, 267000.0, 0.7, 136.0, 1.0, 1.0, 0.0], [53.0, 1.0, 270.0, 1.0, 35.0, 0.0, 227000.0, 3.4, 145.0, 1.0, 0.0, 0.0], [53.0, 1.0, 1808.0, 0.0, 60.0, 1.0, 249000.0, 0.7, 138.0, 1.0, 1.0, 0.0], [60.0, 1.0, 1082.0, 1.0, 45.0, 0.0, 250000.0, 6.1, 131.0, 1.0, 0.0, 0.0], [46.0, 0.0, 719.0, 0.0, 40.0, 1.0, 263358.03, 1.18, 137.0, 0.0, 0.0, 0.0], [63.0, 0.0, 193.0, 0.0, 60.0, 1.0, 295000.0, 1.3, 145.0, 1.0, 1.0, 0.0], [81.0, 0.0, 4540.0, 0.0, 35.0, 0.0, 231000.0, 1.18, 137.0, 1.0, 1.0, 0.0], [75.0, 0.0, 582.0, 0.0, 40.0, 0.0, 263358.03, 1.18, 137.0, 1.0, 0.0, 0.0], [65.0, 1.0, 59.0, 1.0, 60.0, 0.0, 172000.0, 0.9, 137.0, 0.0, 0.0, 0.0], [68.0, 1.0, 646.0, 0.0, 25.0, 0.0, 305000.0, 2.1, 130.0, 1.0, 0.0, 0.0], [62.0, 0.0, 281.0, 1.0, 35.0, 0.0, 221000.0, 1.0, 136.0, 0.0, 0.0, 0.0], [50.0, 0.0, 1548.0, 0.0, 30.0, 1.0, 211000.0, 0.8, 138.0, 1.0, 0.0, 0.0], [46.0, 1.0, 291.0, 0.0, 35.0, 0.0, 348000.0, 0.9, 140.0, 0.0, 0.0, 0.0], [50.0, 0.0, 482.0, 1.0, 30.0, 0.0, 329000.0, 0.9, 132.0, 0.0, 0.0, 0.0], [61.0, 1.0, 84.0, 0.0, 40.0, 1.0, 229000.0, 0.9, 141.0, 0.0, 0.0, 0.0], [50.0, 0.0, 185.0, 0.0, 30.0, 0.0, 266000.0, 0.7, 141.0, 1.0, 1.0, 0.0], [52.0, 0.0, 132.0, 0.0, 30.0, 0.0, 218000.0, 0.7, 136.0, 1.0, 1.0, 0.0], [64.0, 0.0, 1610.0, 0.0, 60.0, 0.0, 242000.0, 1.0, 137.0, 1.0, 0.0, 0.0], [60.0, 0.0, 2261.0, 0.0, 35.0, 1.0, 228000.0, 0.9, 136.0, 1.0, 0.0, 0.0], [62.0, 0.0, 30.0, 1.0, 60.0, 1.0, 244000.0, 0.9, 139.0, 1.0, 0.0, 0.0], [50.0, 0.0, 115.0, 0.0, 45.0, 1.0, 184000.0, 0.9, 134.0, 1.0, 1.0, 0.0], [50.0, 0.0, 1846.0, 1.0, 35.0, 0.0, 263358.03, 1.18, 137.0, 1.0, 1.0, 0.0], [65.0, 1.0, 335.0, 0.0, 35.0, 1.0, 235000.0, 0.8, 136.0, 0.0, 0.0, 0.0], [60.0, 1.0, 231.0, 1.0, 25.0, 0.0, 194000.0, 1.7, 140.0, 1.0, 0.0, 0.0], [52.0, 1.0, 58.0, 0.0, 35.0, 0.0, 277000.0, 1.4, 136.0, 0.0, 0.0, 0.0], [50.0, 0.0, 250.0, 0.0, 25.0, 0.0, 262000.0, 1.0, 136.0, 1.0, 1.0, 0.0], [85.0, 1.0, 910.0, 0.0, 50.0, 0.0, 235000.0, 1.3, 134.0, 1.0, 0.0, 0.0], [59.0, 1.0, 129.0, 0.0, 45.0, 1.0, 362000.0, 1.1, 139.0, 1.0, 1.0, 0.0], [66.0, 1.0, 72.0, 0.0, 40.0, 1.0, 242000.0, 1.2, 134.0, 1.0, 0.0, 0.0], [45.0, 1.0, 130.0, 0.0, 35.0, 0.0, 174000.0, 0.8, 139.0, 1.0, 1.0, 0.0], [63.0, 1.0, 582.0, 0.0, 40.0, 0.0, 448000.0, 0.9, 137.0, 1.0, 1.0, 0.0], [53.0, 0.0, 196.0, 0.0, 60.0, 0.0, 220000.0, 0.7, 133.0, 1.0, 1.0, 0.0], [65.0, 0.0, 582.0, 1.0, 40.0, 0.0, 270000.0, 1.0, 138.0, 0.0, 0.0, 0.0], [70.0, 0.0, 835.0, 0.0, 35.0, 1.0, 305000.0, 0.8, 133.0, 0.0, 0.0, 0.0], [51.0, 1.0, 582.0, 1.0, 35.0, 0.0, 263358.03, 1.5, 136.0, 1.0, 1.0, 0.0], [52.0, 0.0, 3966.0, 0.0, 40.0, 0.0, 325000.0, 0.9, 140.0, 1.0, 1.0, 0.0], [70.0, 1.0, 171.0, 0.0, 60.0, 1.0, 176000.0, 1.1, 145.0, 1.0, 1.0, 0.0], [50.0, 1.0, 115.0, 0.0, 20.0, 0.0, 189000.0, 0.8, 139.0, 1.0, 0.0, 0.0], [65.0, 0.0, 198.0, 1.0, 35.0, 1.0, 281000.0, 0.9, 137.0, 1.0, 1.0, 0.0], [60.0, 1.0, 95.0, 0.0, 60.0, 0.0, 337000.0, 1.0, 138.0, 1.0, 1.0, 0.0], [69.0, 0.0, 1419.0, 0.0, 40.0, 0.0, 105000.0, 1.0, 135.0, 1.0, 1.0, 0.0], [49.0, 1.0, 69.0, 0.0, 50.0, 0.0, 132000.0, 1.0, 140.0, 0.0, 0.0, 0.0], [63.0, 1.0, 122.0, 1.0, 60.0, 0.0, 267000.0, 1.2, 145.0, 1.0, 0.0, 0.0], [55.0, 0.0, 835.0, 0.0, 40.0, 0.0, 279000.0, 0.7, 140.0, 1.0, 1.0, 0.0], [40.0, 0.0, 478.0, 1.0, 30.0, 0.0, 303000.0, 0.9, 136.0, 1.0, 0.0, 0.0], [60.667, 1.0, 151.0, 1.0, 40.0, 1.0, 201000.0, 1.0, 136.0, 0.0, 0.0, 0.0], [40.0, 0.0, 244.0, 0.0, 45.0, 1.0, 275000.0, 0.9, 140.0, 0.0, 0.0, 0.0], [80.0, 0.0, 582.0, 1.0, 35.0, 0.0, 350000.0, 2.1, 134.0, 1.0, 0.0, 0.0], [64.0, 1.0, 62.0, 0.0, 60.0, 0.0, 309000.0, 1.5, 135.0, 0.0, 0.0, 0.0], [50.0, 1.0, 121.0, 1.0, 40.0, 0.0, 260000.0, 0.7, 130.0, 1.0, 0.0, 0.0], [73.0, 1.0, 231.0, 1.0, 30.0, 0.0, 160000.0, 1.18, 142.0, 1.0, 1.0, 0.0], [45.0, 0.0, 582.0, 1.0, 38.0, 1.0, 263358.03, 1.18, 137.0, 0.0, 0.0, 0.0], [65.0, 0.0, 167.0, 0.0, 30.0, 0.0, 259000.0, 0.8, 138.0, 0.0, 0.0, 0.0], [50.0, 1.0, 582.0, 1.0, 20.0, 1.0, 279000.0, 1.0, 134.0, 0.0, 0.0, 0.0], [60.0, 0.0, 1211.0, 1.0, 35.0, 0.0, 263358.03, 1.8, 113.0, 1.0, 1.0, 0.0], [63.0, 1.0, 1767.0, 0.0, 45.0, 0.0, 73000.0, 0.7, 137.0, 1.0, 0.0, 0.0], [45.0, 0.0, 308.0, 1.0, 60.0, 1.0, 377000.0, 1.0, 136.0, 1.0, 0.0, 0.0], [70.0, 0.0, 97.0, 0.0, 60.0, 1.0, 220000.0, 0.9, 138.0, 1.0, 0.0, 0.0], [60.0, 0.0, 59.0, 0.0, 25.0, 1.0, 212000.0, 3.5, 136.0, 1.0, 1.0, 0.0], [78.0, 1.0, 64.0, 0.0, 40.0, 0.0, 277000.0, 0.7, 137.0, 1.0, 1.0, 0.0], [50.0, 1.0, 167.0, 1.0, 45.0, 0.0, 362000.0, 1.0, 136.0, 0.0, 0.0, 0.0], [40.0, 1.0, 101.0, 0.0, 40.0, 0.0, 226000.0, 0.8, 141.0, 0.0, 0.0, 0.0], [85.0, 0.0, 212.0, 0.0, 38.0, 0.0, 186000.0, 0.9, 136.0, 1.0, 0.0, 0.0], [60.0, 1.0, 2281.0, 1.0, 40.0, 0.0, 283000.0, 1.0, 141.0, 0.0, 0.0, 0.0], [49.0, 0.0, 972.0, 1.0, 35.0, 1.0, 268000.0, 0.8, 130.0, 0.0, 0.0, 0.0], [70.0, 0.0, 212.0, 1.0, 17.0, 1.0, 389000.0, 1.0, 136.0, 1.0, 1.0, 0.0], [50.0, 0.0, 582.0, 0.0, 62.0, 1.0, 147000.0, 0.8, 140.0, 1.0, 1.0, 0.0], [78.0, 0.0, 224.0, 0.0, 50.0, 0.0, 481000.0, 1.4, 138.0, 1.0, 1.0, 0.0], [65.0, 1.0, 135.0, 0.0, 35.0, 1.0, 290000.0, 0.8, 134.0, 1.0, 0.0, 0.0], [73.0, 0.0, 582.0, 0.0, 35.0, 1.0, 203000.0, 1.3, 134.0, 1.0, 0.0, 0.0], [70.0, 0.0, 1202.0, 0.0, 50.0, 1.0, 358000.0, 0.9, 141.0, 0.0, 0.0, 0.0], [68.0, 1.0, 1021.0, 1.0, 35.0, 0.0, 271000.0, 1.1, 134.0, 1.0, 0.0, 0.0], [55.0, 0.0, 582.0, 1.0, 35.0, 1.0, 371000.0, 0.7, 140.0, 0.0, 0.0, 0.0], [65.0, 0.0, 118.0, 0.0, 50.0, 0.0, 194000.0, 1.1, 145.0, 1.0, 1.0, 0.0], [42.0, 1.0, 86.0, 0.0, 35.0, 0.0, 365000.0, 1.1, 139.0, 1.0, 1.0, 0.0], [47.0, 0.0, 582.0, 0.0, 25.0, 0.0, 130000.0, 0.8, 134.0, 1.0, 0.0, 0.0], [58.0, 0.0, 582.0, 1.0, 25.0, 0.0, 504000.0, 1.0, 138.0, 1.0, 0.0, 0.0], [75.0, 0.0, 675.0, 1.0, 60.0, 0.0, 265000.0, 1.4, 125.0, 0.0, 0.0, 0.0], [58.0, 1.0, 57.0, 0.0, 25.0, 0.0, 189000.0, 1.3, 132.0, 1.0, 1.0, 0.0], [55.0, 1.0, 2794.0, 0.0, 35.0, 1.0, 141000.0, 1.0, 140.0, 1.0, 0.0, 0.0], [65.0, 0.0, 56.0, 0.0, 25.0, 0.0, 237000.0, 5.0, 130.0, 0.0, 0.0, 0.0], [72.0, 0.0, 211.0, 0.0, 25.0, 0.0, 274000.0, 1.2, 134.0, 0.0, 0.0, 0.0], [70.0, 0.0, 93.0, 0.0, 35.0, 0.0, 185000.0, 1.1, 134.0, 1.0, 1.0, 0.0], [40.0, 1.0, 129.0, 0.0, 35.0, 0.0, 255000.0, 0.9, 137.0, 1.0, 0.0, 0.0], [53.0, 1.0, 707.0, 0.0, 38.0, 0.0, 330000.0, 1.4, 137.0, 1.0, 1.0, 0.0], [53.0, 1.0, 582.0, 0.0, 45.0, 0.0, 305000.0, 1.1, 137.0, 1.0, 1.0, 0.0], [77.0, 1.0, 109.0, 0.0, 50.0, 1.0, 406000.0, 1.1, 137.0, 1.0, 0.0, 0.0], [75.0, 0.0, 119.0, 0.0, 50.0, 1.0, 248000.0, 1.1, 148.0, 1.0, 0.0, 0.0], [70.0, 0.0, 232.0, 0.0, 30.0, 0.0, 173000.0, 1.2, 132.0, 1.0, 0.0, 0.0], [65.0, 1.0, 720.0, 1.0, 40.0, 0.0, 257000.0, 1.0, 136.0, 0.0, 0.0, 0.0], [55.0, 1.0, 180.0, 0.0, 45.0, 0.0, 263358.03, 1.18, 137.0, 1.0, 1.0, 0.0], [70.0, 0.0, 81.0, 1.0, 35.0, 1.0, 533000.0, 1.3, 139.0, 0.0, 0.0, 0.0], [65.0, 0.0, 582.0, 1.0, 30.0, 0.0, 249000.0, 1.3, 136.0, 1.0, 1.0, 0.0], [40.0, 0.0, 90.0, 0.0, 35.0, 0.0, 255000.0, 1.1, 136.0, 1.0, 1.0, 0.0], [73.0, 1.0, 1185.0, 0.0, 40.0, 1.0, 220000.0, 0.9, 141.0, 0.0, 0.0, 0.0], [54.0, 0.0, 582.0, 1.0, 38.0, 0.0, 264000.0, 1.8, 134.0, 1.0, 0.0, 0.0], [61.0, 1.0, 80.0, 1.0, 38.0, 0.0, 282000.0, 1.4, 137.0, 1.0, 0.0, 0.0], [64.0, 0.0, 143.0, 0.0, 25.0, 0.0, 246000.0, 2.4, 135.0, 1.0, 0.0, 0.0], [40.0, 0.0, 624.0, 0.0, 35.0, 0.0, 301000.0, 1.0, 142.0, 1.0, 1.0, 0.0], [53.0, 0.0, 207.0, 1.0, 40.0, 0.0, 223000.0, 1.2, 130.0, 0.0, 0.0, 0.0], [50.0, 0.0, 2522.0, 0.0, 30.0, 1.0, 404000.0, 0.5, 139.0, 0.0, 0.0, 0.0], [55.0, 0.0, 572.0, 1.0, 35.0, 0.0, 231000.0, 0.8, 143.0, 0.0, 0.0, 0.0], [50.0, 0.0, 245.0, 0.0, 45.0, 1.0, 274000.0, 1.0, 133.0, 1.0, 0.0, 0.0], [70.0, 0.0, 88.0, 1.0, 35.0, 1.0, 236000.0, 1.2, 132.0, 0.0, 0.0, 0.0], [53.0, 1.0, 446.0, 0.0, 60.0, 1.0, 263358.03, 1.0, 139.0, 1.0, 0.0, 0.0], [52.0, 1.0, 191.0, 1.0, 30.0, 1.0, 334000.0, 1.0, 142.0, 1.0, 1.0, 0.0], [65.0, 0.0, 326.0, 0.0, 38.0, 0.0, 294000.0, 1.7, 139.0, 0.0, 0.0, 0.0], [58.0, 0.0, 132.0, 1.0, 38.0, 1.0, 253000.0, 1.0, 139.0, 1.0, 0.0, 0.0], [45.0, 1.0, 66.0, 1.0, 25.0, 0.0, 233000.0, 0.8, 135.0, 1.0, 0.0, 0.0], [53.0, 0.0, 56.0, 0.0, 50.0, 0.0, 308000.0, 0.7, 135.0, 1.0, 1.0, 0.0], [55.0, 0.0, 66.0, 0.0, 40.0, 0.0, 203000.0, 1.0, 138.0, 1.0, 0.0, 0.0], [62.0, 1.0, 655.0, 0.0, 40.0, 0.0, 283000.0, 0.7, 133.0, 0.0, 0.0, 0.0], [68.0, 1.0, 157.0, 1.0, 60.0, 0.0, 208000.0, 1.0, 140.0, 0.0, 0.0, 0.0], [61.0, 0.0, 582.0, 1.0, 38.0, 0.0, 147000.0, 1.2, 141.0, 1.0, 0.0, 0.0], [50.0, 1.0, 298.0, 0.0, 35.0, 0.0, 362000.0, 0.9, 140.0, 1.0, 1.0, 0.0], [56.0, 1.0, 135.0, 1.0, 38.0, 0.0, 133000.0, 1.7, 140.0, 1.0, 0.0, 0.0], [45.0, 0.0, 582.0, 1.0, 38.0, 0.0, 302000.0, 0.9, 140.0, 0.0, 0.0, 0.0], [40.0, 0.0, 582.0, 1.0, 35.0, 0.0, 222000.0, 1.0, 132.0, 1.0, 0.0, 0.0], [44.0, 0.0, 582.0, 1.0, 30.0, 1.0, 263358.03, 1.6, 130.0, 1.0, 1.0, 0.0], [51.0, 0.0, 582.0, 1.0, 40.0, 0.0, 221000.0, 0.9, 134.0, 0.0, 0.0, 0.0], [67.0, 0.0, 213.0, 0.0, 38.0, 0.0, 215000.0, 1.2, 133.0, 0.0, 0.0, 0.0], [42.0, 0.0, 64.0, 0.0, 40.0, 0.0, 189000.0, 0.7, 140.0, 1.0, 0.0, 0.0], [60.0, 1.0, 257.0, 1.0, 30.0, 0.0, 150000.0, 1.0, 137.0, 1.0, 1.0, 0.0], [45.0, 0.0, 582.0, 0.0, 38.0, 1.0, 422000.0, 0.8, 137.0, 0.0, 0.0, 0.0], [70.0, 0.0, 618.0, 0.0, 35.0, 0.0, 327000.0, 1.1, 142.0, 0.0, 0.0, 0.0], [70.0, 0.0, 582.0, 1.0, 38.0, 0.0, 25100.0, 1.1, 140.0, 1.0, 0.0, 0.0], [50.0, 1.0, 1051.0, 1.0, 30.0, 0.0, 232000.0, 0.7, 136.0, 0.0, 0.0, 0.0], [55.0, 0.0, 84.0, 1.0, 38.0, 0.0, 451000.0, 1.3, 136.0, 0.0, 0.0, 0.0], [70.0, 0.0, 2695.0, 1.0, 40.0, 0.0, 241000.0, 1.0, 137.0, 1.0, 0.0, 0.0], [70.0, 0.0, 582.0, 0.0, 40.0, 0.0, 51000.0, 2.7, 136.0, 1.0, 1.0, 0.0], [42.0, 0.0, 64.0, 0.0, 30.0, 0.0, 215000.0, 3.8, 128.0, 1.0, 1.0, 0.0], [65.0, 0.0, 1688.0, 0.0, 38.0, 0.0, 263358.03, 1.1, 138.0, 1.0, 1.0, 0.0], [50.0, 1.0, 54.0, 0.0, 40.0, 0.0, 279000.0, 0.8, 141.0, 1.0, 0.0, 0.0], [55.0, 1.0, 170.0, 1.0, 40.0, 0.0, 336000.0, 1.2, 135.0, 1.0, 0.0, 0.0], [60.0, 0.0, 253.0, 0.0, 35.0, 0.0, 279000.0, 1.7, 140.0, 1.0, 0.0, 0.0], [45.0, 0.0, 582.0, 1.0, 55.0, 0.0, 543000.0, 1.0, 132.0, 0.0, 0.0, 0.0], [65.0, 0.0, 892.0, 1.0, 35.0, 0.0, 263358.03, 1.1, 142.0, 0.0, 0.0, 0.0], [90.0, 1.0, 337.0, 0.0, 38.0, 0.0, 390000.0, 0.9, 144.0, 0.0, 0.0, 0.0], [45.0, 0.0, 615.0, 1.0, 55.0, 0.0, 222000.0, 0.8, 141.0, 0.0, 0.0, 0.0], [60.0, 0.0, 320.0, 0.0, 35.0, 0.0, 133000.0, 1.4, 139.0, 1.0, 0.0, 0.0], [52.0, 0.0, 190.0, 1.0, 38.0, 0.0, 382000.0, 1.0, 140.0, 1.0, 1.0, 0.0], [63.0, 1.0, 103.0, 1.0, 35.0, 0.0, 179000.0, 0.9, 136.0, 1.0, 1.0, 0.0], [62.0, 0.0, 61.0, 1.0, 38.0, 1.0, 155000.0, 1.1, 143.0, 1.0, 1.0, 0.0], [55.0, 0.0, 1820.0, 0.0, 38.0, 0.0, 270000.0, 1.2, 139.0, 0.0, 0.0, 0.0], [45.0, 0.0, 2060.0, 1.0, 60.0, 0.0, 742000.0, 0.8, 138.0, 0.0, 0.0, 0.0], [45.0, 0.0, 2413.0, 0.0, 38.0, 0.0, 140000.0, 1.4, 140.0, 1.0, 1.0, 0.0], [50.0, 0.0, 196.0, 0.0, 45.0, 0.0, 395000.0, 1.6, 136.0, 1.0, 1.0, 0.0]], \"hoverlabel\": {\"namelength\": 0}, \"hovertemplate\": \"Target=%{customdata[11]}<br>sex=%{customdata[9]}<br>age=%{customdata[0]}<br>anaemia=%{customdata[1]}<br>creatinine_phosphokinase=%{customdata[2]}<br>diabetes=%{customdata[3]}<br>ejection_fraction=%{customdata[4]}<br>high_blood_pressure=%{customdata[5]}<br>platelets=%{customdata[6]}<br>serum_creatinine=%{customdata[7]}<br>serum_sodium=%{customdata[8]}<br>smoking=%{customdata[10]}\", \"legendgroup\": \"Target=0\", \"marker\": {\"color\": \"#EF553B\"}, \"name\": \"Target=0\", \"offsetgroup\": \"Target=0\", \"orientation\": \"v\", \"points\": \"all\", \"scalegroup\": \"True\", \"showlegend\": true, \"type\": \"violin\", \"x\": [0, 0, 1, 0, 1, 1, 1, 1, 1, 0, 1, 1, 1, 0, 1, 1, 0, 0, 1, 1, 1, 1, 1, 1, 1, 1, 1, 0, 0, 1, 1, 0, 0, 0, 1, 1, 1, 1, 0, 1, 1, 1, 1, 1, 1, 1, 0, 0, 0, 0, 1, 0, 0, 0, 0, 0, 1, 1, 1, 1, 0, 1, 1, 1, 0, 1, 0, 1, 0, 0, 0, 1, 1, 1, 1, 1, 1, 1, 0, 1, 0, 1, 1, 1, 1, 1, 1, 1, 0, 0, 1, 1, 1, 1, 1, 1, 1, 0, 1, 1, 1, 0, 0, 1, 0, 1, 1, 0, 0, 0, 1, 1, 1, 1, 1, 1, 0, 0, 1, 0, 0, 1, 1, 1, 1, 1, 0, 1, 0, 1, 1, 1, 1, 0, 1, 1, 0, 0, 1, 1, 1, 1, 1, 1, 1, 0, 1, 0, 1, 1, 0, 1, 1, 1, 1, 0, 0, 0, 1, 0, 1, 1, 0, 1, 1, 1, 1, 0, 0, 1, 1, 1, 0, 1, 1, 0, 0, 1, 1, 0, 0, 1, 0, 0, 1, 1, 1, 1, 1, 1, 1, 0, 0, 0, 0, 1, 1, 1, 1, 0, 0, 1, 1], \"x0\": \" \", \"xaxis\": \"x\", \"y\": [49.0, 65.0, 53.0, 50.0, 60.0, 72.0, 70.0, 60.0, 55.0, 45.0, 41.0, 58.0, 65.0, 70.0, 42.0, 75.0, 55.0, 70.0, 67.0, 79.0, 51.0, 55.0, 65.0, 44.0, 57.0, 70.0, 60.0, 42.0, 58.0, 58.0, 63.0, 70.0, 60.0, 63.0, 65.0, 75.0, 80.0, 42.0, 60.0, 55.0, 45.0, 63.0, 45.0, 55.0, 50.0, 60.0, 58.0, 60.0, 85.0, 65.0, 60.0, 66.0, 60.0, 60.0, 43.0, 58.0, 61.0, 53.0, 53.0, 60.0, 46.0, 63.0, 81.0, 75.0, 65.0, 68.0, 62.0, 50.0, 46.0, 50.0, 61.0, 50.0, 52.0, 64.0, 60.0, 62.0, 50.0, 50.0, 65.0, 60.0, 52.0, 50.0, 85.0, 59.0, 66.0, 45.0, 63.0, 53.0, 65.0, 70.0, 51.0, 52.0, 70.0, 50.0, 65.0, 60.0, 69.0, 49.0, 63.0, 55.0, 40.0, 60.667, 40.0, 80.0, 64.0, 50.0, 73.0, 45.0, 65.0, 50.0, 60.0, 63.0, 45.0, 70.0, 60.0, 78.0, 50.0, 40.0, 85.0, 60.0, 49.0, 70.0, 50.0, 78.0, 65.0, 73.0, 70.0, 68.0, 55.0, 65.0, 42.0, 47.0, 58.0, 75.0, 58.0, 55.0, 65.0, 72.0, 70.0, 40.0, 53.0, 53.0, 77.0, 75.0, 70.0, 65.0, 55.0, 70.0, 65.0, 40.0, 73.0, 54.0, 61.0, 64.0, 40.0, 53.0, 50.0, 55.0, 50.0, 70.0, 53.0, 52.0, 65.0, 58.0, 45.0, 53.0, 55.0, 62.0, 68.0, 61.0, 50.0, 56.0, 45.0, 40.0, 44.0, 51.0, 67.0, 42.0, 60.0, 45.0, 70.0, 70.0, 50.0, 55.0, 70.0, 70.0, 42.0, 65.0, 50.0, 55.0, 60.0, 45.0, 65.0, 90.0, 45.0, 60.0, 52.0, 63.0, 62.0, 55.0, 45.0, 45.0, 50.0], \"y0\": \" \", \"yaxis\": \"y\"}],\n",
              "                        {\"legend\": {\"tracegroupgap\": 0}, \"margin\": {\"t\": 60}, \"template\": {\"data\": {\"bar\": [{\"error_x\": {\"color\": \"#2a3f5f\"}, \"error_y\": {\"color\": \"#2a3f5f\"}, \"marker\": {\"line\": {\"color\": \"#E5ECF6\", \"width\": 0.5}}, \"type\": \"bar\"}], \"barpolar\": [{\"marker\": {\"line\": {\"color\": \"#E5ECF6\", \"width\": 0.5}}, \"type\": \"barpolar\"}], \"carpet\": [{\"aaxis\": {\"endlinecolor\": \"#2a3f5f\", \"gridcolor\": \"white\", \"linecolor\": \"white\", \"minorgridcolor\": \"white\", \"startlinecolor\": \"#2a3f5f\"}, \"baxis\": {\"endlinecolor\": \"#2a3f5f\", \"gridcolor\": \"white\", \"linecolor\": \"white\", \"minorgridcolor\": \"white\", \"startlinecolor\": \"#2a3f5f\"}, \"type\": \"carpet\"}], \"choropleth\": [{\"colorbar\": {\"outlinewidth\": 0, \"ticks\": \"\"}, \"type\": \"choropleth\"}], \"contour\": [{\"colorbar\": {\"outlinewidth\": 0, \"ticks\": \"\"}, \"colorscale\": [[0.0, \"#0d0887\"], [0.1111111111111111, \"#46039f\"], [0.2222222222222222, \"#7201a8\"], [0.3333333333333333, \"#9c179e\"], [0.4444444444444444, \"#bd3786\"], [0.5555555555555556, \"#d8576b\"], [0.6666666666666666, \"#ed7953\"], [0.7777777777777778, \"#fb9f3a\"], [0.8888888888888888, \"#fdca26\"], [1.0, \"#f0f921\"]], \"type\": \"contour\"}], \"contourcarpet\": [{\"colorbar\": {\"outlinewidth\": 0, \"ticks\": \"\"}, \"type\": \"contourcarpet\"}], \"heatmap\": [{\"colorbar\": {\"outlinewidth\": 0, \"ticks\": \"\"}, \"colorscale\": [[0.0, \"#0d0887\"], [0.1111111111111111, \"#46039f\"], [0.2222222222222222, \"#7201a8\"], [0.3333333333333333, \"#9c179e\"], [0.4444444444444444, \"#bd3786\"], [0.5555555555555556, \"#d8576b\"], [0.6666666666666666, \"#ed7953\"], [0.7777777777777778, \"#fb9f3a\"], [0.8888888888888888, \"#fdca26\"], [1.0, \"#f0f921\"]], \"type\": \"heatmap\"}], \"heatmapgl\": [{\"colorbar\": {\"outlinewidth\": 0, \"ticks\": \"\"}, \"colorscale\": [[0.0, \"#0d0887\"], [0.1111111111111111, \"#46039f\"], [0.2222222222222222, \"#7201a8\"], [0.3333333333333333, \"#9c179e\"], [0.4444444444444444, \"#bd3786\"], [0.5555555555555556, \"#d8576b\"], [0.6666666666666666, \"#ed7953\"], [0.7777777777777778, \"#fb9f3a\"], [0.8888888888888888, \"#fdca26\"], [1.0, \"#f0f921\"]], \"type\": \"heatmapgl\"}], \"histogram\": [{\"marker\": {\"colorbar\": {\"outlinewidth\": 0, \"ticks\": \"\"}}, \"type\": \"histogram\"}], \"histogram2d\": [{\"colorbar\": {\"outlinewidth\": 0, \"ticks\": \"\"}, \"colorscale\": [[0.0, \"#0d0887\"], [0.1111111111111111, \"#46039f\"], [0.2222222222222222, \"#7201a8\"], [0.3333333333333333, \"#9c179e\"], [0.4444444444444444, \"#bd3786\"], [0.5555555555555556, \"#d8576b\"], [0.6666666666666666, \"#ed7953\"], [0.7777777777777778, \"#fb9f3a\"], [0.8888888888888888, \"#fdca26\"], [1.0, \"#f0f921\"]], \"type\": \"histogram2d\"}], \"histogram2dcontour\": [{\"colorbar\": {\"outlinewidth\": 0, \"ticks\": \"\"}, \"colorscale\": [[0.0, \"#0d0887\"], [0.1111111111111111, \"#46039f\"], [0.2222222222222222, \"#7201a8\"], [0.3333333333333333, \"#9c179e\"], [0.4444444444444444, \"#bd3786\"], [0.5555555555555556, \"#d8576b\"], [0.6666666666666666, \"#ed7953\"], [0.7777777777777778, \"#fb9f3a\"], [0.8888888888888888, \"#fdca26\"], [1.0, \"#f0f921\"]], \"type\": \"histogram2dcontour\"}], \"mesh3d\": [{\"colorbar\": {\"outlinewidth\": 0, \"ticks\": \"\"}, \"type\": \"mesh3d\"}], \"parcoords\": [{\"line\": {\"colorbar\": {\"outlinewidth\": 0, \"ticks\": \"\"}}, \"type\": \"parcoords\"}], \"pie\": [{\"automargin\": true, \"type\": \"pie\"}], \"scatter\": [{\"marker\": {\"colorbar\": {\"outlinewidth\": 0, \"ticks\": \"\"}}, \"type\": \"scatter\"}], \"scatter3d\": [{\"line\": {\"colorbar\": {\"outlinewidth\": 0, \"ticks\": \"\"}}, \"marker\": {\"colorbar\": {\"outlinewidth\": 0, \"ticks\": \"\"}}, \"type\": \"scatter3d\"}], \"scattercarpet\": [{\"marker\": {\"colorbar\": {\"outlinewidth\": 0, \"ticks\": \"\"}}, \"type\": \"scattercarpet\"}], \"scattergeo\": [{\"marker\": {\"colorbar\": {\"outlinewidth\": 0, \"ticks\": \"\"}}, \"type\": \"scattergeo\"}], \"scattergl\": [{\"marker\": {\"colorbar\": {\"outlinewidth\": 0, \"ticks\": \"\"}}, \"type\": \"scattergl\"}], \"scattermapbox\": [{\"marker\": {\"colorbar\": {\"outlinewidth\": 0, \"ticks\": \"\"}}, \"type\": \"scattermapbox\"}], \"scatterpolar\": [{\"marker\": {\"colorbar\": {\"outlinewidth\": 0, \"ticks\": \"\"}}, \"type\": \"scatterpolar\"}], \"scatterpolargl\": [{\"marker\": {\"colorbar\": {\"outlinewidth\": 0, \"ticks\": \"\"}}, \"type\": \"scatterpolargl\"}], \"scatterternary\": [{\"marker\": {\"colorbar\": {\"outlinewidth\": 0, \"ticks\": \"\"}}, \"type\": \"scatterternary\"}], \"surface\": [{\"colorbar\": {\"outlinewidth\": 0, \"ticks\": \"\"}, \"colorscale\": [[0.0, \"#0d0887\"], [0.1111111111111111, \"#46039f\"], [0.2222222222222222, \"#7201a8\"], [0.3333333333333333, \"#9c179e\"], [0.4444444444444444, \"#bd3786\"], [0.5555555555555556, \"#d8576b\"], [0.6666666666666666, \"#ed7953\"], [0.7777777777777778, \"#fb9f3a\"], [0.8888888888888888, \"#fdca26\"], [1.0, \"#f0f921\"]], \"type\": \"surface\"}], \"table\": [{\"cells\": {\"fill\": {\"color\": \"#EBF0F8\"}, \"line\": {\"color\": \"white\"}}, \"header\": {\"fill\": {\"color\": \"#C8D4E3\"}, \"line\": {\"color\": \"white\"}}, \"type\": \"table\"}]}, \"layout\": {\"annotationdefaults\": {\"arrowcolor\": \"#2a3f5f\", \"arrowhead\": 0, \"arrowwidth\": 1}, \"coloraxis\": {\"colorbar\": {\"outlinewidth\": 0, \"ticks\": \"\"}}, \"colorscale\": {\"diverging\": [[0, \"#8e0152\"], [0.1, \"#c51b7d\"], [0.2, \"#de77ae\"], [0.3, \"#f1b6da\"], [0.4, \"#fde0ef\"], [0.5, \"#f7f7f7\"], [0.6, \"#e6f5d0\"], [0.7, \"#b8e186\"], [0.8, \"#7fbc41\"], [0.9, \"#4d9221\"], [1, \"#276419\"]], \"sequential\": [[0.0, \"#0d0887\"], [0.1111111111111111, \"#46039f\"], [0.2222222222222222, \"#7201a8\"], [0.3333333333333333, \"#9c179e\"], [0.4444444444444444, \"#bd3786\"], [0.5555555555555556, \"#d8576b\"], [0.6666666666666666, \"#ed7953\"], [0.7777777777777778, \"#fb9f3a\"], [0.8888888888888888, \"#fdca26\"], [1.0, \"#f0f921\"]], \"sequentialminus\": [[0.0, \"#0d0887\"], [0.1111111111111111, \"#46039f\"], [0.2222222222222222, \"#7201a8\"], [0.3333333333333333, \"#9c179e\"], [0.4444444444444444, \"#bd3786\"], [0.5555555555555556, \"#d8576b\"], [0.6666666666666666, \"#ed7953\"], [0.7777777777777778, \"#fb9f3a\"], [0.8888888888888888, \"#fdca26\"], [1.0, \"#f0f921\"]]}, \"colorway\": [\"#636efa\", \"#EF553B\", \"#00cc96\", \"#ab63fa\", \"#FFA15A\", \"#19d3f3\", \"#FF6692\", \"#B6E880\", \"#FF97FF\", \"#FECB52\"], \"font\": {\"color\": \"#2a3f5f\"}, \"geo\": {\"bgcolor\": \"white\", \"lakecolor\": \"white\", \"landcolor\": \"#E5ECF6\", \"showlakes\": true, \"showland\": true, \"subunitcolor\": \"white\"}, \"hoverlabel\": {\"align\": \"left\"}, \"hovermode\": \"closest\", \"mapbox\": {\"style\": \"light\"}, \"paper_bgcolor\": \"white\", \"plot_bgcolor\": \"#E5ECF6\", \"polar\": {\"angularaxis\": {\"gridcolor\": \"white\", \"linecolor\": \"white\", \"ticks\": \"\"}, \"bgcolor\": \"#E5ECF6\", \"radialaxis\": {\"gridcolor\": \"white\", \"linecolor\": \"white\", \"ticks\": \"\"}}, \"scene\": {\"xaxis\": {\"backgroundcolor\": \"#E5ECF6\", \"gridcolor\": \"white\", \"gridwidth\": 2, \"linecolor\": \"white\", \"showbackground\": true, \"ticks\": \"\", \"zerolinecolor\": \"white\"}, \"yaxis\": {\"backgroundcolor\": \"#E5ECF6\", \"gridcolor\": \"white\", \"gridwidth\": 2, \"linecolor\": \"white\", \"showbackground\": true, \"ticks\": \"\", \"zerolinecolor\": \"white\"}, \"zaxis\": {\"backgroundcolor\": \"#E5ECF6\", \"gridcolor\": \"white\", \"gridwidth\": 2, \"linecolor\": \"white\", \"showbackground\": true, \"ticks\": \"\", \"zerolinecolor\": \"white\"}}, \"shapedefaults\": {\"line\": {\"color\": \"#2a3f5f\"}}, \"ternary\": {\"aaxis\": {\"gridcolor\": \"white\", \"linecolor\": \"white\", \"ticks\": \"\"}, \"baxis\": {\"gridcolor\": \"white\", \"linecolor\": \"white\", \"ticks\": \"\"}, \"bgcolor\": \"#E5ECF6\", \"caxis\": {\"gridcolor\": \"white\", \"linecolor\": \"white\", \"ticks\": \"\"}}, \"title\": {\"x\": 0.05}, \"xaxis\": {\"automargin\": true, \"gridcolor\": \"white\", \"linecolor\": \"white\", \"ticks\": \"\", \"title\": {\"standoff\": 15}, \"zerolinecolor\": \"white\", \"zerolinewidth\": 2}, \"yaxis\": {\"automargin\": true, \"gridcolor\": \"white\", \"linecolor\": \"white\", \"ticks\": \"\", \"title\": {\"standoff\": 15}, \"zerolinecolor\": \"white\", \"zerolinewidth\": 2}}}, \"title\": {\"text\": \"Analysis of Age & Gender on Survival Status\"}, \"violinmode\": \"group\", \"xaxis\": {\"anchor\": \"y\", \"domain\": [0.0, 1.0], \"title\": {\"text\": \"sex\"}}, \"yaxis\": {\"anchor\": \"x\", \"domain\": [0.0, 1.0], \"title\": {\"text\": \"age\"}}},\n",
              "                        {\"responsive\": true}\n",
              "                    ).then(function(){\n",
              "                            \n",
              "var gd = document.getElementById('166752e8-0b96-4e51-8f53-6572c06b4f29');\n",
              "var x = new MutationObserver(function (mutations, observer) {{\n",
              "        var display = window.getComputedStyle(gd).display;\n",
              "        if (!display || display === 'none') {{\n",
              "            console.log([gd, 'removed!']);\n",
              "            Plotly.purge(gd);\n",
              "            observer.disconnect();\n",
              "        }}\n",
              "}});\n",
              "\n",
              "// Listen for the removal of the full notebook cells\n",
              "var notebookContainer = gd.closest('#notebook-container');\n",
              "if (notebookContainer) {{\n",
              "    x.observe(notebookContainer, {childList: true});\n",
              "}}\n",
              "\n",
              "// Listen for the clearing of the current output cell\n",
              "var outputEl = gd.closest('.output');\n",
              "if (outputEl) {{\n",
              "    x.observe(outputEl, {childList: true});\n",
              "}}\n",
              "\n",
              "                        })\n",
              "                };\n",
              "                \n",
              "            </script>\n",
              "        </div>\n",
              "</body>\n",
              "</html>"
            ]
          },
          "metadata": {}
        }
      ]
    },
    {
      "cell_type": "markdown",
      "metadata": {
        "id": "1QgqmRhd244I"
      },
      "source": [
        "\n",
        "From the above visualizations we infer:\n",
        "*   Dataset consists more of males.\n",
        "*   Males of age 58-75 did not survive heart failure.\n",
        "*   Females of age 50-70 did not survive heart failure.\n",
        "\n"
      ]
    },
    {
      "cell_type": "code",
      "metadata": {
        "colab": {
          "base_uri": "https://localhost:8080/",
          "height": 542
        },
        "id": "ZvihbDGbR4jq",
        "outputId": "69e4320a-e03f-451b-abd9-b62997067bed"
      },
      "source": [
        "smoking_yes = data[data['smoking']==1]\n",
        "smoke_and_die =smoking_yes[smoking_yes[\"Target\"]==1]\n",
        "smoking_no = data[data['smoking']==0]\n",
        "nosmoke_and_die =smoking_no[smoking_no[\"Target\"]==1]\n",
        "\n",
        "labels = ['Smoking','No Smoking']\n",
        "values = [len(smoke_and_die), len(nosmoke_and_die)]\n",
        "\n",
        "fig = go.Figure(data=[go.Pie(labels=labels, values=values, hole=.4)])\n",
        "fig.update_layout(\n",
        "    title_text=\"Analysis on Death- Smoking\")\n",
        "fig.show()"
      ],
      "execution_count": 9,
      "outputs": [
        {
          "output_type": "display_data",
          "data": {
            "text/html": [
              "<html>\n",
              "<head><meta charset=\"utf-8\" /></head>\n",
              "<body>\n",
              "    <div>\n",
              "            <script src=\"https://cdnjs.cloudflare.com/ajax/libs/mathjax/2.7.5/MathJax.js?config=TeX-AMS-MML_SVG\"></script><script type=\"text/javascript\">if (window.MathJax) {MathJax.Hub.Config({SVG: {font: \"STIX-Web\"}});}</script>\n",
              "                <script type=\"text/javascript\">window.PlotlyConfig = {MathJaxConfig: 'local'};</script>\n",
              "        <script src=\"https://cdn.plot.ly/plotly-latest.min.js\"></script>    \n",
              "            <div id=\"74631d0d-f141-48bb-930e-bb381c5f6652\" class=\"plotly-graph-div\" style=\"height:525px; width:100%;\"></div>\n",
              "            <script type=\"text/javascript\">\n",
              "                \n",
              "                    window.PLOTLYENV=window.PLOTLYENV || {};\n",
              "                    \n",
              "                if (document.getElementById(\"74631d0d-f141-48bb-930e-bb381c5f6652\")) {\n",
              "                    Plotly.newPlot(\n",
              "                        '74631d0d-f141-48bb-930e-bb381c5f6652',\n",
              "                        [{\"hole\": 0.4, \"labels\": [\"Smoking\", \"No Smoking\"], \"type\": \"pie\", \"values\": [30, 66]}],\n",
              "                        {\"template\": {\"data\": {\"bar\": [{\"error_x\": {\"color\": \"#2a3f5f\"}, \"error_y\": {\"color\": \"#2a3f5f\"}, \"marker\": {\"line\": {\"color\": \"#E5ECF6\", \"width\": 0.5}}, \"type\": \"bar\"}], \"barpolar\": [{\"marker\": {\"line\": {\"color\": \"#E5ECF6\", \"width\": 0.5}}, \"type\": \"barpolar\"}], \"carpet\": [{\"aaxis\": {\"endlinecolor\": \"#2a3f5f\", \"gridcolor\": \"white\", \"linecolor\": \"white\", \"minorgridcolor\": \"white\", \"startlinecolor\": \"#2a3f5f\"}, \"baxis\": {\"endlinecolor\": \"#2a3f5f\", \"gridcolor\": \"white\", \"linecolor\": \"white\", \"minorgridcolor\": \"white\", \"startlinecolor\": \"#2a3f5f\"}, \"type\": \"carpet\"}], \"choropleth\": [{\"colorbar\": {\"outlinewidth\": 0, \"ticks\": \"\"}, \"type\": \"choropleth\"}], \"contour\": [{\"colorbar\": {\"outlinewidth\": 0, \"ticks\": \"\"}, \"colorscale\": [[0.0, \"#0d0887\"], [0.1111111111111111, \"#46039f\"], [0.2222222222222222, \"#7201a8\"], [0.3333333333333333, \"#9c179e\"], [0.4444444444444444, \"#bd3786\"], [0.5555555555555556, \"#d8576b\"], [0.6666666666666666, \"#ed7953\"], [0.7777777777777778, \"#fb9f3a\"], [0.8888888888888888, \"#fdca26\"], [1.0, \"#f0f921\"]], \"type\": \"contour\"}], \"contourcarpet\": [{\"colorbar\": {\"outlinewidth\": 0, \"ticks\": \"\"}, \"type\": \"contourcarpet\"}], \"heatmap\": [{\"colorbar\": {\"outlinewidth\": 0, \"ticks\": \"\"}, \"colorscale\": [[0.0, \"#0d0887\"], [0.1111111111111111, \"#46039f\"], [0.2222222222222222, \"#7201a8\"], [0.3333333333333333, \"#9c179e\"], [0.4444444444444444, \"#bd3786\"], [0.5555555555555556, \"#d8576b\"], [0.6666666666666666, \"#ed7953\"], [0.7777777777777778, \"#fb9f3a\"], [0.8888888888888888, \"#fdca26\"], [1.0, \"#f0f921\"]], \"type\": \"heatmap\"}], \"heatmapgl\": [{\"colorbar\": {\"outlinewidth\": 0, \"ticks\": \"\"}, \"colorscale\": [[0.0, \"#0d0887\"], [0.1111111111111111, \"#46039f\"], [0.2222222222222222, \"#7201a8\"], [0.3333333333333333, \"#9c179e\"], [0.4444444444444444, \"#bd3786\"], [0.5555555555555556, \"#d8576b\"], [0.6666666666666666, \"#ed7953\"], [0.7777777777777778, \"#fb9f3a\"], [0.8888888888888888, \"#fdca26\"], [1.0, \"#f0f921\"]], \"type\": \"heatmapgl\"}], \"histogram\": [{\"marker\": {\"colorbar\": {\"outlinewidth\": 0, \"ticks\": \"\"}}, \"type\": \"histogram\"}], \"histogram2d\": [{\"colorbar\": {\"outlinewidth\": 0, \"ticks\": \"\"}, \"colorscale\": [[0.0, \"#0d0887\"], [0.1111111111111111, \"#46039f\"], [0.2222222222222222, \"#7201a8\"], [0.3333333333333333, \"#9c179e\"], [0.4444444444444444, \"#bd3786\"], [0.5555555555555556, \"#d8576b\"], [0.6666666666666666, \"#ed7953\"], [0.7777777777777778, \"#fb9f3a\"], [0.8888888888888888, \"#fdca26\"], [1.0, \"#f0f921\"]], \"type\": \"histogram2d\"}], \"histogram2dcontour\": [{\"colorbar\": {\"outlinewidth\": 0, \"ticks\": \"\"}, \"colorscale\": [[0.0, \"#0d0887\"], [0.1111111111111111, \"#46039f\"], [0.2222222222222222, \"#7201a8\"], [0.3333333333333333, \"#9c179e\"], [0.4444444444444444, \"#bd3786\"], [0.5555555555555556, \"#d8576b\"], [0.6666666666666666, \"#ed7953\"], [0.7777777777777778, \"#fb9f3a\"], [0.8888888888888888, \"#fdca26\"], [1.0, \"#f0f921\"]], \"type\": \"histogram2dcontour\"}], \"mesh3d\": [{\"colorbar\": {\"outlinewidth\": 0, \"ticks\": \"\"}, \"type\": \"mesh3d\"}], \"parcoords\": [{\"line\": {\"colorbar\": {\"outlinewidth\": 0, \"ticks\": \"\"}}, \"type\": \"parcoords\"}], \"pie\": [{\"automargin\": true, \"type\": \"pie\"}], \"scatter\": [{\"marker\": {\"colorbar\": {\"outlinewidth\": 0, \"ticks\": \"\"}}, \"type\": \"scatter\"}], \"scatter3d\": [{\"line\": {\"colorbar\": {\"outlinewidth\": 0, \"ticks\": \"\"}}, \"marker\": {\"colorbar\": {\"outlinewidth\": 0, \"ticks\": \"\"}}, \"type\": \"scatter3d\"}], \"scattercarpet\": [{\"marker\": {\"colorbar\": {\"outlinewidth\": 0, \"ticks\": \"\"}}, \"type\": \"scattercarpet\"}], \"scattergeo\": [{\"marker\": {\"colorbar\": {\"outlinewidth\": 0, \"ticks\": \"\"}}, \"type\": \"scattergeo\"}], \"scattergl\": [{\"marker\": {\"colorbar\": {\"outlinewidth\": 0, \"ticks\": \"\"}}, \"type\": \"scattergl\"}], \"scattermapbox\": [{\"marker\": {\"colorbar\": {\"outlinewidth\": 0, \"ticks\": \"\"}}, \"type\": \"scattermapbox\"}], \"scatterpolar\": [{\"marker\": {\"colorbar\": {\"outlinewidth\": 0, \"ticks\": \"\"}}, \"type\": \"scatterpolar\"}], \"scatterpolargl\": [{\"marker\": {\"colorbar\": {\"outlinewidth\": 0, \"ticks\": \"\"}}, \"type\": \"scatterpolargl\"}], \"scatterternary\": [{\"marker\": {\"colorbar\": {\"outlinewidth\": 0, \"ticks\": \"\"}}, \"type\": \"scatterternary\"}], \"surface\": [{\"colorbar\": {\"outlinewidth\": 0, \"ticks\": \"\"}, \"colorscale\": [[0.0, \"#0d0887\"], [0.1111111111111111, \"#46039f\"], [0.2222222222222222, \"#7201a8\"], [0.3333333333333333, \"#9c179e\"], [0.4444444444444444, \"#bd3786\"], [0.5555555555555556, \"#d8576b\"], [0.6666666666666666, \"#ed7953\"], [0.7777777777777778, \"#fb9f3a\"], [0.8888888888888888, \"#fdca26\"], [1.0, \"#f0f921\"]], \"type\": \"surface\"}], \"table\": [{\"cells\": {\"fill\": {\"color\": \"#EBF0F8\"}, \"line\": {\"color\": \"white\"}}, \"header\": {\"fill\": {\"color\": \"#C8D4E3\"}, \"line\": {\"color\": \"white\"}}, \"type\": \"table\"}]}, \"layout\": {\"annotationdefaults\": {\"arrowcolor\": \"#2a3f5f\", \"arrowhead\": 0, \"arrowwidth\": 1}, \"coloraxis\": {\"colorbar\": {\"outlinewidth\": 0, \"ticks\": \"\"}}, \"colorscale\": {\"diverging\": [[0, \"#8e0152\"], [0.1, \"#c51b7d\"], [0.2, \"#de77ae\"], [0.3, \"#f1b6da\"], [0.4, \"#fde0ef\"], [0.5, \"#f7f7f7\"], [0.6, \"#e6f5d0\"], [0.7, \"#b8e186\"], [0.8, \"#7fbc41\"], [0.9, \"#4d9221\"], [1, \"#276419\"]], \"sequential\": [[0.0, \"#0d0887\"], [0.1111111111111111, \"#46039f\"], [0.2222222222222222, \"#7201a8\"], [0.3333333333333333, \"#9c179e\"], [0.4444444444444444, \"#bd3786\"], [0.5555555555555556, \"#d8576b\"], [0.6666666666666666, \"#ed7953\"], [0.7777777777777778, \"#fb9f3a\"], [0.8888888888888888, \"#fdca26\"], [1.0, \"#f0f921\"]], \"sequentialminus\": [[0.0, \"#0d0887\"], [0.1111111111111111, \"#46039f\"], [0.2222222222222222, \"#7201a8\"], [0.3333333333333333, \"#9c179e\"], [0.4444444444444444, \"#bd3786\"], [0.5555555555555556, \"#d8576b\"], [0.6666666666666666, \"#ed7953\"], [0.7777777777777778, \"#fb9f3a\"], [0.8888888888888888, \"#fdca26\"], [1.0, \"#f0f921\"]]}, \"colorway\": [\"#636efa\", \"#EF553B\", \"#00cc96\", \"#ab63fa\", \"#FFA15A\", \"#19d3f3\", \"#FF6692\", \"#B6E880\", \"#FF97FF\", \"#FECB52\"], \"font\": {\"color\": \"#2a3f5f\"}, \"geo\": {\"bgcolor\": \"white\", \"lakecolor\": \"white\", \"landcolor\": \"#E5ECF6\", \"showlakes\": true, \"showland\": true, \"subunitcolor\": \"white\"}, \"hoverlabel\": {\"align\": \"left\"}, \"hovermode\": \"closest\", \"mapbox\": {\"style\": \"light\"}, \"paper_bgcolor\": \"white\", \"plot_bgcolor\": \"#E5ECF6\", \"polar\": {\"angularaxis\": {\"gridcolor\": \"white\", \"linecolor\": \"white\", \"ticks\": \"\"}, \"bgcolor\": \"#E5ECF6\", \"radialaxis\": {\"gridcolor\": \"white\", \"linecolor\": \"white\", \"ticks\": \"\"}}, \"scene\": {\"xaxis\": {\"backgroundcolor\": \"#E5ECF6\", \"gridcolor\": \"white\", \"gridwidth\": 2, \"linecolor\": \"white\", \"showbackground\": true, \"ticks\": \"\", \"zerolinecolor\": \"white\"}, \"yaxis\": {\"backgroundcolor\": \"#E5ECF6\", \"gridcolor\": \"white\", \"gridwidth\": 2, \"linecolor\": \"white\", \"showbackground\": true, \"ticks\": \"\", \"zerolinecolor\": \"white\"}, \"zaxis\": {\"backgroundcolor\": \"#E5ECF6\", \"gridcolor\": \"white\", \"gridwidth\": 2, \"linecolor\": \"white\", \"showbackground\": true, \"ticks\": \"\", \"zerolinecolor\": \"white\"}}, \"shapedefaults\": {\"line\": {\"color\": \"#2a3f5f\"}}, \"ternary\": {\"aaxis\": {\"gridcolor\": \"white\", \"linecolor\": \"white\", \"ticks\": \"\"}, \"baxis\": {\"gridcolor\": \"white\", \"linecolor\": \"white\", \"ticks\": \"\"}, \"bgcolor\": \"#E5ECF6\", \"caxis\": {\"gridcolor\": \"white\", \"linecolor\": \"white\", \"ticks\": \"\"}}, \"title\": {\"x\": 0.05}, \"xaxis\": {\"automargin\": true, \"gridcolor\": \"white\", \"linecolor\": \"white\", \"ticks\": \"\", \"title\": {\"standoff\": 15}, \"zerolinecolor\": \"white\", \"zerolinewidth\": 2}, \"yaxis\": {\"automargin\": true, \"gridcolor\": \"white\", \"linecolor\": \"white\", \"ticks\": \"\", \"title\": {\"standoff\": 15}, \"zerolinecolor\": \"white\", \"zerolinewidth\": 2}}}, \"title\": {\"text\": \"Analysis on Death- Smoking\"}},\n",
              "                        {\"responsive\": true}\n",
              "                    ).then(function(){\n",
              "                            \n",
              "var gd = document.getElementById('74631d0d-f141-48bb-930e-bb381c5f6652');\n",
              "var x = new MutationObserver(function (mutations, observer) {{\n",
              "        var display = window.getComputedStyle(gd).display;\n",
              "        if (!display || display === 'none') {{\n",
              "            console.log([gd, 'removed!']);\n",
              "            Plotly.purge(gd);\n",
              "            observer.disconnect();\n",
              "        }}\n",
              "}});\n",
              "\n",
              "// Listen for the removal of the full notebook cells\n",
              "var notebookContainer = gd.closest('#notebook-container');\n",
              "if (notebookContainer) {{\n",
              "    x.observe(notebookContainer, {childList: true});\n",
              "}}\n",
              "\n",
              "// Listen for the clearing of the current output cell\n",
              "var outputEl = gd.closest('.output');\n",
              "if (outputEl) {{\n",
              "    x.observe(outputEl, {childList: true});\n",
              "}}\n",
              "\n",
              "                        })\n",
              "                };\n",
              "                \n",
              "            </script>\n",
              "        </div>\n",
              "</body>\n",
              "</html>"
            ]
          },
          "metadata": {}
        }
      ]
    },
    {
      "cell_type": "markdown",
      "metadata": {
        "id": "2o-bgIrGS5jd"
      },
      "source": [
        "From the piechart, we infer:\n",
        "*   Out of deaths, 68.8% people didn't smoke\n",
        "*   In the dataset 67.9% people dont smoke. So, the above may not be a clear representation of deaths where smoking is a reason.\n",
        "\n"
      ]
    },
    {
      "cell_type": "code",
      "metadata": {
        "colab": {
          "base_uri": "https://localhost:8080/",
          "height": 542
        },
        "id": "Ir4xc0VTV3wL",
        "outputId": "f3cdb6a3-7172-4902-e927-3d6f030cb796"
      },
      "source": [
        "diab_yes = data[data['diabetes']==1]\n",
        "diab_and_die =diab_yes[diab_yes[\"Target\"]==1]\n",
        "diab_no = data[data['diabetes']==0]\n",
        "nodiab_and_die =diab_no[diab_no[\"Target\"]==1]\n",
        "\n",
        "labels = ['Diabetes','No Diabetes']\n",
        "values = [len(diab_and_die), len(nodiab_and_die)]\n",
        "\n",
        "fig = go.Figure(data=[go.Pie(labels=labels, values=values, hole=.4)])\n",
        "fig.update_layout(\n",
        "    title_text=\"Analysis on Death- Diabetes\")\n",
        "fig.show()"
      ],
      "execution_count": 10,
      "outputs": [
        {
          "output_type": "display_data",
          "data": {
            "text/html": [
              "<html>\n",
              "<head><meta charset=\"utf-8\" /></head>\n",
              "<body>\n",
              "    <div>\n",
              "            <script src=\"https://cdnjs.cloudflare.com/ajax/libs/mathjax/2.7.5/MathJax.js?config=TeX-AMS-MML_SVG\"></script><script type=\"text/javascript\">if (window.MathJax) {MathJax.Hub.Config({SVG: {font: \"STIX-Web\"}});}</script>\n",
              "                <script type=\"text/javascript\">window.PlotlyConfig = {MathJaxConfig: 'local'};</script>\n",
              "        <script src=\"https://cdn.plot.ly/plotly-latest.min.js\"></script>    \n",
              "            <div id=\"0b7a2cce-a2cd-44bd-a7ee-cb93fb0d1e09\" class=\"plotly-graph-div\" style=\"height:525px; width:100%;\"></div>\n",
              "            <script type=\"text/javascript\">\n",
              "                \n",
              "                    window.PLOTLYENV=window.PLOTLYENV || {};\n",
              "                    \n",
              "                if (document.getElementById(\"0b7a2cce-a2cd-44bd-a7ee-cb93fb0d1e09\")) {\n",
              "                    Plotly.newPlot(\n",
              "                        '0b7a2cce-a2cd-44bd-a7ee-cb93fb0d1e09',\n",
              "                        [{\"hole\": 0.4, \"labels\": [\"Diabetes\", \"No Diabetes\"], \"type\": \"pie\", \"values\": [40, 56]}],\n",
              "                        {\"template\": {\"data\": {\"bar\": [{\"error_x\": {\"color\": \"#2a3f5f\"}, \"error_y\": {\"color\": \"#2a3f5f\"}, \"marker\": {\"line\": {\"color\": \"#E5ECF6\", \"width\": 0.5}}, \"type\": \"bar\"}], \"barpolar\": [{\"marker\": {\"line\": {\"color\": \"#E5ECF6\", \"width\": 0.5}}, \"type\": \"barpolar\"}], \"carpet\": [{\"aaxis\": {\"endlinecolor\": \"#2a3f5f\", \"gridcolor\": \"white\", \"linecolor\": \"white\", \"minorgridcolor\": \"white\", \"startlinecolor\": \"#2a3f5f\"}, \"baxis\": {\"endlinecolor\": \"#2a3f5f\", \"gridcolor\": \"white\", \"linecolor\": \"white\", \"minorgridcolor\": \"white\", \"startlinecolor\": \"#2a3f5f\"}, \"type\": \"carpet\"}], \"choropleth\": [{\"colorbar\": {\"outlinewidth\": 0, \"ticks\": \"\"}, \"type\": \"choropleth\"}], \"contour\": [{\"colorbar\": {\"outlinewidth\": 0, \"ticks\": \"\"}, \"colorscale\": [[0.0, \"#0d0887\"], [0.1111111111111111, \"#46039f\"], [0.2222222222222222, \"#7201a8\"], [0.3333333333333333, \"#9c179e\"], [0.4444444444444444, \"#bd3786\"], [0.5555555555555556, \"#d8576b\"], [0.6666666666666666, \"#ed7953\"], [0.7777777777777778, \"#fb9f3a\"], [0.8888888888888888, \"#fdca26\"], [1.0, \"#f0f921\"]], \"type\": \"contour\"}], \"contourcarpet\": [{\"colorbar\": {\"outlinewidth\": 0, \"ticks\": \"\"}, \"type\": \"contourcarpet\"}], \"heatmap\": [{\"colorbar\": {\"outlinewidth\": 0, \"ticks\": \"\"}, \"colorscale\": [[0.0, \"#0d0887\"], [0.1111111111111111, \"#46039f\"], [0.2222222222222222, \"#7201a8\"], [0.3333333333333333, \"#9c179e\"], [0.4444444444444444, \"#bd3786\"], [0.5555555555555556, \"#d8576b\"], [0.6666666666666666, \"#ed7953\"], [0.7777777777777778, \"#fb9f3a\"], [0.8888888888888888, \"#fdca26\"], [1.0, \"#f0f921\"]], \"type\": \"heatmap\"}], \"heatmapgl\": [{\"colorbar\": {\"outlinewidth\": 0, \"ticks\": \"\"}, \"colorscale\": [[0.0, \"#0d0887\"], [0.1111111111111111, \"#46039f\"], [0.2222222222222222, \"#7201a8\"], [0.3333333333333333, \"#9c179e\"], [0.4444444444444444, \"#bd3786\"], [0.5555555555555556, \"#d8576b\"], [0.6666666666666666, \"#ed7953\"], [0.7777777777777778, \"#fb9f3a\"], [0.8888888888888888, \"#fdca26\"], [1.0, \"#f0f921\"]], \"type\": \"heatmapgl\"}], \"histogram\": [{\"marker\": {\"colorbar\": {\"outlinewidth\": 0, \"ticks\": \"\"}}, \"type\": \"histogram\"}], \"histogram2d\": [{\"colorbar\": {\"outlinewidth\": 0, \"ticks\": \"\"}, \"colorscale\": [[0.0, \"#0d0887\"], [0.1111111111111111, \"#46039f\"], [0.2222222222222222, \"#7201a8\"], [0.3333333333333333, \"#9c179e\"], [0.4444444444444444, \"#bd3786\"], [0.5555555555555556, \"#d8576b\"], [0.6666666666666666, \"#ed7953\"], [0.7777777777777778, \"#fb9f3a\"], [0.8888888888888888, \"#fdca26\"], [1.0, \"#f0f921\"]], \"type\": \"histogram2d\"}], \"histogram2dcontour\": [{\"colorbar\": {\"outlinewidth\": 0, \"ticks\": \"\"}, \"colorscale\": [[0.0, \"#0d0887\"], [0.1111111111111111, \"#46039f\"], [0.2222222222222222, \"#7201a8\"], [0.3333333333333333, \"#9c179e\"], [0.4444444444444444, \"#bd3786\"], [0.5555555555555556, \"#d8576b\"], [0.6666666666666666, \"#ed7953\"], [0.7777777777777778, \"#fb9f3a\"], [0.8888888888888888, \"#fdca26\"], [1.0, \"#f0f921\"]], \"type\": \"histogram2dcontour\"}], \"mesh3d\": [{\"colorbar\": {\"outlinewidth\": 0, \"ticks\": \"\"}, \"type\": \"mesh3d\"}], \"parcoords\": [{\"line\": {\"colorbar\": {\"outlinewidth\": 0, \"ticks\": \"\"}}, \"type\": \"parcoords\"}], \"pie\": [{\"automargin\": true, \"type\": \"pie\"}], \"scatter\": [{\"marker\": {\"colorbar\": {\"outlinewidth\": 0, \"ticks\": \"\"}}, \"type\": \"scatter\"}], \"scatter3d\": [{\"line\": {\"colorbar\": {\"outlinewidth\": 0, \"ticks\": \"\"}}, \"marker\": {\"colorbar\": {\"outlinewidth\": 0, \"ticks\": \"\"}}, \"type\": \"scatter3d\"}], \"scattercarpet\": [{\"marker\": {\"colorbar\": {\"outlinewidth\": 0, \"ticks\": \"\"}}, \"type\": \"scattercarpet\"}], \"scattergeo\": [{\"marker\": {\"colorbar\": {\"outlinewidth\": 0, \"ticks\": \"\"}}, \"type\": \"scattergeo\"}], \"scattergl\": [{\"marker\": {\"colorbar\": {\"outlinewidth\": 0, \"ticks\": \"\"}}, \"type\": \"scattergl\"}], \"scattermapbox\": [{\"marker\": {\"colorbar\": {\"outlinewidth\": 0, \"ticks\": \"\"}}, \"type\": \"scattermapbox\"}], \"scatterpolar\": [{\"marker\": {\"colorbar\": {\"outlinewidth\": 0, \"ticks\": \"\"}}, \"type\": \"scatterpolar\"}], \"scatterpolargl\": [{\"marker\": {\"colorbar\": {\"outlinewidth\": 0, \"ticks\": \"\"}}, \"type\": \"scatterpolargl\"}], \"scatterternary\": [{\"marker\": {\"colorbar\": {\"outlinewidth\": 0, \"ticks\": \"\"}}, \"type\": \"scatterternary\"}], \"surface\": [{\"colorbar\": {\"outlinewidth\": 0, \"ticks\": \"\"}, \"colorscale\": [[0.0, \"#0d0887\"], [0.1111111111111111, \"#46039f\"], [0.2222222222222222, \"#7201a8\"], [0.3333333333333333, \"#9c179e\"], [0.4444444444444444, \"#bd3786\"], [0.5555555555555556, \"#d8576b\"], [0.6666666666666666, \"#ed7953\"], [0.7777777777777778, \"#fb9f3a\"], [0.8888888888888888, \"#fdca26\"], [1.0, \"#f0f921\"]], \"type\": \"surface\"}], \"table\": [{\"cells\": {\"fill\": {\"color\": \"#EBF0F8\"}, \"line\": {\"color\": \"white\"}}, \"header\": {\"fill\": {\"color\": \"#C8D4E3\"}, \"line\": {\"color\": \"white\"}}, \"type\": \"table\"}]}, \"layout\": {\"annotationdefaults\": {\"arrowcolor\": \"#2a3f5f\", \"arrowhead\": 0, \"arrowwidth\": 1}, \"coloraxis\": {\"colorbar\": {\"outlinewidth\": 0, \"ticks\": \"\"}}, \"colorscale\": {\"diverging\": [[0, \"#8e0152\"], [0.1, \"#c51b7d\"], [0.2, \"#de77ae\"], [0.3, \"#f1b6da\"], [0.4, \"#fde0ef\"], [0.5, \"#f7f7f7\"], [0.6, \"#e6f5d0\"], [0.7, \"#b8e186\"], [0.8, \"#7fbc41\"], [0.9, \"#4d9221\"], [1, \"#276419\"]], \"sequential\": [[0.0, \"#0d0887\"], [0.1111111111111111, \"#46039f\"], [0.2222222222222222, \"#7201a8\"], [0.3333333333333333, \"#9c179e\"], [0.4444444444444444, \"#bd3786\"], [0.5555555555555556, \"#d8576b\"], [0.6666666666666666, \"#ed7953\"], [0.7777777777777778, \"#fb9f3a\"], [0.8888888888888888, \"#fdca26\"], [1.0, \"#f0f921\"]], \"sequentialminus\": [[0.0, \"#0d0887\"], [0.1111111111111111, \"#46039f\"], [0.2222222222222222, \"#7201a8\"], [0.3333333333333333, \"#9c179e\"], [0.4444444444444444, \"#bd3786\"], [0.5555555555555556, \"#d8576b\"], [0.6666666666666666, \"#ed7953\"], [0.7777777777777778, \"#fb9f3a\"], [0.8888888888888888, \"#fdca26\"], [1.0, \"#f0f921\"]]}, \"colorway\": [\"#636efa\", \"#EF553B\", \"#00cc96\", \"#ab63fa\", \"#FFA15A\", \"#19d3f3\", \"#FF6692\", \"#B6E880\", \"#FF97FF\", \"#FECB52\"], \"font\": {\"color\": \"#2a3f5f\"}, \"geo\": {\"bgcolor\": \"white\", \"lakecolor\": \"white\", \"landcolor\": \"#E5ECF6\", \"showlakes\": true, \"showland\": true, \"subunitcolor\": \"white\"}, \"hoverlabel\": {\"align\": \"left\"}, \"hovermode\": \"closest\", \"mapbox\": {\"style\": \"light\"}, \"paper_bgcolor\": \"white\", \"plot_bgcolor\": \"#E5ECF6\", \"polar\": {\"angularaxis\": {\"gridcolor\": \"white\", \"linecolor\": \"white\", \"ticks\": \"\"}, \"bgcolor\": \"#E5ECF6\", \"radialaxis\": {\"gridcolor\": \"white\", \"linecolor\": \"white\", \"ticks\": \"\"}}, \"scene\": {\"xaxis\": {\"backgroundcolor\": \"#E5ECF6\", \"gridcolor\": \"white\", \"gridwidth\": 2, \"linecolor\": \"white\", \"showbackground\": true, \"ticks\": \"\", \"zerolinecolor\": \"white\"}, \"yaxis\": {\"backgroundcolor\": \"#E5ECF6\", \"gridcolor\": \"white\", \"gridwidth\": 2, \"linecolor\": \"white\", \"showbackground\": true, \"ticks\": \"\", \"zerolinecolor\": \"white\"}, \"zaxis\": {\"backgroundcolor\": \"#E5ECF6\", \"gridcolor\": \"white\", \"gridwidth\": 2, \"linecolor\": \"white\", \"showbackground\": true, \"ticks\": \"\", \"zerolinecolor\": \"white\"}}, \"shapedefaults\": {\"line\": {\"color\": \"#2a3f5f\"}}, \"ternary\": {\"aaxis\": {\"gridcolor\": \"white\", \"linecolor\": \"white\", \"ticks\": \"\"}, \"baxis\": {\"gridcolor\": \"white\", \"linecolor\": \"white\", \"ticks\": \"\"}, \"bgcolor\": \"#E5ECF6\", \"caxis\": {\"gridcolor\": \"white\", \"linecolor\": \"white\", \"ticks\": \"\"}}, \"title\": {\"x\": 0.05}, \"xaxis\": {\"automargin\": true, \"gridcolor\": \"white\", \"linecolor\": \"white\", \"ticks\": \"\", \"title\": {\"standoff\": 15}, \"zerolinecolor\": \"white\", \"zerolinewidth\": 2}, \"yaxis\": {\"automargin\": true, \"gridcolor\": \"white\", \"linecolor\": \"white\", \"ticks\": \"\", \"title\": {\"standoff\": 15}, \"zerolinecolor\": \"white\", \"zerolinewidth\": 2}}}, \"title\": {\"text\": \"Analysis on Death- Diabetes\"}},\n",
              "                        {\"responsive\": true}\n",
              "                    ).then(function(){\n",
              "                            \n",
              "var gd = document.getElementById('0b7a2cce-a2cd-44bd-a7ee-cb93fb0d1e09');\n",
              "var x = new MutationObserver(function (mutations, observer) {{\n",
              "        var display = window.getComputedStyle(gd).display;\n",
              "        if (!display || display === 'none') {{\n",
              "            console.log([gd, 'removed!']);\n",
              "            Plotly.purge(gd);\n",
              "            observer.disconnect();\n",
              "        }}\n",
              "}});\n",
              "\n",
              "// Listen for the removal of the full notebook cells\n",
              "var notebookContainer = gd.closest('#notebook-container');\n",
              "if (notebookContainer) {{\n",
              "    x.observe(notebookContainer, {childList: true});\n",
              "}}\n",
              "\n",
              "// Listen for the clearing of the current output cell\n",
              "var outputEl = gd.closest('.output');\n",
              "if (outputEl) {{\n",
              "    x.observe(outputEl, {childList: true});\n",
              "}}\n",
              "\n",
              "                        })\n",
              "                };\n",
              "                \n",
              "            </script>\n",
              "        </div>\n",
              "</body>\n",
              "</html>"
            ]
          },
          "metadata": {}
        }
      ]
    },
    {
      "cell_type": "markdown",
      "metadata": {
        "id": "Acq58X-nZSeK"
      },
      "source": [
        "In the dataset, 58.3% of people who succumbed to heart failure had no diabetes.\n",
        "\n"
      ]
    },
    {
      "cell_type": "markdown",
      "metadata": {
        "id": "ulR256Pjq_DK"
      },
      "source": [
        "# **Prepare Data for the model**\n"
      ]
    },
    {
      "cell_type": "code",
      "metadata": {
        "id": "o89EX4HerDc6"
      },
      "source": [
        "y=data['Target']\n",
        "X=data.drop(columns='Target',axis=0)\n",
        "X_train,X_test,y_train,y_test=train_test_split(X,y,test_size=0.2,random_state=2)"
      ],
      "execution_count": 11,
      "outputs": []
    },
    {
      "cell_type": "markdown",
      "metadata": {
        "id": "ABoqqA_2uDoT"
      },
      "source": [
        "## **Train model**"
      ]
    },
    {
      "cell_type": "code",
      "metadata": {
        "colab": {
          "base_uri": "https://localhost:8080/"
        },
        "id": "Z2skzElstZtT",
        "outputId": "9531e126-eb4e-49eb-af1d-6424721e0fcc"
      },
      "source": [
        "#model=GradientBoostingClassifier(max_depth=5,max_leaf_nodes=40,learning_rate=0.03, n_estimators=200,random_state=1)\n",
        "#Accuracy of 73.3%\n",
        "#model=LogisticRegression(random_state=0) \n",
        "#Accuracy of 75%\n",
        "model=RandomForestClassifier(max_features=1, max_depth=50, random_state=2)\n",
        "model.fit(X_train,y_train)\n"
      ],
      "execution_count": 12,
      "outputs": [
        {
          "output_type": "execute_result",
          "data": {
            "text/plain": [
              "RandomForestClassifier(bootstrap=True, ccp_alpha=0.0, class_weight=None,\n",
              "                       criterion='gini', max_depth=50, max_features=1,\n",
              "                       max_leaf_nodes=None, max_samples=None,\n",
              "                       min_impurity_decrease=0.0, min_impurity_split=None,\n",
              "                       min_samples_leaf=1, min_samples_split=2,\n",
              "                       min_weight_fraction_leaf=0.0, n_estimators=100,\n",
              "                       n_jobs=None, oob_score=False, random_state=2, verbose=0,\n",
              "                       warm_start=False)"
            ]
          },
          "metadata": {},
          "execution_count": 12
        }
      ]
    },
    {
      "cell_type": "markdown",
      "metadata": {
        "id": "opSGdr870ojJ"
      },
      "source": [
        "# **Evaluate Model**"
      ]
    },
    {
      "cell_type": "code",
      "metadata": {
        "colab": {
          "base_uri": "https://localhost:8080/"
        },
        "id": "lZ1hccskuKe8",
        "outputId": "a5f8375e-3272-416b-8e69-c231980b80a0"
      },
      "source": [
        "pred=model.predict(X_test)\n",
        "score=accuracy_score(pred,y_test)\n",
        "score\n"
      ],
      "execution_count": 13,
      "outputs": [
        {
          "output_type": "execute_result",
          "data": {
            "text/plain": [
              "0.8"
            ]
          },
          "metadata": {},
          "execution_count": 13
        }
      ]
    },
    {
      "cell_type": "code",
      "metadata": {
        "colab": {
          "base_uri": "https://localhost:8080/",
          "height": 574
        },
        "id": "_V-vMwW8udtg",
        "outputId": "7e801ad2-2f24-4df2-fef2-7dc67379c9cd"
      },
      "source": [
        "cm = confusion_matrix(y_test,pred)\n",
        "plt.figure()\n",
        "plot_confusion_matrix(cm, figsize=(12,8), hide_ticks=True, cmap=plt.cm.Blues)\n",
        "plt.title(\"Random Forest Classifer - Confusion Matrix\")\n",
        "plt.xticks(range(2), [\"Heart Not Failed\",\"Heart Fail\"], fontsize=16)\n",
        "plt.yticks(range(2), [\"Heart Not Failed\",\"Heart Fail\"], fontsize=16)\n",
        "print(\"Model Accuracy: {}%\".format(score*100))\n",
        "plt.show()"
      ],
      "execution_count": 14,
      "outputs": [
        {
          "output_type": "stream",
          "name": "stdout",
          "text": [
            "Model Accuracy: 80.0%\n"
          ]
        },
        {
          "output_type": "display_data",
          "data": {
            "text/plain": [
              "<Figure size 432x288 with 0 Axes>"
            ]
          },
          "metadata": {}
        },
        {
          "output_type": "display_data",
          "data": {
            "image/png": "[encoded data removed]",
            "text/plain": [
              "<Figure size 864x576 with 1 Axes>"
            ]
          },
          "metadata": {
            "needs_background": "light"
          }
        }
      ]
    },
    {
      "cell_type": "markdown",
      "metadata": {
        "id": "c_0R5pODnSGm"
      },
      "source": [
        "## **Pickle the Model**"
      ]
    },
    {
      "cell_type": "code",
      "metadata": {
        "id": "yEVJjIPEnW4v"
      },
      "source": [
        "model_filename='heart_failure_model.pkl'\n",
        "pickle.dump(model, open(model_filename,'wb'))"
      ],
      "execution_count": 15,
      "outputs": []
    },
    {
      "cell_type": "code",
      "metadata": {
        "colab": {
          "base_uri": "https://localhost:8080/"
        },
        "id": "DULB-gO58Q6g",
        "outputId": "8be4abac-610c-4ac8-ded1-83630ec2bc07"
      },
      "source": [
        "q=np.asarray([75,1,246,1,16,1,127005,1.2,140,1,1])\n",
        "print(model.predict(q.reshape(1,-1)))"
      ],
      "execution_count": 16,
      "outputs": [
        {
          "output_type": "stream",
          "name": "stdout",
          "text": [
            "[1]\n"
          ]
        }
      ]
    }
  ]
}